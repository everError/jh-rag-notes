{
 "cells": [
  {
   "cell_type": "markdown",
   "id": "9a898547",
   "metadata": {},
   "source": [
    "## 1. 환경 설정"
   ]
  },
  {
   "cell_type": "markdown",
   "id": "9e15f76c",
   "metadata": {},
   "source": [
    "`(1) Env 환경변수`"
   ]
  },
  {
   "cell_type": "code",
   "execution_count": 7,
   "id": "3f6d77f8",
   "metadata": {},
   "outputs": [
    {
     "data": {
      "text/plain": [
       "True"
      ]
     },
     "execution_count": 7,
     "metadata": {},
     "output_type": "execute_result"
    }
   ],
   "source": [
    "from dotenv import load_dotenv\n",
    "load_dotenv()"
   ]
  },
  {
   "cell_type": "markdown",
   "id": "0800c924",
   "metadata": {},
   "source": [
    "`(2) 기본 라이브러리`"
   ]
  },
  {
   "cell_type": "code",
   "execution_count": 8,
   "id": "bca641c2",
   "metadata": {},
   "outputs": [],
   "source": [
    "import os\n",
    "from glob import glob\n",
    "\n",
    "from pprint import pprint\n",
    "import json"
   ]
  },
  {
   "cell_type": "markdown",
   "id": "cee0237e",
   "metadata": {},
   "source": [
    "## 2. 다양한 문서 형식 처리하기"
   ]
  },
  {
   "cell_type": "markdown",
   "id": "26db4266",
   "metadata": {},
   "source": [
    "### 2.1 PDF 문서 "
   ]
  },
  {
   "cell_type": "code",
   "execution_count": 9,
   "id": "6650c629",
   "metadata": {},
   "outputs": [
    {
     "data": {
      "text/plain": [
       "15"
      ]
     },
     "execution_count": 9,
     "metadata": {},
     "output_type": "execute_result"
    }
   ],
   "source": [
    "from langchain_community.document_loaders import PyPDFLoader\n",
    "\n",
    "pdf_loader = PyPDFLoader('./data/transformer.pdf') #해당 경로의 pdf 파일을 문서 객체로 변환\n",
    "pdf_docs = pdf_loader.load()\n",
    "\n",
    "len(pdf_docs)"
   ]
  },
  {
   "cell_type": "code",
   "execution_count": 10,
   "id": "12d92305",
   "metadata": {},
   "outputs": [
    {
     "data": {
      "text/plain": [
       "list"
      ]
     },
     "execution_count": 10,
     "metadata": {},
     "output_type": "execute_result"
    }
   ],
   "source": [
    "type(pdf_docs)"
   ]
  },
  {
   "cell_type": "code",
   "execution_count": 11,
   "id": "6d23dd27",
   "metadata": {},
   "outputs": [
    {
     "data": {
      "text/plain": [
       "Document(metadata={'source': './data/transformer.pdf', 'page': 0}, page_content='Provided proper attribution is provided, Google hereby grants permission to\\nreproduce the tables and figures in this paper solely for use in journalistic or\\nscholarly works.\\nAttention Is All You Need\\nAshish Vaswani∗\\nGoogle Brain\\navaswani@google.comNoam Shazeer∗\\nGoogle Brain\\nnoam@google.comNiki Parmar∗\\nGoogle Research\\nnikip@google.comJakob Uszkoreit∗\\nGoogle Research\\nusz@google.com\\nLlion Jones∗\\nGoogle Research\\nllion@google.comAidan N. Gomez∗ †\\nUniversity of Toronto\\naidan@cs.toronto.eduŁukasz Kaiser∗\\nGoogle Brain\\nlukaszkaiser@google.com\\nIllia Polosukhin∗ ‡\\nillia.polosukhin@gmail.com\\nAbstract\\nThe dominant sequence transduction models are based on complex recurrent or\\nconvolutional neural networks that include an encoder and a decoder. The best\\nperforming models also connect the encoder and decoder through an attention\\nmechanism. We propose a new simple network architecture, the Transformer,\\nbased solely on attention mechanisms, dispensing with recurrence and convolutions\\nentirely. Experiments on two machine translation tasks show these models to\\nbe superior in quality while being more parallelizable and requiring significantly\\nless time to train. Our model achieves 28.4 BLEU on the WMT 2014 English-\\nto-German translation task, improving over the existing best results, including\\nensembles, by over 2 BLEU. On the WMT 2014 English-to-French translation task,\\nour model establishes a new single-model state-of-the-art BLEU score of 41.8 after\\ntraining for 3.5 days on eight GPUs, a small fraction of the training costs of the\\nbest models from the literature. We show that the Transformer generalizes well to\\nother tasks by applying it successfully to English constituency parsing both with\\nlarge and limited training data.\\n∗Equal contribution. Listing order is random. Jakob proposed replacing RNNs with self-attention and started\\nthe effort to evaluate this idea. Ashish, with Illia, designed and implemented the first Transformer models and\\nhas been crucially involved in every aspect of this work. Noam proposed scaled dot-product attention, multi-head\\nattention and the parameter-free position representation and became the other person involved in nearly every\\ndetail. Niki designed, implemented, tuned and evaluated countless model variants in our original codebase and\\ntensor2tensor. Llion also experimented with novel model variants, was responsible for our initial codebase, and\\nefficient inference and visualizations. Lukasz and Aidan spent countless long days designing various parts of and\\nimplementing tensor2tensor, replacing our earlier codebase, greatly improving results and massively accelerating\\nour research.\\n†Work performed while at Google Brain.\\n‡Work performed while at Google Research.\\n31st Conference on Neural Information Processing Systems (NIPS 2017), Long Beach, CA, USA.arXiv:1706.03762v7  [cs.CL]  2 Aug 2023')"
      ]
     },
     "execution_count": 11,
     "metadata": {},
     "output_type": "execute_result"
    }
   ],
   "source": [
    "pdf_docs[0] #metadata = 파일경로, 페이지 / page_content = 내용"
   ]
  },
  {
   "cell_type": "code",
   "execution_count": 8,
   "id": "a414b9ba",
   "metadata": {},
   "outputs": [
    {
     "name": "stdout",
     "output_type": "stream",
     "text": [
      "{'source': './data/transformer.pdf', 'page': 0}\n"
     ]
    }
   ],
   "source": [
    "print(pdf_docs[0].metadata)"
   ]
  },
  {
   "cell_type": "code",
   "execution_count": 9,
   "id": "d6d394f1",
   "metadata": {},
   "outputs": [
    {
     "name": "stdout",
     "output_type": "stream",
     "text": [
      "Provided proper attribution is provided, Google hereby grants permission to\n",
      "reproduce the tables and figures in this paper solely for use in journalistic or\n",
      "scholarly works.\n",
      "Attention Is All You Need\n",
      "Ashish Vaswani∗\n",
      "Google Brain\n",
      "avaswani@google.comNoam Shazeer∗\n",
      "Google Brain\n",
      "noam@google.comNiki Parmar∗\n",
      "Google Research\n",
      "nikip@google.comJakob Uszkoreit∗\n",
      "Google Research\n",
      "usz@google.com\n",
      "Llion Jones∗\n",
      "Google Research\n",
      "llion@google.comAidan N. Gomez∗ †\n",
      "University of Toronto\n",
      "aidan@cs.toronto.eduŁukasz Kaiser∗\n",
      "Google Brain\n",
      "lukaszkaiser@google.com\n",
      "Illia Polosukhin∗ ‡\n",
      "illia.polosukhin@gmail.com\n",
      "Abstract\n",
      "The dominant sequence transduction models are based on complex recurrent or\n",
      "convolutional neural networks that include an encoder and a decoder. The best\n",
      "performing models also connect the encoder and decoder through an attention\n",
      "mechanism. We propose a new simple network architecture, the Transformer,\n",
      "based solely on attention mechanisms, dispensing with recurrence and convolutions\n",
      "entirely. Experiments on two machine translation tasks show these models to\n",
      "be superior in quality while being more parallelizable and requiring significantly\n",
      "less time to train. Our model achieves 28.4 BLEU on the WMT 2014 English-\n",
      "to-German translation task, improving over the existing best results, including\n",
      "ensembles, by over 2 BLEU. On the WMT 2014 English-to-French translation task,\n",
      "our model establishes a new single-model state-of-the-art BLEU score of 41.8 after\n",
      "training for 3.5 days on eight GPUs, a small fraction of the training costs of the\n",
      "best models from the literature. We show that the Transformer generalizes well to\n",
      "other tasks by applying it successfully to English constituency parsing both with\n",
      "large and limited training data.\n",
      "∗Equal contribution. Listing order is random. Jakob proposed replacing RNNs with self-attention and started\n",
      "the effort to evaluate this idea. Ashish, with Illia, designed and implemented the first Transformer models and\n",
      "has been crucially involved in every aspect of this work. Noam proposed scaled dot-product attention, multi-head\n",
      "attention and the parameter-free position representation and became the other person involved in nearly every\n",
      "detail. Niki designed, implemented, tuned and evaluated countless model variants in our original codebase and\n",
      "tensor2tensor. Llion also experimented with novel model variants, was responsible for our initial codebase, and\n",
      "efficient inference and visualizations. Lukasz and Aidan spent countless long days designing various parts of and\n",
      "implementing tensor2tensor, replacing our earlier codebase, greatly improving results and massively accelerating\n",
      "our research.\n",
      "†Work performed while at Google Brain.\n",
      "‡Work performed while at Google Research.\n",
      "31st Conference on Neural Information Processing Systems (NIPS 2017), Long Beach, CA, USA.arXiv:1706.03762v7  [cs.CL]  2 Aug 2023\n"
     ]
    }
   ],
   "source": [
    "print(pdf_docs[0].page_content)"
   ]
  },
  {
   "cell_type": "markdown",
   "id": "6178f9a0",
   "metadata": {},
   "source": [
    "### 2.2 웹 문서 "
   ]
  },
  {
   "cell_type": "code",
   "execution_count": 10,
   "id": "7e8732bb",
   "metadata": {},
   "outputs": [
    {
     "name": "stderr",
     "output_type": "stream",
     "text": [
      "USER_AGENT environment variable not set, consider setting it to identify your requests.\n"
     ]
    },
    {
     "data": {
      "text/plain": [
       "2"
      ]
     },
     "execution_count": 10,
     "metadata": {},
     "output_type": "execute_result"
    }
   ],
   "source": [
    "from langchain_community.document_loaders import WebBaseLoader\n",
    "\n",
    "web_loader = WebBaseLoader([\"https://python.langchain.com/\", \"https://js.langchain.com/\"]) # 각 페이지마다 하나의 문서 객체\n",
    "\n",
    "web_docs = web_loader.load()\n",
    "\n",
    "len(web_docs)\n"
   ]
  },
  {
   "cell_type": "code",
   "execution_count": 11,
   "id": "64688c45",
   "metadata": {},
   "outputs": [
    {
     "data": {
      "text/plain": [
       "{'source': 'https://python.langchain.com/',\n",
       " 'title': 'Introduction | 🦜️🔗 LangChain',\n",
       " 'description': 'LangChain is a framework for developing applications powered by large language models (LLMs).',\n",
       " 'language': 'en'}"
      ]
     },
     "execution_count": 11,
     "metadata": {},
     "output_type": "execute_result"
    }
   ],
   "source": [
    "web_docs[0].metadata"
   ]
  },
  {
   "cell_type": "code",
   "execution_count": 12,
   "id": "451fda18",
   "metadata": {},
   "outputs": [
    {
     "name": "stdout",
     "output_type": "stream",
     "text": [
      "\n",
      "\n",
      "\n",
      "\n",
      "\n",
      "Introduction | 🦜️🔗 LangChain\n",
      "\n",
      "\n",
      "\n",
      "\n",
      "\n",
      "\n",
      "Skip to main contentIntegrationsAPI ReferenceMoreContributingPeopleError referenceLangSmithLangGraphLangChain HubLangChain JS/TSv0.3v0.3v0.2v0.1💬SearchIntroductionTutorialsBuild a Question Answering application over a Graph DatabaseTutorialsBuild a simple LLM application with chat models and prompt templatesBuild a ChatbotBuild a Retrieval Augmented Generation (RAG) App: Part 2Build an Extraction ChainBuild an AgentTaggingBuild a Retrieval Augmented Generation (RAG) App: Part 1Build a semantic search engineBuild a Question/Answering system over SQL dataSummarize TextHow-to guidesHow-to guidesHow to use tools in a chainHow to use a vectorstore as a retrieverHow to add memory to chatbotsHow to use example selectorsHow to add a semantic layer over graph databaseHow to invoke runnables in parallelHow to stream chat model responsesHow to add default invocation args to a RunnableHow to add retrieval to chatbotsHow to use few shot examples in chat modelsHow to do tool/function callingHow to install LangChain packagesHow to add examples to the prompt for query analysisHow to use few shot examplesHow to run custom functionsHow to use output parsers to parse an LLM response into structured formatHow to handle cases where no queries are generatedHow to route between sub-chainsHow to return structured data from a modelHow to summarize text through parallelizationHow to summarize text through iterative refinementHow to summarize text in a single LLM callHow to use toolkitsHow to add ad-hoc tool calling capability to LLMs and Chat ModelsBuild an Agent with AgentExecutor (Legacy)How to construct knowledge graphsHow to partially format prompt templatesHow to handle multiple queries when doing query analysisHow to use built-in tools and toolkitsHow to pass through arguments from one step to the nextHow to compose prompts togetherHow to handle multiple retrievers when doing query analysisHow to add values to a chain's stateHow to construct filters for query analysisHow to configure runtime chain internalsHow deal with high cardinality categoricals when doing query analysisCustom Document LoaderHow to use the MultiQueryRetrieverHow to add scores to retriever resultsCachingHow to use callbacks in async environmentsHow to attach callbacks to a runnableHow to propagate callbacks  constructorHow to dispatch custom callback eventsHow to pass callbacks in at runtimeHow to split by characterHow to cache chat model responsesHow to handle rate limitsHow to init any model in one lineHow to track token usage in ChatModelsHow to add tools to chatbotsHow to split codeHow to do retrieval with contextual compressionHow to convert Runnables to ToolsHow to create custom callback handlersHow to create a custom chat model classCustom EmbeddingsHow to create a custom LLM classCustom RetrieverHow to create toolsHow to debug your LLM appsHow to load CSVsHow to load documents from a directoryHow to load HTMLHow to load JSONHow to load MarkdownHow to load Microsoft Office filesHow to load PDFsHow to load web pagesHow to create a dynamic (self-constructing) chainText embedding modelsHow to combine results from multiple retrieversHow to select examples from a LangSmith datasetHow to select examples by lengthHow to select examples by maximal marginal relevance (MMR)How to select examples by n-gram overlapHow to select examples by similarityHow to use reference examples when doing extractionHow to handle long text when doing extractionHow to use prompting alone (no tool calling) to do extractionHow to add fallbacks to a runnableHow to filter messagesHybrid SearchHow to use the LangChain indexing APIHow to inspect runnablesLangChain Expression Language CheatsheetHow to cache LLM responsesHow to track token usage for LLMsRun models locallyHow to get log probabilitiesHow to reorder retrieved results to mitigate the \"lost in the middle\" effectHow to split Markdown by HeadersHow to merge consecutive messages of the same typeHow to add message historyHow to migrate from legacy LangChain agents to LangGraphHow to retrieve using multiple vectors per documentHow to pass multimodal data directly to modelsHow to use multimodal promptsHow to create a custom Output ParserHow to use the output-fixing parserHow to parse JSON outputHow to retry when a parsing error occursHow to parse text from message objectsHow to parse XML outputHow to parse YAML outputHow to use the Parent Document RetrieverHow to use LangChain with different Pydantic versionsHow to add chat historyHow to get a RAG application to add citationsHow to do per-user retrievalHow to get your RAG application to return sourcesHow to stream results from your RAG applicationHow to split JSON dataHow to recursively split text by charactersResponse metadataHow to pass runtime secrets to runnablesHow to do \"self-querying\" retrievalHow to split text based on semantic similarityHow to chain runnablesHow to save and load LangChain objectsHow to split text by tokensHow to split HTMLHow to do question answering over CSVsHow to deal with large databases when doing SQL question-answeringHow to better prompt when doing SQL question-answeringHow to do query validation as part of SQL question-answeringHow to stream runnablesHow to stream responses from an LLMHow to use a time-weighted vector store retrieverHow to return artifacts from a toolHow to use chat models to call toolsHow to disable parallel tool callingHow to force models to call a toolHow to access the RunnableConfig from a toolHow to pass tool outputs to chat modelsHow to pass run time values to toolsHow to stream events from a toolHow to stream tool callsHow to convert tools to OpenAI FunctionsHow to handle tool errorsHow to use few-shot prompting with tool callingHow to add a human-in-the-loop for toolsHow to bind model-specific toolsHow to trim messagesHow to create and query vector storesConceptual guideAgentsArchitectureAsync programming with langchainCallbacksChat historyChat modelsDocument loadersEmbedding modelsEvaluationExample selectorsFew-shot promptingConceptual guideKey-value storesLangChain Expression Language (LCEL)MessagesMultimodalityOutput parsersPrompt TemplatesRetrieval augmented generation (RAG)RetrievalRetrieversRunnable interfaceStreamingStructured outputsTestingString-in, string-out llmsText splittersTokensTool callingToolsTracingVector storesWhy LangChain?Ecosystem🦜🛠️ LangSmith🦜🕸️ LangGraphVersionsv0.3v0.2Pydantic compatibilityMigrating from v0.0 chainsHow to migrate from v0.0 chainsMigrating from ConstitutionalChainMigrating from ConversationalChainMigrating from ConversationalRetrievalChainMigrating from LLMChainMigrating from LLMMathChainMigrating from LLMRouterChainMigrating from MapReduceDocumentsChainMigrating from MapRerankDocumentsChainMigrating from MultiPromptChainMigrating from RefineDocumentsChainMigrating from RetrievalQAMigrating from StuffDocumentsChainUpgrading to LangGraph memoryHow to migrate to LangGraph memoryHow to use BaseChatMessageHistory with LangGraphMigrating off ConversationBufferMemory or ConversationStringBufferMemoryMigrating off ConversationBufferWindowMemory or ConversationTokenBufferMemoryMigrating off ConversationSummaryMemory or ConversationSummaryBufferMemoryA Long-Term Memory AgentRelease policySecurity PolicyIntroductionOn this pageIntroduction\n",
      "LangChain is a framework for developing applications powered by large language models (LLMs).\n",
      "LangChain simplifies every stage of the LLM application lifecycle:\n",
      "\n",
      "Development: Build your applications using LangChain's open-source components and third-party integrations.\n",
      "Use LangGraph to build stateful agents with first-class streaming and human-in-the-loop support.\n",
      "Productionization: Use LangSmith to inspect, monitor and evaluate your applications, so that you can continuously optimize and deploy with confidence.\n",
      "Deployment: Turn your LangGraph applications into production-ready APIs and Assistants with LangGraph Platform.\n",
      "\n",
      "\n",
      "\n",
      "LangChain implements a standard interface for large language models and related\n",
      "technologies, such as embedding models and vector stores, and integrates with\n",
      "hundreds of providers. See the integrations page for\n",
      "more.\n",
      "\n",
      "Select chat model:OpenAI▾OpenAIAnthropicAzureGoogleAWSCohereNVIDIAFireworks AIGroqMistral AITogether AIDatabrickspip install -qU langchain-openaiimport getpassimport osif not os.environ.get(\"OPENAI_API_KEY\"):  os.environ[\"OPENAI_API_KEY\"] = getpass.getpass(\"Enter API key for OpenAI: \")from langchain_openai import ChatOpenAImodel = ChatOpenAI(model=\"gpt-4o-mini\")\n",
      "model.invoke(\"Hello, world!\")\n",
      "noteThese docs focus on the Python LangChain library. Head here for docs on the JavaScript LangChain library.\n",
      "Architecture​\n",
      "The LangChain framework consists of multiple open-source libraries. Read more in the\n",
      "Architecture page.\n",
      "\n",
      "langchain-core: Base abstractions for chat models and other components.\n",
      "Integration packages (e.g. langchain-openai, langchain-anthropic, etc.): Important integrations have been split into lightweight packages that are co-maintained by the LangChain team and the integration developers.\n",
      "langchain: Chains, agents, and retrieval strategies that make up an application's cognitive architecture.\n",
      "langchain-community: Third-party integrations that are community maintained.\n",
      "langgraph: Orchestration framework for combining LangChain components into production-ready applications with persistence, streaming, and other key features. See LangGraph documentation.\n",
      "\n",
      "Guides​\n",
      "Tutorials​\n",
      "If you're looking to build something specific or are more of a hands-on learner, check out our tutorials section.\n",
      "This is the best place to get started.\n",
      "These are the best ones to get started with:\n",
      "\n",
      "Build a Simple LLM Application\n",
      "Build a Chatbot\n",
      "Build an Agent\n",
      "Introduction to LangGraph\n",
      "\n",
      "Explore the full list of LangChain tutorials here, and check out other LangGraph tutorials here. To learn more about LangGraph, check out our first LangChain Academy course, Introduction to LangGraph, available here.\n",
      "How-to guides​\n",
      "Here you’ll find short answers to “How do I….?” types of questions.\n",
      "These how-to guides don’t cover topics in depth – you’ll find that material in the Tutorials and the API Reference.\n",
      "However, these guides will help you quickly accomplish common tasks using chat models,\n",
      "vector stores, and other common LangChain components.\n",
      "Check out LangGraph-specific how-tos here.\n",
      "Conceptual guide​\n",
      "Introductions to all the key parts of LangChain you’ll need to know! Here you'll find high level explanations of all LangChain concepts.\n",
      "For a deeper dive into LangGraph concepts, check out this page.\n",
      "Integrations​\n",
      "LangChain is part of a rich ecosystem of tools that integrate with our framework and build on top of it.\n",
      "If you're looking to get up and running quickly with chat models, vector stores,\n",
      "or other LangChain components from a specific provider, check out our growing list of integrations.\n",
      "API reference​\n",
      "Head to the reference section for full documentation of all classes and methods in the LangChain Python packages.\n",
      "Ecosystem​\n",
      "🦜🛠️ LangSmith​\n",
      "Trace and evaluate your language model applications and intelligent agents to help you move from prototype to production.\n",
      "🦜🕸️ LangGraph​\n",
      "Build stateful, multi-actor applications with LLMs. Integrates smoothly with LangChain, but can be used without it.\n",
      "Additional resources​\n",
      "Versions​\n",
      "See what changed in v0.3, learn how to migrate legacy code, read up on our versioning policies, and more.\n",
      "Security​\n",
      "Read up on security best practices to make sure you're developing safely with LangChain.\n",
      "Contributing​\n",
      "Check out the developer's guide for guidelines on contributing and help getting your dev environment set up.Edit this pageWas this page helpful?NextTutorialsArchitectureGuidesTutorialsHow-to guidesConceptual guideIntegrationsAPI referenceEcosystem🦜🛠️ LangSmith🦜🕸️ LangGraphAdditional resourcesVersionsSecurityContributingCommunityTwitterGitHubOrganizationPythonJS/TSMoreHomepageBlogYouTubeCopyright © 2024 LangChain, Inc.\n",
      "\n",
      "\n"
     ]
    }
   ],
   "source": [
    "print(web_docs[0].page_content)"
   ]
  },
  {
   "cell_type": "markdown",
   "id": "8b473046",
   "metadata": {},
   "source": [
    "### 2.3 JSON 파일 "
   ]
  },
  {
   "cell_type": "code",
   "execution_count": 13,
   "id": "125d323f",
   "metadata": {},
   "outputs": [
    {
     "name": "stdout",
     "output_type": "stream",
     "text": [
      "문서의 수: 5\n",
      "--------------------------------------------------\n",
      "처음 문서의 메타데이터: \n",
      " {'source': 'D:\\\\LeeJaeHeon\\\\GithubNotes\\\\rag-notes\\\\experiments\\\\langchain_env\\\\data\\\\kakao_chat.json', 'seq_num': 1}\n",
      "--------------------------------------------------\n",
      "처음 문서의 내용: \n",
      " 안녕하세요 여러분, 오늘 회의 시간 확인차 연락드립니다.\n"
     ]
    }
   ],
   "source": [
    "from langchain_community.document_loaders import JSONLoader\n",
    "\n",
    "json_loader = JSONLoader(\n",
    "    file_path=\"./data/kakao_chat.json\",\n",
    "    jq_schema=\".messages[].content\",    # messages 배열의 content 필드만 추출\n",
    "    text_content=True,                  # 추출하려는 필드가 텍스트인지 여부\n",
    ")\n",
    "\n",
    "json_docs = json_loader.load()\n",
    "\n",
    "print(\"문서의 수:\", len(json_docs))\n",
    "print(\"-\" * 50)\n",
    "print(\"처음 문서의 메타데이터: \\n\", json_docs[0].metadata)\n",
    "print(\"-\" * 50)\n",
    "print(\"처음 문서의 내용: \\n\", json_docs[0].page_content)"
   ]
  },
  {
   "cell_type": "code",
   "execution_count": 14,
   "id": "3b6004a6",
   "metadata": {},
   "outputs": [
    {
     "name": "stdout",
     "output_type": "stream",
     "text": [
      "문서의 수: 5\n",
      "--------------------------------------------------\n",
      "처음 문서의 메타데이터: \n",
      " {'source': 'D:\\\\LeeJaeHeon\\\\GithubNotes\\\\rag-notes\\\\experiments\\\\langchain_env\\\\data\\\\kakao_chat.json', 'seq_num': 1}\n",
      "--------------------------------------------------\n",
      "처음 문서의 내용: \n",
      " {\"sender\": \"\\uae40\\ucca0\\uc218\", \"timestamp\": \"2023-09-15 09:30:22\", \"content\": \"\\uc548\\ub155\\ud558\\uc138\\uc694 \\uc5ec\\ub7ec\\ubd84, \\uc624\\ub298 \\ud68c\\uc758 \\uc2dc\\uac04 \\ud655\\uc778\\ucc28 \\uc5f0\\ub77d\\ub4dc\\ub9bd\\ub2c8\\ub2e4.\"}\n"
     ]
    }
   ],
   "source": [
    "from langchain_community.document_loaders import JSONLoader\n",
    "\n",
    "json_loader = JSONLoader(\n",
    "    file_path=\"./data/kakao_chat.json\",\n",
    "    jq_schema=\".messages[]\",    # messages 배열의 모든 아이템을 추출\n",
    "    text_content=False,          # 추출하려는 필드가 텍스트인지 여부\n",
    ")\n",
    "\n",
    "json_docs = json_loader.load()\n",
    "\n",
    "print(\"문서의 수:\", len(json_docs))\n",
    "print(\"-\" * 50)\n",
    "print(\"처음 문서의 메타데이터: \\n\", json_docs[0].metadata)\n",
    "print(\"-\" * 50)\n",
    "print(\"처음 문서의 내용: \\n\", json_docs[0].page_content)"
   ]
  },
  {
   "cell_type": "code",
   "execution_count": 15,
   "id": "6eafd1fb",
   "metadata": {},
   "outputs": [
    {
     "name": "stdout",
     "output_type": "stream",
     "text": [
      "문서의 수: 5\n",
      "--------------------------------------------------\n",
      "처음 문서의 메타데이터: \n",
      " {'source': 'D:\\\\LeeJaeHeon\\\\GithubNotes\\\\rag-notes\\\\experiments\\\\langchain_env\\\\data\\\\kakao_chat.json', 'seq_num': 1}\n",
      "--------------------------------------------------\n",
      "처음 문서의 내용: \n",
      " {\"sender\": \"김철수\", \"timestamp\": \"2023-09-15 09:30:22\", \"content\": \"안녕하세요 여러분, 오늘 회의 시간 확인차 연락드립니다.\"}\n"
     ]
    }
   ],
   "source": [
    "# 유니코드 디코딩 (한글 문자들이 유니코드 이스케이프 시퀀스로 인코딩되어 있음)\n",
    "from langchain_core.documents import Document\n",
    "\n",
    "decoded_json_docs = []\n",
    "for doc in json_docs:\n",
    "\n",
    "    decoded_data = json.loads(doc.page_content)\n",
    "\n",
    "    # decoded_json_docs.append({\n",
    "    #     \"metadata\": doc.metadata,\n",
    "    #     \"page_content\": json.dumps(decoded_data, ensure_ascii=False)\n",
    "    # })\n",
    "\n",
    "    document_obj = Document(page_content=json.dumps(decoded_data, ensure_ascii=False), metadata=doc.metadata)\n",
    "    decoded_json_docs.append(document_obj)\n",
    "\n",
    "print(\"문서의 수:\", len(decoded_json_docs))\n",
    "print(\"-\" * 50)\n",
    "# print(\"처음 문서의 메타데이터: \\n\", decoded_json_docs[0][\"metadata\"])\n",
    "print(\"처음 문서의 메타데이터: \\n\", decoded_json_docs[0].metadata)\n",
    "print(\"-\" * 50)\n",
    "# print(\"처음 문서의 내용: \\n\", decoded_json_docs[0][\"page_content\"])\n",
    "print(\"처음 문서의 내용: \\n\", decoded_json_docs[0].page_content)\n"
   ]
  },
  {
   "cell_type": "code",
   "execution_count": 16,
   "id": "c112cbea",
   "metadata": {},
   "outputs": [
    {
     "name": "stdout",
     "output_type": "stream",
     "text": [
      "문서의 수: 5\n",
      "--------------------------------------------------\n",
      "처음 문서의 메타데이터: \n",
      " {'source': 'D:\\\\LeeJaeHeon\\\\GithubNotes\\\\rag-notes\\\\experiments\\\\langchain_env\\\\data\\\\kakao_chat.json', 'seq_num': 1, 'sender': '김철수', 'timestamp': '2023-09-15 09:30:22'}\n",
      "--------------------------------------------------\n",
      "처음 문서의 내용: \n",
      " 안녕하세요 여러분, 오늘 회의 시간 확인차 연락드립니다.\n"
     ]
    }
   ],
   "source": [
    "# 메타데이터 추가하기\n",
    "def metadata_func(record: dict, metadata: dict) -> dict:\n",
    "    metadata[\"sender\"] = record.get(\"sender\")\n",
    "    metadata[\"timestamp\"] = record.get(\"timestamp\")\n",
    "    return metadata\n",
    "\n",
    "\n",
    "json_loader = JSONLoader(\n",
    "    file_path=\"./data/kakao_chat.json\",\n",
    "    jq_schema=\".messages[]\",\n",
    "    content_key=\"content\",          #jq_schema를 .messages[].content로 지정한 것과 동일한 결과\n",
    "    metadata_func=metadata_func,\n",
    ")\n",
    "\n",
    "json_docs = json_loader.load()\n",
    "\n",
    "print(\"문서의 수:\", len(json_docs))\n",
    "print(\"-\" * 50)\n",
    "print(\"처음 문서의 메타데이터: \\n\", json_docs[0].metadata)\n",
    "print(\"-\" * 50)\n",
    "print(\"처음 문서의 내용: \\n\", json_docs[0].page_content)"
   ]
  },
  {
   "cell_type": "markdown",
   "id": "ee0d5ede",
   "metadata": {},
   "source": [
    "```json\n",
    "{\"sender\": \"김철수\", \"timestamp\": \"2023-09-15 09:30:22\", \"content\": \"안녕하세요 여러분, 오늘 회의 시간 확인차 연락드립니다.\"}\n",
    "{\"sender\": \"이영희\", \"timestamp\": \"2023-09-15 09:31:05\", \"content\": \"네, 안녕하세요. 오후 2시에 하기로 했어요.\"}\n",
    "```"
   ]
  },
  {
   "cell_type": "code",
   "execution_count": 17,
   "id": "32253193",
   "metadata": {},
   "outputs": [
    {
     "name": "stdout",
     "output_type": "stream",
     "text": [
      "문서의 수: 5\n",
      "--------------------------------------------------\n",
      "처음 문서의 메타데이터: \n",
      " {'source': 'D:\\\\LeeJaeHeon\\\\GithubNotes\\\\rag-notes\\\\experiments\\\\langchain_env\\\\data\\\\kakao_chat.jsonl', 'seq_num': 1}\n",
      "--------------------------------------------------\n",
      "처음 문서의 내용: \n",
      " 안녕하세요 여러분, 오늘 회의 시간 확인차 연락드립니다.\n"
     ]
    }
   ],
   "source": [
    "# JSONL 파일 로드하기\n",
    "json_loader = JSONLoader(\n",
    "    file_path=\"./data/kakao_chat.jsonl\",    \n",
    "    jq_schema=\".content\",\n",
    "    json_lines=True,#동일한 구조의 json객체가 반복되는 json lines 파일\n",
    ")\n",
    "\n",
    "json_docs = json_loader.load()\n",
    "\n",
    "print(\"문서의 수:\", len(json_docs))\n",
    "print(\"-\" * 50)\n",
    "print(\"처음 문서의 메타데이터: \\n\", json_docs[0].metadata)\n",
    "print(\"-\" * 50)\n",
    "print(\"처음 문서의 내용: \\n\", json_docs[0].page_content)\n"
   ]
  },
  {
   "cell_type": "code",
   "execution_count": 18,
   "id": "9335e1f3",
   "metadata": {},
   "outputs": [
    {
     "name": "stdout",
     "output_type": "stream",
     "text": [
      "문서의 수: 5\n",
      "--------------------------------------------------\n",
      "처음 문서의 메타데이터: \n",
      " {'source': 'D:\\\\LeeJaeHeon\\\\GithubNotes\\\\rag-notes\\\\experiments\\\\langchain_env\\\\data\\\\kakao_chat.jsonl', 'seq_num': 1}\n",
      "--------------------------------------------------\n",
      "처음 문서의 내용: \n",
      " 안녕하세요 여러분, 오늘 회의 시간 확인차 연락드립니다.\n"
     ]
    }
   ],
   "source": [
    "# JSONL 파일 로드하기\n",
    "json_loader = JSONLoader(\n",
    "    file_path=\"./data/kakao_chat.jsonl\",\n",
    "    jq_schema=\".\",  #모든 필드를 대상\n",
    "    content_key=\"content\",  #page_content 필드에 담길 대상\n",
    "    json_lines=True,\n",
    ")\n",
    "\n",
    "json_docs = json_loader.load()\n",
    "\n",
    "print(\"문서의 수:\", len(json_docs))\n",
    "print(\"-\" * 50)\n",
    "print(\"처음 문서의 메타데이터: \\n\", json_docs[0].metadata)\n",
    "print(\"-\" * 50)\n",
    "print(\"처음 문서의 내용: \\n\", json_docs[0].page_content)\n"
   ]
  },
  {
   "cell_type": "code",
   "execution_count": 19,
   "id": "255e4ff1",
   "metadata": {},
   "outputs": [
    {
     "name": "stdout",
     "output_type": "stream",
     "text": [
      "문서의 수: 5\n",
      "--------------------------------------------------\n",
      "처음 문서의 메타데이터: \n",
      " {'source': 'D:\\\\LeeJaeHeon\\\\GithubNotes\\\\rag-notes\\\\experiments\\\\langchain_env\\\\data\\\\kakao_chat.jsonl', 'seq_num': 1, 'sender': '김철수', 'timestamp': '2023-09-15 09:30:22'}\n",
      "--------------------------------------------------\n",
      "처음 문서의 내용: \n",
      " 안녕하세요 여러분, 오늘 회의 시간 확인차 연락드립니다.\n"
     ]
    }
   ],
   "source": [
    "# 메타데이터 추가하기\n",
    "def metadata_func(record: dict, metadata: dict) -> dict:\n",
    "    metadata[\"sender\"] = record.get(\"sender\")\n",
    "    metadata[\"timestamp\"] = record.get(\"timestamp\")\n",
    "    return metadata\n",
    "\n",
    "json_loader = JSONLoader(\n",
    "    file_path=\"./data/kakao_chat.jsonl\",\n",
    "    jq_schema=\".\",\n",
    "    content_key=\"content\",\n",
    "    metadata_func=metadata_func,\n",
    "    json_lines=True,\n",
    ")\n",
    "\n",
    "json_docs = json_loader.load()\n",
    "\n",
    "print(\"문서의 수:\", len(json_docs))\n",
    "print(\"-\" * 50)\n",
    "print(\"처음 문서의 메타데이터: \\n\", json_docs[0].metadata)\n",
    "print(\"-\" * 50)\n",
    "print(\"처음 문서의 내용: \\n\", json_docs[0].page_content)"
   ]
  },
  {
   "cell_type": "markdown",
   "id": "c1ae07e1",
   "metadata": {},
   "source": [
    "### 2.4  CSV 문서 "
   ]
  },
  {
   "cell_type": "code",
   "execution_count": 20,
   "id": "ba7a8b7e",
   "metadata": {},
   "outputs": [
    {
     "name": "stdout",
     "output_type": "stream",
     "text": [
      "문서의 수: 10\n",
      "--------------------------------------------------\n",
      "처음 문서의 메타데이터: \n",
      " {'source': './data/kbo_teams_2023.csv', 'row': 0}\n",
      "--------------------------------------------------\n",
      "처음 문서의 내용: \n",
      " Team: KIA 타이거즈\n",
      "City: 광주\n",
      "Founded: 1982\n",
      "Home Stadium: 광주-기아 챔피언스 필드\n",
      "Championships: 11\n",
      "Introduction: KBO 리그의 전통 강호로, 역대 최다 우승 기록을 보유하고 있다. '타이거즈 스피릿'으로 유명하며, 양현종, 안치홍 등 스타 선수들을 배출했다. 광주를 연고로 하는 유일한 프로야구팀으로 지역 사랑이 강하다.\n"
     ]
    }
   ],
   "source": [
    "from langchain_community.document_loaders.csv_loader import CSVLoader\n",
    "\n",
    "csv_loader = CSVLoader(file_path=\"./data/kbo_teams_2023.csv\", encoding=\"utf-8\")\n",
    "csv_docs = csv_loader.load()\n",
    "\n",
    "print(\"문서의 수:\", len(csv_docs))\n",
    "print(\"-\" * 50)\n",
    "print(\"처음 문서의 메타데이터: \\n\", csv_docs[0].metadata)\n",
    "print(\"-\" * 50)\n",
    "print(\"처음 문서의 내용: \\n\", csv_docs[0].page_content)"
   ]
  },
  {
   "cell_type": "markdown",
   "id": "8aae49f4",
   "metadata": {},
   "source": [
    "## 3. 효과적인 텍스트 분할 전략"
   ]
  },
  {
   "cell_type": "markdown",
   "id": "7e7e0cf4",
   "metadata": {},
   "source": [
    "### 3-1 RecursiveCharacterTextSplitter"
   ]
  },
  {
   "cell_type": "code",
   "execution_count": 21,
   "id": "7dc4bc25",
   "metadata": {},
   "outputs": [
    {
     "name": "stdout",
     "output_type": "stream",
     "text": [
      "생성된 텍스트 청크 수: 52\n",
      "각 청크의 길이: [981, 910, 975, 451, 932, 998, 904, 907, 995, 385, 926, 953, 216, 920, 996, 829, 975, 910, 906, 870, 929, 961, 945, 997, 195, 977, 968, 947, 933, 965, 938, 915, 733, 952, 945, 948, 618, 980, 989, 994, 624, 945, 914, 946, 918, 988, 929, 929, 849, 812, 814, 817]\n"
     ]
    }
   ],
   "source": [
    "from langchain_text_splitters import RecursiveCharacterTextSplitter\n",
    "\n",
    "text_splitter = RecursiveCharacterTextSplitter(\n",
    "    chunk_size=1000,        # 청크 크기  \n",
    "    # 문장이 중간에 나눠지더라도, 일정부분 곂치도록 해서\n",
    "    # 정보의 소실없이 문맥이 잘 보존되도록 어느정도의 chunk overlap을 지정\n",
    "    chunk_overlap=200,      # 청크 중 중복되는 부분 크기\n",
    "    length_function=len,    # 글자 수를 기준으로 분할\n",
    "    # separators=[\"\\n\\n\"],  # 구분자를 덜 엄격하게 지정할 수록 chunk 사이즈가 잘 지켜지지 않을 수 있음\n",
    "    separators=[\"\\n\\n\", \"\\n\", \".\", \" \", \"\"],  # 엄격하게 청크사이즈를 지켜야 한다면 구분자를 엄격하게 설정\n",
    ")\n",
    "\n",
    "texts = text_splitter.split_documents(pdf_docs)\n",
    "print(f\"생성된 텍스트 청크 수: {len(texts)}\")\n",
    "print(f\"각 청크의 길이: {list(len(text.page_content) for text in texts)}\")"
   ]
  },
  {
   "cell_type": "markdown",
   "id": "4ee0ca46",
   "metadata": {},
   "source": [
    "- RecursiveCharacterTextSplitter는 이름에서 알 수 있듯이 재귀적으로 텍스트를 분할합니다. \n",
    "- 구분자를 순차적으로 적용하여 큰 청크에서 시작하여 점진적으로 더 작은 단위로 나눕니다. \n",
    "- 일반적으로 CharacterTextSplitter보다 더 엄격하게 크기를 준수하려고 합니다.\n"
   ]
  },
  {
   "cell_type": "code",
   "execution_count": 22,
   "id": "714ba916",
   "metadata": {},
   "outputs": [
    {
     "name": "stdout",
     "output_type": "stream",
     "text": [
      "Provided proper attribution is provided, Google hereby grants permission to\n",
      "reproduce the tables and figures in this paper solely for use in journalistic or\n",
      "scholarly works.\n",
      "Attention Is All You Need\n",
      "\n",
      "--------------------------------------------------------------------------------------------------------------------------------------------------------------------------------------------------------\n",
      "the encoder and decoder through an attention\n",
      "mechanism. We propose a new simple network architecture, the Transformer,\n",
      "based solely on attention mechanisms, dispensing with recurrence and convolutions\n",
      "========================================================================================================================================================================================================\n",
      "\n",
      "mechanism. We propose a new simple network architecture, the Transformer,\n",
      "based solely on attention mechanisms, dispensing with recurrence and convolutions\n",
      "entirely. Experiments on two machine transla\n",
      "--------------------------------------------------------------------------------------------------------------------------------------------------------------------------------------------------------\n",
      "the\n",
      "best models from the literature. We show that the Transformer generalizes well to\n",
      "other tasks by applying it successfully to English constituency parsing both with\n",
      "large and limited training data.\n",
      "========================================================================================================================================================================================================\n",
      "\n",
      "best models from the literature. We show that the Transformer generalizes well to\n",
      "other tasks by applying it successfully to English constituency parsing both with\n",
      "large and limited training data.\n",
      "∗Eq\n",
      "--------------------------------------------------------------------------------------------------------------------------------------------------------------------------------------------------------\n",
      " experimented with novel model variants, was responsible for our initial codebase, and\n",
      "efficient inference and visualizations. Lukasz and Aidan spent countless long days designing various parts of and\n",
      "========================================================================================================================================================================================================\n",
      "\n",
      "efficient inference and visualizations. Lukasz and Aidan spent countless long days designing various parts of and\n",
      "implementing tensor2tensor, replacing our earlier codebase, greatly improving results \n",
      "--------------------------------------------------------------------------------------------------------------------------------------------------------------------------------------------------------\n",
      "ormed while at Google Brain.\n",
      "‡Work performed while at Google Research.\n",
      "31st Conference on Neural Information Processing Systems (NIPS 2017), Long Beach, CA, USA.arXiv:1706.03762v7  [cs.CL]  2 Aug 2023\n",
      "========================================================================================================================================================================================================\n",
      "\n",
      "1 Introduction\n",
      "Recurrent neural networks, long short-term memory [ 13] and gated recurrent [ 7] neural networks\n",
      "in particular, have been firmly established as state of the art approaches in sequence m\n",
      "--------------------------------------------------------------------------------------------------------------------------------------------------------------------------------------------------------\n",
      "\n",
      "sequential nature precludes parallelization within training examples, which becomes critical at longer\n",
      "sequence lengths, as memory constraints limit batching across examples. Recent work has achieved\n",
      "========================================================================================================================================================================================================\n",
      "\n"
     ]
    }
   ],
   "source": [
    "# 각 청크의 시작 부분과 끝 부분 확인\n",
    "# 위에서 chunk overlap을 200 으로 설정했기 때문에, 처음과 끝 200자를 확인(곂치는 부분 확인)\n",
    "for text in texts[:5]:\n",
    "    print(text.page_content[:200])\n",
    "    print(\"-\" * 200)\n",
    "    print(text.page_content[-200:])\n",
    "    print(\"=\" * 200)\n",
    "    print()"
   ]
  },
  {
   "cell_type": "markdown",
   "id": "fae8677d",
   "metadata": {},
   "source": [
    "### 3-2 정규표현식 사용"
   ]
  },
  {
   "cell_type": "code",
   "execution_count": 23,
   "id": "98e6e771",
   "metadata": {},
   "outputs": [
    {
     "name": "stderr",
     "output_type": "stream",
     "text": [
      "Created a chunk of size 11, which is longer than the specified 10\n",
      "Created a chunk of size 13, which is longer than the specified 10\n"
     ]
    },
    {
     "name": "stdout",
     "output_type": "stream",
     "text": [
      "생성된 텍스트 청크 수: 9\n",
      "각 청크의 길이: [31, 9, 15, 7, 11, 11, 27, 13, 13]\n",
      "\n",
      "안녕하세요 여러분, 오늘 회의 시간 확인차 연락드립니다.\n",
      "--------------------------------------------------\n",
      "안녕하세요 여러분, 오늘 회의 시간 확인차 연락드립니다.\n",
      "==================================================\n",
      "\n",
      "네, 안녕하세요.\n",
      "--------------------------------------------------\n",
      "네, 안녕하세요.\n",
      "==================================================\n",
      "\n",
      "오후 2시에 하기로 했어요.\n",
      "--------------------------------------------------\n",
      "오후 2시에 하기로 했어요.\n",
      "==================================================\n",
      "\n",
      "확인했습니다.\n",
      "--------------------------------------------------\n",
      "확인했습니다.\n",
      "==================================================\n",
      "\n",
      "회의실은 어디인가요?\n",
      "--------------------------------------------------\n",
      "회의실은 어디인가요?\n",
      "==================================================\n",
      "\n"
     ]
    }
   ],
   "source": [
    "# 문장을 구분하여 분할 (마침표, 느낌표, 물음표 다음에 공백이 오는 경우 문장의 끝으로 판단)\n",
    "from langchain_text_splitters import CharacterTextSplitter\n",
    "\n",
    "# 정규식 Seperator를 재귀적으로 적용할 것이라면 \n",
    "# RecursiveCharacterTextSplitter 를 사용하여 배열로 separator에 정규식을 사용할 수도 있음.\n",
    "text_splitter = CharacterTextSplitter(\n",
    "    chunk_size=10,\n",
    "    chunk_overlap=0,\n",
    "    separator=r'(?<=[.!?])\\s+',     # (마침표 or 느낌표 or 물음표) 다음에 공백이 오는 경우 문장의 끝으로 판단\n",
    "    is_separator_regex=True,        # 정규식 여부\n",
    "    keep_separator=True,\n",
    ")\n",
    "\n",
    "texts = text_splitter.split_documents(json_docs)\n",
    "print(f\"생성된 텍스트 청크 수: {len(texts)}\")\n",
    "print(f\"각 청크의 길이: {list(len(text.page_content) for text in texts)}\")\n",
    "print()\n",
    "\n",
    "# 각 청크의 시작 부분과 끝 부분 확인\n",
    "for text in texts[:5]:\n",
    "    print(text.page_content[:50])\n",
    "    print(\"-\" * 50)\n",
    "    print(text.page_content[-50:])\n",
    "    print(\"=\" * 50)\n",
    "    print()"
   ]
  },
  {
   "cell_type": "markdown",
   "id": "8bbe562f",
   "metadata": {},
   "source": [
    "### 3-3 토큰 수를 기반으로 분할"
   ]
  },
  {
   "cell_type": "markdown",
   "id": "d9198b73",
   "metadata": {},
   "source": [
    "`(1) tiktoken`  \n",
    "- OpenAI에서 만든 BPE Tokenizer"
   ]
  },
  {
   "cell_type": "code",
   "execution_count": 24,
   "id": "bdea518c",
   "metadata": {},
   "outputs": [
    {
     "data": {
      "text/plain": [
       "2853"
      ]
     },
     "execution_count": 24,
     "metadata": {},
     "output_type": "execute_result"
    }
   ],
   "source": [
    "len(pdf_docs[0].page_content)"
   ]
  },
  {
   "cell_type": "code",
   "execution_count": 25,
   "id": "49b5fda6",
   "metadata": {},
   "outputs": [
    {
     "name": "stdout",
     "output_type": "stream",
     "text": [
      "생성된 청크 수: 3\n",
      "각 청크의 길이: [1140, 1374, 337]\n",
      "Provided proper attribution is provided, Google he\n",
      "--------------------------------------------------\n",
      "ng more parallelizable and requiring significantly\n",
      "==================================================\n",
      "\n",
      "less time to train. Our model achieves 28.4 BLEU o\n",
      "--------------------------------------------------\n",
      "countless long days designing various parts of and\n",
      "==================================================\n",
      "\n",
      "implementing tensor2tensor, replacing our earlier \n",
      "--------------------------------------------------\n",
      "h, CA, USA.arXiv:1706.03762v7  [cs.CL]  2 Aug 2023\n",
      "==================================================\n",
      "\n"
     ]
    }
   ],
   "source": [
    "from langchain_text_splitters import RecursiveCharacterTextSplitter\n",
    "\n",
    "text_splitter = RecursiveCharacterTextSplitter.from_tiktoken_encoder(\n",
    "    encoding_name=\"cl100k_base\",        # 해당 인코딩 이름을 사용\n",
    "    # model_name=\"gpt-4o-mini\",         # 해당 모델이 사용하는 tokenizer를 그대로 사용할 수 있음\n",
    "    chunk_size=300,                     # tiktoken - chunk의 크기라기 보다는 토큰의 수\n",
    "    chunk_overlap=0,\n",
    ")\n",
    "\n",
    "chunks = text_splitter.split_documents(pdf_docs[:1]) #슬라이싱을 사용해서 첫번째 요소 까지만 가진 배열을 리턴\n",
    "\n",
    "print(f\"생성된 청크 수: {len(chunks)}\")\n",
    "print(f\"각 청크의 길이: {list(len(chunk.page_content) for chunk in chunks)}\")\n",
    "\n",
    "# 각 청크의 시작 부분과 끝 부분 확인\n",
    "for chunk in chunks[:5]:\n",
    "    print(chunk.page_content[:50])\n",
    "    print(\"-\" * 50)\n",
    "    print(chunk.page_content[-50:])\n",
    "    print(\"=\" * 50)\n",
    "    print()"
   ]
  },
  {
   "cell_type": "code",
   "execution_count": 26,
   "id": "f10e8b4b",
   "metadata": {},
   "outputs": [
    {
     "name": "stdout",
     "output_type": "stream",
     "text": [
      "283\n",
      "[36919, 291, 6300, 63124, 374, 3984, 11, 5195, 22552, 25076]\n",
      "['Provid', 'ed', ' proper', ' attribution', ' is', ' provided', ',', ' Google', ' hereby', ' grants']\n",
      "==================================================\n",
      "\n",
      "291\n",
      "[1752, 892, 311, 5542, 13, 5751, 1646, 83691, 220, 1591]\n",
      "['less', ' time', ' to', ' train', '.', ' Our', ' model', ' achieves', ' ', '28']\n",
      "==================================================\n",
      "\n",
      "83\n",
      "[95574, 287, 16000, 17, 47211, 11, 25935, 1057, 6931, 2082]\n",
      "['implement', 'ing', ' tensor', '2', 'tensor', ',', ' replacing', ' our', ' earlier', ' code']\n",
      "==================================================\n",
      "\n"
     ]
    }
   ],
   "source": [
    "import tiktoken\n",
    "\n",
    "tokenizer = tiktoken.get_encoding(\"cl100k_base\")\n",
    "# tokenizer = tiktoken.encoding_for_model(\"gpt-4o-mini\")\n",
    "\n",
    "for chunk in chunks[:5]:\n",
    "\n",
    "    # 각 청크를 토큰화\n",
    "    tokens = tokenizer.encode(chunk.page_content)\n",
    "    # 각 청크의 단어 수 확인\n",
    "    print(len(tokens))\n",
    "    # 각 청크의 토큰화 결과 확인 (첫 10개 토큰만 출력)\n",
    "    print(tokens[:10])\n",
    "    # 토큰 ID를 실제 토큰(문자열)로 변환해서 출력\n",
    "    token_strings = [tokenizer.decode([token]) for token in tokens[:10]]\n",
    "    print(token_strings)\n",
    "\n",
    "    print(\"=\" * 50)\n",
    "    print()"
   ]
  },
  {
   "cell_type": "markdown",
   "id": "a4b01677",
   "metadata": {},
   "source": [
    "`(2) Hugging Face 토크나이저`  \n",
    "- Hugging Face tokenizer 모델이 토큰 수를 기준으로 분할"
   ]
  },
  {
   "cell_type": "code",
   "execution_count": 27,
   "id": "c6872bee",
   "metadata": {},
   "outputs": [
    {
     "name": "stderr",
     "output_type": "stream",
     "text": [
      "c:\\Users\\User\\AppData\\Local\\pypoetry\\Cache\\virtualenvs\\langchain-env-piYnTqFT-py3.11\\Lib\\site-packages\\tqdm\\auto.py:21: TqdmWarning: IProgress not found. Please update jupyter and ipywidgets. See https://ipywidgets.readthedocs.io/en/stable/user_install.html\n",
      "  from .autonotebook import tqdm as notebook_tqdm\n"
     ]
    },
    {
     "data": {
      "text/plain": [
       "XLMRobertaTokenizerFast(name_or_path='BAAI/bge-m3', vocab_size=250002, model_max_length=8192, is_fast=True, padding_side='right', truncation_side='right', special_tokens={'bos_token': '<s>', 'eos_token': '</s>', 'unk_token': '<unk>', 'sep_token': '</s>', 'pad_token': '<pad>', 'cls_token': '<s>', 'mask_token': '<mask>'}, clean_up_tokenization_spaces=True),  added_tokens_decoder={\n",
       "\t0: AddedToken(\"<s>\", rstrip=False, lstrip=False, single_word=False, normalized=False, special=True),\n",
       "\t1: AddedToken(\"<pad>\", rstrip=False, lstrip=False, single_word=False, normalized=False, special=True),\n",
       "\t2: AddedToken(\"</s>\", rstrip=False, lstrip=False, single_word=False, normalized=False, special=True),\n",
       "\t3: AddedToken(\"<unk>\", rstrip=False, lstrip=False, single_word=False, normalized=False, special=True),\n",
       "\t250001: AddedToken(\"<mask>\", rstrip=False, lstrip=True, single_word=False, normalized=False, special=True),\n",
       "}"
      ]
     },
     "execution_count": 27,
     "metadata": {},
     "output_type": "execute_result"
    }
   ],
   "source": [
    "from transformers import AutoTokenizer\n",
    "tokenizer = AutoTokenizer.from_pretrained(\"BAAI/bge-m3\")        #해당 모델의 tokenizer 다운로드\n",
    "#model_max_length 이내의 chunk size로 분하을 해줘야함\n",
    "tokenizer"
   ]
  },
  {
   "cell_type": "code",
   "execution_count": 28,
   "id": "1477bfbc",
   "metadata": {},
   "outputs": [
    {
     "name": "stdout",
     "output_type": "stream",
     "text": [
      "[0, 107687, 5, 20451, 54272, 16367, 5, 2]\n"
     ]
    }
   ],
   "source": [
    "# 토크나이저 인코딩\n",
    "tokens = tokenizer.encode(\"안녕하세요. 반갑습니다.\")\n",
    "print(tokens)"
   ]
  },
  {
   "cell_type": "code",
   "execution_count": 29,
   "id": "c07cafbc",
   "metadata": {},
   "outputs": [
    {
     "name": "stdout",
     "output_type": "stream",
     "text": [
      "['<s>', '▁안녕하세요', '.', '▁반', '갑', '습니다', '.', '</s>']\n"
     ]
    }
   ],
   "source": [
    "# 토큰을 출력\n",
    "print(tokenizer.convert_ids_to_tokens(tokens)) "
   ]
  },
  {
   "cell_type": "code",
   "execution_count": 30,
   "id": "fdcf6a3a",
   "metadata": {},
   "outputs": [
    {
     "name": "stdout",
     "output_type": "stream",
     "text": [
      "<s> 안녕하세요. 반갑습니다.</s>\n"
     ]
    }
   ],
   "source": [
    "# 디코딩\n",
    "print(tokenizer.decode(tokens))"
   ]
  },
  {
   "cell_type": "code",
   "execution_count": 31,
   "id": "311dec97",
   "metadata": {},
   "outputs": [
    {
     "name": "stdout",
     "output_type": "stream",
     "text": [
      "생성된 청크 수: 3\n",
      "각 청크의 길이: [749, 1094, 1008]\n",
      "\n",
      "204\n",
      "[0, 123089, 71, 27798, 99, 179236, 83, 62952, 4, 1815]\n",
      "['<s>', '▁Provide', 'd', '▁proper', '▁at', 'tribution', '▁is', '▁provided', ',', '▁Google']\n",
      "==================================================\n",
      "\n",
      "248\n",
      "[0, 51339, 214, 115774, 2843, 37067, 70, 22, 587, 820]\n",
      "['<s>', '▁perform', 'ing', '▁models', '▁also', '▁connect', '▁the', '▁en', 'co', 'der']\n",
      "==================================================\n",
      "\n",
      "232\n",
      "[0, 70, 71834, 47, 151575, 13, 903, 6528, 5, 62]\n",
      "['<s>', '▁the', '▁effort', '▁to', '▁evaluat', 'e', '▁this', '▁idea', '.', '▁A']\n",
      "==================================================\n",
      "\n"
     ]
    }
   ],
   "source": [
    "from langchain_text_splitters import RecursiveCharacterTextSplitter\n",
    "\n",
    "text_splitter = RecursiveCharacterTextSplitter.from_huggingface_tokenizer(\n",
    "    tokenizer=tokenizer,\n",
    "    chunk_size=300, \n",
    "    chunk_overlap=0,\n",
    ")\n",
    "\n",
    "chunks = text_splitter.split_documents(pdf_docs[:1])\n",
    "\n",
    "print(f\"생성된 청크 수: {len(chunks)}\")\n",
    "print(f\"각 청크의 길이: {list(len(chunk.page_content) for chunk in chunks)}\")\n",
    "print()\n",
    "\n",
    "for chunk in chunks[:5]:\n",
    "\n",
    "    # 각 청크를 토큰화\n",
    "    tokens = tokenizer.encode(chunk.page_content)\n",
    "    # 각 청크의 단어 수 확인\n",
    "    print(len(tokens))\n",
    "    # 각 청크의 토큰화 결과 확인 (첫 10개 토큰만 출력)\n",
    "    print(tokens[:10])\n",
    "    # 토큰 ID를 실제 토큰(문자열)로 변환해서 출력\n",
    "    token_strings = tokenizer.convert_ids_to_tokens(tokens[:10]) \n",
    "    print(token_strings)\n",
    "\n",
    "    print(\"=\" * 50)\n",
    "    print()"
   ]
  },
  {
   "cell_type": "markdown",
   "id": "2bc751ee",
   "metadata": {},
   "source": [
    "### 3-4 Semantic Chunking"
   ]
  },
  {
   "cell_type": "code",
   "execution_count": 32,
   "id": "043984b2",
   "metadata": {},
   "outputs": [],
   "source": [
    "from langchain_experimental.text_splitter import SemanticChunker    # 아직 실험적 단계의 라이브러리\n",
    "from langchain_openai.embeddings import OpenAIEmbeddings\n",
    "\n",
    "# 임베딩 모델을 사용하여 SemanticChunker를 초기화 \n",
    "text_splitter = SemanticChunker(\n",
    "    embeddings=OpenAIEmbeddings(),         # OpenAI 임베딩 사용\n",
    "    breakpoint_threshold_type=\"gradient\",  # 기준점 타입 설정 (gradient, percentile, standard_deviation, interquartile)\n",
    "    )"
   ]
  },
  {
   "cell_type": "code",
   "execution_count": 33,
   "id": "e067dc67",
   "metadata": {},
   "outputs": [
    {
     "name": "stdout",
     "output_type": "stream",
     "text": [
      "생성된 청크 수: 2\n",
      "각 청크의 길이: [1736, 1116]\n",
      "\n",
      "424\n",
      "Provided proper attribution is provided, Google hereby grants permission to\n",
      "reproduce the tables and\n",
      "==================================================\n",
      "\n",
      "237\n",
      "∗Equal contribution. Listing order is random. Jakob proposed replacing RNNs with self-attention and \n",
      "==================================================\n",
      "\n"
     ]
    }
   ],
   "source": [
    "chunks = text_splitter.split_documents(pdf_docs[:1])\n",
    "\n",
    "print(f\"생성된 청크 수: {len(chunks)}\")\n",
    "print(f\"각 청크의 길이: {list(len(chunk.page_content) for chunk in chunks)}\")\n",
    "print()\n",
    "\n",
    "\n",
    "tokenizer = tiktoken.get_encoding(\"cl100k_base\")\n",
    "\n",
    "\n",
    "for chunk in chunks[:5]:\n",
    "\n",
    "    # 각 청크를 토큰화\n",
    "\n",
    "    tokens = tokenizer.encode(chunk.page_content)\n",
    "    # 각 청크의 단어 수 확인\n",
    "    print(len(tokens))\n",
    "    # 각 청크의 내용을 확인\n",
    "    print(chunk.page_content[:100])\n",
    "\n",
    "    print(\"=\" * 50)\n",
    "    print()"
   ]
  },
  {
   "cell_type": "markdown",
   "id": "6dc16413",
   "metadata": {},
   "source": [
    "## 4. 문서 임베딩(Embedding) 모델"
   ]
  },
  {
   "cell_type": "markdown",
   "id": "315e28ef",
   "metadata": {},
   "source": [
    "### 4-1 OpenAI "
   ]
  },
  {
   "cell_type": "markdown",
   "id": "d905110a",
   "metadata": {},
   "source": [
    "`(1) embedding 모델`"
   ]
  },
  {
   "cell_type": "code",
   "execution_count": 34,
   "id": "617a2cfb",
   "metadata": {},
   "outputs": [
    {
     "data": {
      "text/plain": [
       "OpenAIEmbeddings(client=<openai.resources.embeddings.Embeddings object at 0x0000023F47A5AF50>, async_client=<openai.resources.embeddings.AsyncEmbeddings object at 0x0000023F47A73090>, model='text-embedding-3-small', dimensions=None, deployment='text-embedding-ada-002', openai_api_version='', openai_api_base=None, openai_api_type='', openai_proxy='', embedding_ctx_length=8191, openai_api_key=SecretStr('**********'), openai_organization=None, allowed_special=None, disallowed_special=None, chunk_size=1000, max_retries=2, request_timeout=None, headers=None, tiktoken_enabled=True, tiktoken_model_name=None, show_progress_bar=False, model_kwargs={}, skip_empty=False, default_headers=None, default_query=None, retry_min_seconds=4, retry_max_seconds=20, http_client=None, http_async_client=None, check_embedding_ctx_length=True)"
      ]
     },
     "execution_count": 34,
     "metadata": {},
     "output_type": "execute_result"
    }
   ],
   "source": [
    "from langchain_openai import OpenAIEmbeddings\n",
    "\n",
    "# OpenAIEmbeddings 모델 생성\n",
    "embeddings_model = OpenAIEmbeddings(model=\"text-embedding-3-small\")\n",
    "\n",
    "# 임베딩 객체 출력\n",
    "embeddings_model"
   ]
  },
  {
   "cell_type": "code",
   "execution_count": 35,
   "id": "9f3123b5",
   "metadata": {},
   "outputs": [
    {
     "data": {
      "text/plain": [
       "8191"
      ]
     },
     "execution_count": 35,
     "metadata": {},
     "output_type": "execute_result"
    }
   ],
   "source": [
    "# 임베딩 모델의 컨텍스트 길이 확인\n",
    "embeddings_model.embedding_ctx_length"
   ]
  },
  {
   "cell_type": "markdown",
   "id": "8ac45eaf",
   "metadata": {},
   "source": [
    "`(2) embed_documents 사용`"
   ]
  },
  {
   "cell_type": "markdown",
   "id": "3c5d90db",
   "metadata": {},
   "source": [
    "임베딩 벡터의 개수: 임베딩하려는 텍스트 단위(문서, 문장, 토큰 등)의 개수.\n",
    "임베딩 벡터의 차원: 임베딩 모델이 생성하는 각 벡터의 고정 크기(모델에 따라 다름)."
   ]
  },
  {
   "cell_type": "code",
   "execution_count": null,
   "id": "adb43129",
   "metadata": {},
   "outputs": [
    {
     "name": "stdout",
     "output_type": "stream",
     "text": [
      "임베딩 벡터의 개수: 5\n",
      "임베딩 벡터의 차원: 1536\n",
      "[-0.002310403622686863, 0.012099752202630043, -0.002436630427837372, 0.015039036981761456, 0.018447164446115494, -0.04565808176994324, -0.003119608387351036, 0.046956416219472885, -0.018239790573716164, -0.031881313771009445, 0.006847810931503773, 0.006965021602809429, -0.018591422587633133, -0.027138788253068924, 0.004891293589025736, -0.015580009669065475, -0.041546691209077835, 0.010053073056042194, 0.05157271400094032, -0.045874472707509995, -0.01464232336729765, -0.027751890942454338, -0.018753714859485626, -0.022702815011143684, 0.004363845102488995, -0.03981557860970497, 0.05031044781208038, 0.017716851085424423, 0.00028372881934046745, -0.023333948105573654, 0.048976048827171326, -0.015273458324372768, -0.029933813959360123, -0.06159874051809311, 0.02044876292347908, 0.03537960350513458, 0.002585398033261299, -0.006807237863540649, -0.005130222998559475, 0.02477654255926609, 0.00756459916010499, 0.02753550186753273, -0.0025651114992797375, 0.025984713807702065, -0.017996354028582573, 0.005590049549937248, -0.025840455666184425, 0.0036064835730940104, 0.0075150104239583015, 0.056657858192920685, -0.025010963901877403, 0.030096106231212616, 0.007974836975336075, -0.03480256721377373, -0.0020331551786512136, 0.09542755782604218, 0.01380381640046835, 0.0292846467345953, 0.003762013278901577, 0.030276430770754814, 0.015165263786911964, 0.01509313378483057, 0.0036650889087468386, 0.02093563787639141, -0.0518612340092659, -0.024379828944802284, 0.036389417946338654, 0.026183070614933968, -0.01988975703716278, -0.02921251766383648, 0.008971127681434155, -0.019637303426861763, -0.04508104547858238, 0.02122415602207184, -0.000698756193742156, -0.012388271279633045, -0.0649167075753212, 0.025461774319410324, 0.01275793556123972, 0.024379828944802284, -0.004253396764397621, 0.0005328016122803092, 0.048002295196056366, -0.059939756989479065, -0.009241614490747452, -0.02282904088497162, -0.00111462885979563, -0.057667672634124756, -0.05326776206493378, -0.004670396447181702, -0.030492819845676422, 0.049012113362550735, 0.0043886397033929825, 0.0041722506284713745, -0.05305137485265732, 0.03235015645623207, 0.061057768762111664, -0.052149754017591476, 0.0037980780471116304, 0.02787811867892742, -0.05168091133236885, -0.005729801021516323, 0.0318993479013443, 0.05474642291665077, 0.001877625472843647, -0.021620869636535645, -0.007194934878498316, 0.019835660234093666, -0.021692998707294464, 0.008159669116139412, -0.010161267593502998, -0.004936374258249998, -0.07566402852535248, 0.040609005838632584, -0.05795619264245033, -0.01954714208841324, 0.02850925363600254, -0.023297883570194244, -0.023388046771287918, -0.0073527186177670956, -0.023496240377426147, 0.02962726354598999, 0.03447798267006874, -0.004454007372260094, -0.01800536923110485, -0.0248126070946455, 0.014948874711990356, -0.03269277513027191, -0.025083092972636223, -0.004357083234935999, -0.004864244721829891, -0.026615848764777184, -0.012135817669332027, 0.02798631228506565, 0.041727013885974884, -0.016526710242033005, 0.005242925602942705, 0.0251912884414196, -0.001341161085292697, -0.05326776206493378, 0.019258622080087662, -0.019529107958078384, 0.01779799722135067, 0.012784983962774277, -0.028942031785845757, -0.05251040309667587, -0.012929243966937065, 0.01793324016034603, 0.03988770768046379, 0.041546691209077835, -0.046920351684093475, -0.01880781166255474, -0.07057888060808182, -0.039238542318344116, -0.05052683502435684, 0.024163439869880676, 0.0005026536528021097, 0.03278293460607529, -0.011856314726173878, -0.028635479509830475, 0.008231799118220806, -0.008191226050257683, -0.03319768235087395, 0.009971926920115948, -0.026110941544175148, 0.040609005838632584, -0.022342165932059288, 0.046920351684093475, -0.018681585788726807, 0.002396057592704892, -0.027842054143548012, -0.010386672802269459, -0.024488024413585663, -0.021260220557451248, 0.005842503625899553, 0.014651339501142502, 0.021368416026234627, 0.01573328487575054, -0.049048177897930145, -0.026237167418003082, -0.030961662530899048, -0.018681585788726807, -0.0002795024774968624, 0.027030594646930695, -0.008358025923371315, -0.024794574826955795, 0.016689002513885498, -0.04771377891302109, -0.029122354462742805, 0.019384849816560745, 0.03651564568281174, 0.026128973811864853, 0.019222557544708252, 0.043566323816776276, 0.008258847519755363, -0.026615848764777184, -0.0011743612121790648, -0.05377266928553581, -0.010756337083876133, -0.0032345650251954794, 0.028942031785845757, -0.040500812232494354, -0.025389645248651505, -0.01397512387484312, 0.012262044474482536, 0.00656830845400691, 0.04187127575278282, 0.006784697063267231, -0.03161082789301872, -0.026814205572009087, -0.01869961805641651, -0.02551587112247944, 0.07328374683856964, 0.00046461651800200343, -0.03409930318593979, -0.06033647060394287, 0.020304502919316292, 0.007587139960378408, -0.014083318412303925, 0.03011413849890232, -0.006577324587851763, -0.008141636848449707, 0.013028422370553017, -0.005220384802669287, 0.005184320267289877, -0.0026192087680101395, 0.021692998707294464, -0.036245159804821014, 0.02593061700463295, -0.03418946638703346, -0.023568371310830116, 0.02977152168750763, 0.0028333435766398907, -0.00833999365568161, 0.0023442143574357033, -0.01326284371316433, -0.011730087921023369, -0.02272084727883339, 0.011459602043032646, 0.0057388171553611755, 0.008425647392868996, -0.00024780488456599414, -0.005125714931637049, -0.020015984773635864, -0.008646544069051743, -0.00591463316231966, -0.0004423577629495412, 0.027355177327990532, -0.00403024535626173, -0.011802217923104763, 0.01794225536286831, -0.028797771781682968, 0.023532304912805557, -0.02115202695131302, 0.011360423639416695, 0.004638839513063431, 0.030042007565498352, -0.026814205572009087, 0.005450298544019461, -0.0020162498112767935, -0.01451609656214714, 0.013641524128615856, -0.026201102882623672, -0.032332126051187515, 0.013217762112617493, 0.007271572481840849, -0.002925759879872203, 0.027156822383403778, -0.03887789323925972, -0.026147006079554558, -0.013289892114698887, 0.04035655036568642, 0.014633307233452797, -0.025389645248651505, -0.04075326398015022, 0.012433351948857307, -0.03689432889223099, 0.021692998707294464, -0.02246839366853237, 0.05052683502435684, -0.052330076694488525, 0.029951846227049828, 0.04573021084070206, -0.003597467439249158, -0.00174689048435539, 3.349380858708173e-05, -0.036659907549619675, -0.020917605608701706, -0.012262044474482536, -0.06286101043224335, 0.06253642588853836, 0.0021548739168792963, -0.01587754487991333, 0.04320567473769188, 0.02977152168750763, -0.01769881881773472, -0.011468618176877499, 0.046848222613334656, -0.005247433669865131, 0.00660437298938632, 0.023856889456510544, -0.05838897079229355, -0.017770947888493538, -0.02055695652961731, 0.004859736654907465, 0.023983115330338478, -0.04944489151239395, 0.01605786755681038, -0.0021965738851577044, -0.03696645796298981, -0.015589025802910328, 0.007289605215191841, 0.07443781942129135, 0.009038749150931835, -0.0274273082613945, -0.01626524142920971, -0.017428332939743996, -0.0570906363427639, 0.002955062547698617, -0.017220959067344666, -0.014759534038603306, 0.03812053054571152, 0.012334173545241356, -0.02795024774968624, -0.03056494891643524, 0.012703838758170605, -0.0008695006836205721, 0.01936681754887104, -0.014687404967844486, -0.04735312983393669, 0.07169689238071442, 0.06159874051809311, -0.030492819845676422, 0.004985963460057974, -0.008204749785363674, -0.03440585359930992, -0.02679617330431938, 0.014209545217454433, -0.05081535503268242, -0.03590254485607147, -0.05636933818459511, 0.02149464190006256, -0.048110492527484894, 0.050130121409893036, 0.010305526666343212, 0.0001662363501964137, -0.0021019037812948227, 0.007753939833492041, 0.019619271159172058, -0.0006102846236899495, 0.018825843930244446, -0.0112882936373353, -0.01751849427819252, -0.020394664257764816, -0.0369303934276104, -0.006550275720655918, -0.047064609825611115, -0.008678101003170013, -0.02425360307097435, -0.04024835675954819, -0.04839900881052017, -0.0013276367681100965, 0.03786807879805565, 0.042628634721040726, 0.03985164314508438, 0.010017008520662785, 0.002522284397855401, -0.026687977835536003, -0.007086740341037512, 0.0016082662623375654, -0.03235015645623207, -0.0003755814686883241, 0.011982541531324387, -0.07144443690776825, -0.009313743561506271, -0.029879717156291008, -0.01845617964863777, 0.0270486269146204, -0.045802343636751175, 0.01612098142504692, 0.02630929835140705, 0.05499887466430664, 0.007375258952379227, -0.0225765872746706, -0.032259996980428696, 0.005364644341170788, -0.01106288842856884, -0.012658757157623768, -0.06870350986719131, 0.032223932445049286, 0.029158420860767365, -0.03200754150748253, -0.029302679002285004, 0.003845413215458393, -0.012361222878098488, -0.027319112792611122, -0.018789779394865036, -0.05539558827877045, -0.0395631268620491, 0.024488024413585663, -0.03150263428688049, -0.030997727066278458, -0.02436179667711258, 0.021999549120664597, 0.014525112695991993, -0.04032048583030701, 0.05622508004307747, 0.059723369777202606, 0.009737505577504635, 0.03458617627620697, 0.004284953232854605, -0.06257249414920807, 0.038481179624795914, -0.00038966929423622787, -0.03510911762714386, -0.049120306968688965, -0.01985369250178337, 0.033305875957012177, 0.020827442407608032, 0.0006728345761075616, 0.01947501115500927, 0.027337145060300827, 0.03995983675122261, -0.03458617627620697, 0.007064200006425381, 0.02044876292347908, 0.037327107042074203, 0.0052699740044772625, 0.05283498391509056, -0.012225979007780552, -0.004823671653866768, 0.006744124460965395, -0.023225754499435425, -0.0034261594992130995, -0.05178910493850708, -0.0007274953532032669, 0.023225754499435425, 0.015561976470053196, -0.009710457175970078, 0.024469992145895958, 0.0032638676930218935, -0.02118809148669243, 0.006203151773661375, -0.02153070643544197, -0.014056270010769367, 0.038481179624795914, -0.0292846467345953, -0.02492080256342888, -0.010891580954194069, -0.05366447567939758, 0.02903219312429428, -0.065313421189785, 0.030997727066278458, 0.03891395777463913, -0.015543944202363491, -0.04937276244163513, 0.021278252825140953, -0.034459952265024185, 0.01141452044248581, 0.024830639362335205, -0.0006970656686462462, 0.016625888645648956, -0.026056844741106033, -0.008303928188979626, -0.005693736020475626, 0.038372986018657684, 0.04634331539273262, 0.006847810931503773, -0.051464520394802094, 0.038445115089416504, -0.011279277503490448, -0.035722218453884125, 0.01794225536286831, -0.02309952676296234, 0.015002971515059471, -0.0002056822704616934, -0.004523883108049631, -0.013073503039777279, -0.04500891640782356, -0.0071543618105351925, 0.00863752793520689, -0.002470441162586212, 0.010684208013117313, 0.011261245235800743, 0.035992708057165146, 0.04230405390262604, -0.06726092100143433, 0.005982254631817341, 0.059867627918720245, -0.0047064609825611115, 0.012415319681167603, -0.03267474099993706, 0.07941477000713348, 0.0025606034323573112, 0.02969939261674881, 0.049012113362550735, -0.012162866070866585, 0.006437573116272688, 0.010675191879272461, 0.013181697577238083, 0.023460175842046738, -0.029753489419817924, -0.010287494398653507, 0.02771582640707493, 0.005513411946594715, -0.0004795496060978621, -0.052257947623729706, 0.02208971232175827, -0.004264666698873043, -0.019745497032999992, 0.03207967057824135, 0.04302534833550453, -0.003737218677997589, 0.009737505577504635, -0.009800619445741177, 0.006671994458884001, -0.009313743561506271, 0.007943280041217804, 0.027174854651093483, -0.027228951454162598, -0.009313743561506271, -0.022288069128990173, -0.029014160856604576, 0.0022934982553124428, -0.000124254627735354, -0.05420544743537903, -0.009620294906198978, -0.01660785637795925, 0.00949406810104847, -0.017121780663728714, 0.016139013692736626, -0.01713981293141842, 0.015543944202363491, -0.03913034871220589, -0.01796930469572544, 0.013010389171540737, 0.010152251459658146, 0.01512919832020998, -0.04190734028816223, -0.010630110278725624, 0.016382452100515366, -0.014813631772994995, 0.009313743561506271, 0.0249929316341877, -0.007194934878498316, 0.047064609825611115, -0.01102682389318943, -0.037110716104507446, 0.003840905148535967, 0.029050225391983986, 0.020430728793144226, 0.00036177539732307196, 0.03696645796298981, -0.02302739769220352, 0.011198131367564201, -0.0045982664451003075, 0.00649167038500309, -0.025948649272322655, -0.0026349870022386312, -0.02690436691045761, 0.008583431132137775, -0.020791377872228622, -0.04212372750043869, -0.004192537162452936, 0.008457204326987267, 0.010494867339730263, 0.028455154970288277, -0.01643654890358448, 0.021873323246836662, 0.029483003541827202, -0.04554988816380501, 0.029789553955197334, -0.016382452100515366, 0.06235610321164131, -0.009800619445741177, -0.04205159842967987, 0.01003504078835249, -0.027301080524921417, -0.012117785401642323, 0.024542121216654778, 0.020502859726548195, 0.015480831265449524, 0.03202557563781738, 0.013154649175703526, 0.04075326398015022, 5.191364107304253e-05, 0.002767976140603423, 0.020502859726548195, 0.03262064605951309, -0.029230549931526184, 0.0341353677213192, 0.018519293516874313, -0.01380381640046835, -0.027319112792611122, -0.025732260197401047, -0.015787381678819656, 0.007699842564761639, 0.016274256631731987, 0.01378578320145607, 0.024379828944802284, -0.004967931192368269, 0.012902195565402508, 0.020466795191168785, 0.00526095787063241, -0.024830639362335205, -0.031773120164871216, -0.015796398743987083, 0.036245159804821014, 0.007442880421876907, -0.010458802804350853, -0.013443167321383953, 0.008312944322824478, 0.008087539114058018, -0.02324378676712513, -0.005815454758703709, -0.011144034564495087, 0.0005040624528191984, 0.0001804650528356433, 0.026147006079554558, -0.014957890845835209, 0.00886293314397335, -0.006500686518847942, 0.03366652503609657, -0.016111966222524643, 0.0043886397033929825, -0.031051823869347572, 0.0013129854341968894, -0.009394889697432518, -0.02093563787639141, 0.0017018094658851624, 0.00767730176448822, 0.07328374683856964, -0.013587427325546741, 0.036064837127923965, -0.009467019699513912, -0.06589045375585556, -0.0112882936373353, -0.006365443579852581, 0.012505481950938702, -0.009358825162053108, -0.022630684077739716, 0.004562201909720898, 0.009503084234893322, -0.031105920672416687, 0.029374809935688972, -0.008804327808320522, 0.0011512571945786476, -0.02872564271092415, 0.009047766216099262, 0.006784697063267231, 0.003432921599596739, -0.0253716129809618, -0.033414069563150406, 0.01266777329146862, -0.004546423442661762, -0.016770148649811745, -0.0036200080066919327, -0.030510852113366127, 0.023965083062648773, 0.0015812176279723644, 0.009881764650344849, -0.013848897069692612, 0.02041269652545452, -0.015381652861833572, -0.006699043326079845, 0.04645150899887085, 0.019456978887319565, 0.03640745207667351, -0.007014610804617405, -0.011784185655415058, -0.028419090434908867, 0.01936681754887104, 0.011135018430650234, 0.009575214236974716, -0.04032048583030701, 0.03364849090576172, 0.0020849984139204025, 0.01738325133919716, 0.04280896112322807, 0.03812053054571152, -0.014993955381214619, -0.018302904441952705, -0.018167661502957344, -0.043710581958293915, 0.017220959067344666, 0.004291715566068888, 0.014398885890841484, 0.01880781166255474, 0.019529107958078384, -0.0630413368344307, 0.015787381678819656, 0.029086289927363396, -0.025065060704946518, -0.004591504577547312, -0.065313421189785, -0.013001373037695885, 0.018573390319943428, -0.03959919139742851, -0.03272883966565132, 0.0253716129809618, -0.02484867163002491, 0.008817852474749088, 0.012171882204711437, -0.023514272645115852, -0.025804391130805016, -0.01576934941112995, 0.04536956548690796, -0.007726890966296196, -0.010882563889026642, -0.0035771809052675962, -0.01988975703716278, 0.000534492137376219, -0.018230775371193886, -0.010422737337648869, 0.03604680299758911, -0.008394090458750725, 0.04446794465184212, -0.0225765872746706, 0.009521116502583027, -0.04288109019398689, -0.026706011965870857, -0.025876520201563835, -0.012469417415559292, -0.012523514218628407, -0.005220384802669287, -0.027102723717689514, -0.0391664132475853, -0.007952296175062656, -0.03388291224837303, -0.00030683286604471505, 0.02526341751217842, -0.010693224146962166, -0.021656934171915054, -0.008596954867243767, 0.060047950595617294, -0.008015410043299198, -0.03876969963312149, -0.004372861236333847, -0.023748693987727165, -0.017563575878739357, 0.00011636544513748959, -0.018753714859485626, 0.027138788253068924, 0.03491076081991196, -0.017644720152020454, 0.026183070614933968, 0.0001629961479920894, 0.0019497552420943975, 0.013848897069692612, -0.04432368278503418, 0.009845700114965439, -0.002871662611141801, 0.03198951110243797, -0.025533903390169144, 0.00037501793121919036, -0.009926846250891685, 0.013037438504397869, 0.005089649930596352, 0.013668572530150414, -0.02306346222758293, 0.024451958015561104, 0.020809410139918327, 0.0016950472490862012, 0.0092325983569026, 0.0016860311152413487, 0.0021717792842537165, 0.004302985966205597, -0.02373066172003746, -0.002817565342411399, 0.012559578754007816, 0.029014160856604576, -0.012875146232545376, -0.005657671019434929, 0.0014347042888402939, 0.04017622768878937, -0.001599250128492713, 0.00623020064085722, -0.04785803705453873, -0.005856027826666832, 0.03148460015654564, 0.011531731113791466, -0.0201422106474638, -0.019384849816560745, -0.001532755559310317, -0.008087539114058018, -0.021206123754382133, 0.02641749195754528, 0.033341940492391586, -0.009602262638509274, -0.024343764409422874, -0.0050535849295556545, 0.021368416026234627, -0.040536876767873764, -0.005044568795710802, -0.013362022116780281, 0.011775168590247631, 0.002903219312429428, 0.012000573799014091, 0.0027972788084298372, -0.002849122043699026, 0.03815659508109093, 0.007695334497839212, 0.043710581958293915, 0.034604210406541824, 0.05398906022310257, 0.009169484488666058, -0.015327555127441883, 0.045802343636751175, -0.046956416219472885, -0.02921251766383648, 0.03260261192917824, -0.010512899607419968, -0.015327555127441883, 0.04569414630532265, -0.019619271159172058, -0.032512448728084564, -0.008898998610675335, -0.0026147007010877132, -0.005883076228201389, -0.014416918158531189, 0.03157476335763931, 0.00036459293914958835, -0.005675703752785921, -0.010476835072040558, 0.03866150602698326, -0.01490379311144352, -0.018131596967577934, 0.023604435846209526, -0.031322311609983444, 0.0047425259836018085, 0.07681810110807419, 0.018897974863648415, 0.033937010914087296, 0.0006131022237241268, 0.035055018961429596, 0.0009241614025086164, -0.01768980175256729, -0.010269462130963802, -0.028112540021538734, 0.032368190586566925, -0.013812832534313202, 0.006478146184235811, 0.002256306353956461, 0.018176676705479622, -0.035055018961429596, -0.0024591709952801466, -0.01765373721718788, 0.016950473189353943, -0.021620869636535645, -0.006252740975469351, -0.03159279748797417, 0.007203951012343168, 0.024902768433094025, -0.009791603311896324, 0.0663953647017479, 0.013280875980854034, 0.018420115113258362, -0.015381652861833572, 0.020899573341012, -0.007735907565802336, 0.011883363127708435, 0.03409930318593979, 0.0358123816549778, -0.017302105203270912, 0.03220589831471443, -0.017284072935581207, 0.001178869279101491, 0.022143809124827385, 0.0010954693425446749, 0.01581443101167679, 0.029194485396146774, 0.05171697586774826, -0.014813631772994995, -0.01734718680381775, -0.016310323029756546, -0.024866703897714615, -0.005062601529061794, 0.021999549120664597, -0.010864531621336937, -0.014344788156449795, 0.01266777329146862, -0.0820835679769516, 0.024596218019723892, -0.03485666587948799, 0.01832093670964241, -0.008844900876283646, -0.011964509263634682, 0.025678163394331932, -0.04746132344007492, 0.04208766296505928, -0.0030790353193879128, -0.03280096873641014, 0.011405504308640957, -0.012739903293550014, 0.028437122702598572, 0.03977951407432556, -0.01842913217842579, 0.009971926920115948, -0.0034013648983091116, 0.010729288682341576, -0.02007008157670498, -0.027156822383403778, -0.01432675588876009, -0.03703858703374863, -0.018122579902410507, 0.020538924261927605, 0.01626524142920971, 0.013758734799921513, 0.015625089406967163, -0.03658777475357056, 0.013948075473308563, 0.02391098625957966, -0.00041474562021903694, -0.021692998707294464, 0.011522714979946613, -0.05413331836462021, 0.013443167321383953, 0.02373066172003746, -0.07465421408414841, -0.004792115185409784, -0.008921538479626179, -0.009557181969285011, -0.001341161085292697, 0.0044968342408537865, 0.026724044233560562, 0.02787811867892742, -0.0402844212949276, -0.05160878226161003, -0.03179115429520607, 0.021963484585285187, 0.0026890842709690332, -0.010242413729429245, 0.010476835072040558, -0.012352206744253635, -0.005256449803709984, 0.001291571999900043, -0.011594844982028008, 0.00802442617714405, 0.008542858064174652, -0.06992971897125244, 0.00034317944664508104, -0.03070920705795288, -0.013073503039777279, -0.006694535259157419, -0.03213376924395561, 0.0065367515198886395, 0.025533903390169144, 0.006910924334079027, 0.010467818938195705, 0.048002295196056366, 0.007731399033218622, -0.06390689313411713, 0.023225754499435425, -0.0020478065125644207, 0.0274273082613945, 0.018266839906573296, 0.05810045078396797, 0.006176103372126818, -0.011162066832184792, 0.010720272548496723, 0.0008339993073605001, -0.05315956845879555, 0.005328579340130091, -0.012965308502316475, -0.013416118919849396, -0.01106288842856884, 0.0031331325881183147, -0.009421938098967075, 0.0066269137896597385, 0.019078297540545464, 0.015300506725907326, -0.01909632980823517, 0.027138788253068924, 0.013767750933766365, 0.009385873563587666, -0.021729063242673874, 0.024794574826955795, -0.032368190586566925, -0.02044876292347908, -0.03649761527776718, 0.05481855198740959, 0.006509703118354082, 0.005517920013517141, -0.01601278781890869, 0.03981557860970497, -0.007127313409000635, 0.025353580713272095, 0.01776193268597126, -0.0010098153725266457, -0.014633307233452797, -0.0010594045743346214, -0.03794020786881447, 0.00276572210714221, -0.052438270300626755, 0.04320567473769188, -0.00830843672156334, -0.0008441425743512809, -0.04764164984226227, -0.017013587057590485, 0.0021819225512444973, -0.025533903390169144, 0.016553759574890137, -0.021837258711457253, -0.022594619542360306, 0.008817852474749088, -0.028833836317062378, -0.04558595269918442, -0.00023442142992280424, 0.016454581171274185, 0.02906825765967369, 0.030312495306134224, -0.012812033295631409, 0.021584805101156235, -0.00018638194887898862, 0.03361242637038231, 0.02286510542035103, -0.03085346706211567, 0.014047253876924515, 0.017085716128349304, -0.0028108032420277596, 0.009917830117046833, -0.03750742971897125, 0.02787811867892742, -0.0455138236284256, -0.01598573848605156, 0.0034509541001170874, 0.024506056681275368, -0.01685129478573799, 0.003834142815321684, 0.01845617964863777, -0.023081494495272636, 0.005003996193408966, -0.004548677243292332, 0.022774944081902504, -0.015589025802910328, 0.04991373419761658, -0.022666748613119125, -0.023784758523106575, 0.054602161049842834, 0.005468330811709166, -0.00012115530989831313, 0.021368416026234627, -0.007469929289072752, 0.009746521711349487, -0.007997377775609493, 0.010449786670506, -0.03312555328011513, -0.014471015892922878, -0.006261757109314203, 0.056513600051403046, 0.02544374205172062, 0.007001086138188839, -0.02659781649708748, 0.030835434794425964, -0.023496240377426147, 0.027842054143548012, -0.043602388352155685, 0.00687485933303833, -0.0007844101637601852, -6.311346078291535e-05, -0.03619106486439705, -0.0020906333811581135, -0.00911087915301323, 0.020683184266090393, -0.010215364396572113, 0.012739903293550014, -0.013930043205618858, 0.02477654255926609, -0.00021103564358782023, -0.007203951012343168, 6.399395351763815e-05, -0.009259646758437157, 0.010179299861192703, -0.0324583537876606, 0.013479232788085938, 0.007614188361912966, -0.05478248745203018, -0.03335997462272644, 0.012379255145788193, 0.009034241549670696, 0.02421753667294979, 0.020701216533780098, 0.02118809148669243, 0.022450361400842667, 0.005720784422010183, 0.02977152168750763, 0.017374234274029732, 0.0067892055958509445, 0.005472838878631592, -0.020196307450532913, -0.03563205897808075, -0.00875924713909626, -0.016878344118595123, -0.004174504894763231, -0.004312002100050449, 0.01909632980823517, -0.01741029880940914, 0.02630929835140705, 0.019420914351940155, -0.01902420073747635, 0.007240016013383865, 0.01958320662379265, -0.026742076501250267, 0.00975553784519434, -0.011053872294723988, -0.017338169738650322, -0.018537325784564018, -0.041438497602939606, 0.009701441042125225, 0.039382800459861755, 0.028671544045209885, 0.02659781649708748, 0.014092334546148777, -0.005170796066522598, -0.03655171021819115, 0.01940288208425045, -0.018402082845568657, 0.009277679026126862, -0.005463822744786739, 0.022847073152661324, -0.009467019699513912, -0.0029415381141006947, -0.04540563002228737, 0.02935677580535412, 0.016878344118595123, -0.0024321223609149456, -0.010891580954194069, 0.009971926920115948, 0.0034780027344822884, 0.010539948008954525, -0.0328189991414547, 0.013966107740998268, 0.009313743561506271, -0.010332575999200344, 0.025047028437256813, -0.032999325543642044, -0.011089936830103397, 0.0008768263505771756, -0.013010389171540737, 0.02156677283346653, -0.005653162952512503, 0.017058666795492172, -0.014543144963681698, 0.0009838937548920512, -0.018591422587633133, 0.0006424048915505409, -0.03530747443437576, -0.008980143815279007, 0.026724044233560562, -0.0023599928244948387, 0.00806049071252346, -0.005896600894629955, -0.01661687344312668, -0.012541546486318111, 0.010062089189887047, -0.030474785715341568, -0.004406671971082687, 0.02331591583788395, -0.003888240084052086, 0.05103174224495888, 0.01633737049996853, -0.03417143225669861, -0.02712075598537922, 0.02959119714796543, -0.043602388352155685, 0.005626114550977945, 0.011351407505571842, -0.02488473616540432, 0.02648962289094925, -0.019168460741639137, -0.01591360941529274, -0.006144546438008547, 0.005544968415051699, 0.006676502991467714, 0.015174279920756817, -0.004643347579985857, 0.0028085492085665464, -0.0014031475875526667, -0.005143747199326754, -0.0061174980364739895, 0.01154976338148117, 0.061021704226732254, 0.007875658571720123, -0.05326776206493378, -0.028797771781682968, -0.01156779658049345, 0.031123952940106392, 0.017861109226942062, 0.017121780663728714, -0.024469992145895958, -0.044828590005636215, -0.009394889697432518, -0.03491076081991196, -0.006442081183195114, -0.050130121409893036, 0.010648142546415329, -0.036840230226516724, -0.020773345604538918, -0.019745497032999992, -0.013028422370553017, -0.015255426056683064, -0.0032931703608483076, 0.011270261369645596, -0.03873363509774208, 0.04493678733706474, 0.004397655837237835, -0.013930043205618858, 0.0055224280804395676, 0.003940083552151918, -0.02003401704132557, 0.021133994683623314, -0.04731706529855728, -0.03651564568281174, -0.06852319091558456, -0.023640500381588936, -0.011423536576330662, -0.019276654347777367, -0.010179299861192703, -0.004032499622553587, 0.019745497032999992, -0.01246040128171444, 0.027283048257231712, 0.024506056681275368, -0.0012273314641788602, 0.010098153725266457, 0.0033359972294420004, -0.030907563865184784, -0.03473043814301491, 0.054457902908325195, 0.057811930775642395, -0.01755455881357193, -0.00623020064085722, 0.029897749423980713, -0.0001415826554875821, -0.013848897069692612, 0.006013811565935612, 0.000311904470436275, -0.0034171431325376034, -0.03280096873641014, -0.019637303426861763, -0.01636441983282566, 0.026219135150313377, -0.0028355978429317474, -0.01951107569038868, -0.02425360307097435, -0.00691994046792388, 0.006527735386043787, -0.023568371310830116, 0.00207147398032248, -0.004411180038005114, -0.03559599444270134, 0.02932071126997471, -0.014317739754915237, 0.009313743561506271, 0.00161390146240592, 0.008299420587718487, -0.012730887159705162, -0.0184651967138052, 0.04497285187244415, 0.0041722506284713745, -0.010476835072040558, -0.025642098858952522, 0.018402082845568657, 0.02160283736884594, 0.025101125240325928, -0.016625888645648956, -0.00869162566959858, 0.018329953774809837, -0.036389417946338654, 0.027138788253068924, -0.0020286471117287874, 0.0005683029303327203, -0.035018954426050186, -0.0016432041302323341, -0.02059302106499672, 0.0221979059278965, -0.013325956650078297, -0.0002503406722098589, -0.030240364372730255, 0.0016499662306159735, -0.00830843672156334, 0.01787012629210949, 0.007943280041217804, 0.02708469144999981, -0.004656871780753136, -0.0012656503822654486, -0.04003196954727173, 0.023406079038977623, -0.009128911420702934, 0.0326567105948925, -0.0406811349093914, 0.016526710242033005, -0.018717650324106216, 0.007483453489840031, 0.001636441913433373, -0.02227003686130047, 0.001154074794612825, -0.017770947888493538, 0.007767464034259319, 0.006739616394042969, 0.03667793795466423, 0.0077178748324513435, -0.0028243274427950382, -0.005905617028474808, 0.008064999245107174, -0.029014160856604576, 0.003780045546591282, 0.01667998731136322, 0.02055695652961731, -0.03088953159749508, -0.002628224901854992, 0.021656934171915054, 0.00023892954050097615, -0.017329154536128044, 0.02582242339849472, -0.010864531621336937, -0.03029446303844452, 0.006608881056308746, 0.0010701112914830446, 0.012604660354554653, 0.026651913300156593, 0.009286695159971714, -0.06989365071058273, -0.017112765461206436, 0.017229976132512093, 0.0013648286694660783, 0.020737281069159508, 0.004787607118487358, 0.00020483699336182326, 0.013542345724999905, 0.009647343307733536, -0.007681810297071934, -0.02712075598537922, -0.02659781649708748, -0.0067215836606919765, -0.0006970656686462462, -0.0007849736721254885, -0.008876457810401917, 0.018555358052253723, -0.005040060728788376, -0.006040859967470169, -0.0003079598827753216, 0.03873363509774208, -0.002524538431316614, -0.026507655158638954, 0.04288109019398689, 0.0028829327784478664, -0.012072703801095486, 0.011820250190794468, -0.017491444945335388, -0.03308948874473572, 0.005396201275289059, 0.014218561351299286, 0.047028545290231705, 0.00019863835768774152, -0.023297883570194244, 0.04129423573613167, -0.025317514315247536, 0.003942337352782488, 0.0014177989214658737, -0.020430728793144226, -0.028419090434908867, -0.04075326398015022, -0.013884961605072021, 0.001855085021816194, -0.023460175842046738, -0.005441281944513321, 0.002050060546025634, 0.02585848793387413, 0.0010391180403530598, -0.0028874408453702927, 0.019655335694551468, -0.002366754924878478, -0.02593061700463295, 0.031069856137037277, 0.013343988917768002, -0.014489048160612583, 0.0033698081970214844, 0.04197946935892105, -0.00036008484312333167, -0.016589824110269547, -0.02003401704132557, 0.017843076959252357, -0.011089936830103397, 0.032440319657325745, 0.02962726354598999, 0.040464747697114944, -0.03647958114743233, 0.04353025555610657, -0.0006491670501418412, -0.021909387782216072, 0.05359234660863876, 0.0036109916400164366, -0.019673367962241173, -0.0388057641685009, 0.031123952940106392, 0.003574926871806383, 0.005599065683782101, 0.04753345251083374, -0.017572591081261635, 0.019348785281181335, 0.02048482745885849, -0.044395811855793, -0.012433351948857307, 0.03440585359930992, -0.0019598985090851784, 0.0227569118142128, -0.008894490078091621, 0.022991333156824112, 0.024307699874043465, 0.004073072224855423, 0.004481055773794651, 0.01608491688966751, -0.029374809935688972, 0.03678613156080246, -0.012559578754007816, -0.03202557563781738, 0.012649741023778915, 0.000413900357671082, -0.021837258711457253, -0.014930842444300652, 0.013930043205618858, 0.03909428417682648, -0.0054322658106684685, 0.030655110254883766, -0.009737505577504635, -0.01741931587457657, 0.004113645292818546, 0.010918629355728626, -0.01850126124918461, 0.005526936147361994, 0.035055018961429596, -0.013127600774168968, -0.00314891105517745, 0.02436179667711258, -0.006473638117313385, 0.024091310799121857, -0.003978402353823185, 0.002312657656148076, 0.03211573511362076, 0.00623020064085722, -0.006748632527887821, -0.025209320709109306, -0.024632282555103302, 0.020358599722385406, 0.04342206194996834, -0.015011987648904324, 0.010702240280807018, 0.0075014857575297356, -0.0018866417231038213, -0.01601278781890869, 0.030546916648745537, 0.009665376506745815, 0.010404705069959164, 0.000318103120662272, 0.004508104640990496, 0.024830639362335205, 0.003063257085159421, 0.004059548024088144, 0.0005519610713236034, 0.022252004593610764, -0.026669945567846298, 0.024379828944802284, 0.02872564271092415, -0.016355402767658234, 0.009728489443659782, -0.007388783153146505, 0.0018032417865470052, 0.02585848793387413, 0.009566198103129864, -0.007776480168104172, 0.020791377872228622, -0.005206860601902008, 0.030204299837350845, 0.027896150946617126, -0.027265015989542007, 0.031340342015028, 0.015516895800828934, -0.013425135053694248, -0.029266614466905594, -0.014921826310455799, 0.01933075301349163, 0.0053240712732076645, -0.030420688912272453, -0.02279297634959221, 0.008168685249984264, 0.0040167211554944515, -0.02302739769220352, -0.016184095293283463, -0.01111698616296053, -0.03162886202335358, 0.005729801021516323, 0.030691174790263176, -0.00019314410747028887, 0.012397287413477898, -0.016463598236441612, 0.03381078317761421, -0.00503555266186595, -0.014840680174529552, 0.015390668995678425, 0.031051823869347572, 0.0060093034990131855, -0.009845700114965439, -0.026471590623259544, 0.021783161908388138, 0.009854716248810291, 0.013677588663995266, -0.0005714022554457188, -0.0004217895329929888, 0.004963423125445843, 0.01895207166671753, 0.00040347536560148, -0.00833999365568161, -0.03963525593280792, -0.005342104006558657, -0.017491444945335388, -0.016202127560973167, 0.007817053236067295, -0.025119157508015633, 0.021512674167752266, -0.012307125143706799, 0.027517469599843025, -0.0221979059278965, -0.006910924334079027, 0.008258847519755363, -0.024488024413585663, -0.03747136518359184, 0.008596954867243767, -0.047100674360990524, 0.00764123722910881, 0.015480831265449524, 0.031250178813934326, -0.0025944141671061516, -0.0038296347483992577, 0.01246040128171444, 0.00029330854886211455]\n"
     ]
    }
   ],
   "source": [
    "# 문서 컬렉션\n",
    "documents = [\n",
    "    \"인공지능은 컴퓨터 과학의 한 분야입니다.\",\n",
    "    \"머신러닝은 인공지능의 하위 분야입니다.\",\n",
    "    \"딥러닝은 머신러닝의 한 종류입니다.\",\n",
    "    \"자연어 처리는 컴퓨터가 인간의 언어를 이해하고 생성하는 기술입니다.\",\n",
    "    \"컴퓨터 비전은 컴퓨터가 디지털 이미지나 비디오를 이해하는 방법을 연구합니다.\"\n",
    "]\n",
    "\n",
    "# 문서 임베딩\n",
    "document_embeddings = embeddings_model.embed_documents(documents)\n",
    "\n",
    "# 임베딩 결과 출력\n",
    "# 문서 전체를 하나의 벡터로 표현 -> 임베딩 벡터의 개수는 문서의 개수와 동일\n",
    "print(f\"임베딩 벡터의 개수: {len(document_embeddings)}\") \n",
    "# 임베딩 모델이 생성하는 각 벡터의 고정된 크기, 벡터 공간에서 표현할 수 있는 정보의 밀도와 정밀도를 의미\n",
    "# 차원이 높을수록 표현력은 증가하지만, 저장 및 계산에 더 많은 자원이 필요합니다.\n",
    "print(f\"임베딩 벡터의 차원: {len(document_embeddings[0])}\") \n",
    "print(document_embeddings[0])"
   ]
  },
  {
   "cell_type": "markdown",
   "id": "7ef1d8f7",
   "metadata": {},
   "source": [
    "`(3) embed_query 사용`"
   ]
  },
  {
   "cell_type": "code",
   "execution_count": 37,
   "id": "f2da83df",
   "metadata": {},
   "outputs": [
    {
     "name": "stdout",
     "output_type": "stream",
     "text": [
      "쿼리 임베딩 벡터의 차원: 1536\n",
      "[-0.02255643531680107, 0.022176697850227356, 0.0004912859876640141, 0.005667589604854584, 0.012189589440822601, -0.04480908066034317, -0.026277868077158928, 0.035809293389320374, -0.002643925603479147, 0.014800287783145905, -0.002100425772368908, 0.0008621239103376865, -0.004865393042564392, -0.07359322160482407, 0.009018776938319206, -0.01542685553431511, -0.05980873107910156, -0.022442514076828957, 0.022423528134822845, -0.0692262351512909, -0.029220838099718094, 0.023239964619278908, -0.036853570491075516, 0.00411778362467885, 0.011145309545099735, -0.0526316836476326, 0.010727598331868649, -3.0946419428801164e-05, -0.010803545825183392, -0.03410046920180321, 0.02529054880142212, -0.018910951912403107, -0.0014999649720266461, -0.05897330865263939, 0.04989757016301155, -0.0034152683801949024, -0.0027602205518633127, -0.0083684753626585, -0.004597202874720097, 0.02280326560139656, -0.011885798536241055, 0.0379737988114357, 0.0032989736646413803, 0.03520170971751213, -0.05141652375459671, 0.03448021039366722, -0.028537308797240257, 0.004692137241363525, -0.013471204787492752, 0.038600366562604904, -0.04537868872284889, 0.034556157886981964, -0.007699187379330397, -0.00934630073606968, -0.002916862489655614, 0.0646314024925232, 0.011430113576352596, 0.03146129101514816, -0.0059381527826189995, 0.04727737978100777, -0.00034651090390980244, -0.003659724723547697, 0.016566069796681404, 0.03907503932714462, -0.06227703019976616, -0.020562810823321342, -0.0027602205518633127, 0.03542955219745636, -0.03770798072218895, -0.021360261365771294, 0.041391439735889435, 0.002074318705126643, -0.07215021550655365, -0.005297344643622637, -0.019670426845550537, 0.01394587755203247, -0.020828628912568092, 0.04347999766469002, -0.0008425436681136489, 0.01228452380746603, 0.01951853185892105, 0.009189658798277378, 0.0012638154439628124, -0.044201500713825226, -0.009797239676117897, -0.016822392120957375, -0.020695719867944717, -0.05411266162991524, -0.052251946181058884, -3.265227496740408e-05, -0.018806522712111473, 0.061631474643945694, -0.025176627561450005, 0.03136635571718216, -0.019917257130146027, 0.039378829300403595, 0.07852981239557266, -0.008767200633883476, 0.010917467065155506, 0.023695649579167366, -0.03189799189567566, 0.0038875676691532135, 0.016736950725317, 0.03417641669511795, 0.024170322343707085, -0.05783409625291824, -0.017116690054535866, 0.028613256290555, 0.028290480375289917, 0.01062317006289959, 0.02149317041039467, 0.009730786085128784, -0.08437778055667877, 0.037081412971019745, -0.020695719867944717, -0.0019936244934797287, 0.007234008517116308, -0.01999320462346077, -0.012816157191991806, -0.037859875708818436, -0.029163876548409462, -0.011306698434054852, 0.027493029832839966, -0.002244014060124755, -0.030682828277349472, -0.029296785593032837, -0.0025893384590744972, -0.030986620113253593, -0.023961465805768967, -0.010034576058387756, -0.013680060394108295, 0.025499405339360237, -0.030511947348713875, 0.007566279266029596, 0.022632384672760963, -0.07169453054666519, 0.022366566583514214, 0.038581378757953644, -0.011999719776213169, -0.047695089131593704, 0.012740209698677063, -0.0017396745970472693, -0.023847544565796852, -0.002074318705126643, -0.026923423632979393, -0.041923072189092636, -0.001969890668988228, -0.015360401012003422, -0.000891790899913758, -0.005392279475927353, -0.05753030255436897, -0.007946017198264599, -0.042948365211486816, -0.029752470552921295, -0.042416732758283615, 0.035847265273332596, -0.011885798536241055, 0.03624599054455757, -0.000766596058383584, -0.004127277061343193, -0.03474602475762367, 0.001626939862035215, -0.007627986837178469, -0.002952462760731578, -0.0577581487596035, 0.06018846854567528, -0.023676663637161255, 0.0032894802279770374, 0.016869859769940376, -0.00595239270478487, -0.05415063723921776, -0.0026486723218113184, -0.01826539635658264, 0.008017217740416527, -0.0008822974632494152, -0.021379249170422554, 0.01848374679684639, 0.0009671451989561319, -0.007010912522673607, -0.05058109760284424, -0.05088489130139351, -0.036891546100378036, -0.03649282082915306, 0.018417291343212128, -0.03467007726430893, 0.014657885767519474, -0.026220908388495445, -0.012892104685306549, 0.0018322357209399343, 0.01874956302344799, 0.016812900081276894, 0.04336607828736305, 0.034290339797735214, 0.027720872312784195, 0.005933405831456184, -0.020942550152540207, -0.002125346101820469, -0.010718104429543018, 0.029296785593032837, 0.01574013940989971, 0.04325215518474579, -0.04913809522986412, 0.02329692430794239, -0.004428694024682045, 0.006033087149262428, 0.020942550152540207, 0.053315211087465286, -0.009730786085128784, -0.04177117720246315, -0.005838471464812756, 0.023183003067970276, -0.019556505605578423, 0.07097303122282028, -0.04735332727432251, -0.016917327418923378, -0.017335038632154465, 0.021683039143681526, 0.027512017637491226, -0.038600366562604904, 0.02857528254389763, -0.03370174765586853, 0.00386620732024312, -0.023220976814627647, 0.0038139934185892344, -0.022746305912733078, 0.008743466809391975, 0.011980732902884483, -0.035296645015478134, 0.023239964619278908, -0.037328243255615234, -0.030454985797405243, -0.023239964619278908, 0.00595239270478487, -0.009669078513979912, -0.024777904152870178, -0.018787536770105362, -0.010423807427287102, -0.001126753748394549, 0.01542685553431511, 0.011154803447425365, 0.013148427940905094, 0.032809361815452576, -0.012218069285154343, 0.0026154452934861183, 0.004549735691398382, 0.011078855954110622, 0.023866532370448112, 0.026714567095041275, -0.006336877588182688, -0.01667049713432789, 0.007343183271586895, -0.0375370979309082, 0.035296645015478134, -0.006303650327026844, 0.003251506481319666, -0.0030402771662920713, 0.024948785081505775, 0.02988537959754467, 0.0018939431756734848, 0.021664051339030266, -0.012626287527382374, 0.02380957081913948, -0.0240184273570776, -0.02529054880142212, 0.005097982473671436, 0.0023389486595988274, 0.02508169412612915, 0.031100541353225708, -0.007158061023801565, -0.03979654237627983, -0.0415053628385067, 0.01099341455847025, 0.016917327418923378, -0.021132418885827065, -0.02173999883234501, 0.012313003651797771, 0.0047372314147651196, 0.0032301461324095726, -0.029201850295066833, 0.037613045424222946, -0.043404050171375275, -0.010737091302871704, 0.040593989193439484, -0.019841309636831284, 0.012464899569749832, 0.005833724979311228, -0.010689624585211277, -0.06307447701692581, -0.05699867010116577, -0.02992335334420204, 0.07473243772983551, -0.002200106857344508, 0.008824161253869534, 0.028670217841863632, 0.028024662286043167, -0.007684947457164526, 0.02811959758400917, 0.048986200243234634, -0.009089978411793709, 0.013879423029720783, 0.08711189031600952, -0.036321938037872314, -0.06725160032510757, -0.046745747327804565, -0.028746165335178375, 0.05984670668840408, -0.04602424427866936, 0.011306698434054852, 0.0029287291690707207, -0.02884110063314438, 0.02680950239300728, 0.034328315407037735, 0.0375370979309082, -0.02485385164618492, -0.008463410660624504, -0.02965753711760044, 0.0061897290870547295, -0.019423598423600197, 0.043631892651319504, 0.003308467101305723, -0.0019153034081682563, -0.00752355856820941, -0.004490401595830917, -0.01820843666791916, -0.037556085735559464, -0.009175418876111507, 0.010309886187314987, -0.0023057216312736273, -0.02582218311727047, -0.0164236668497324, 0.03945477679371834, 0.04382176324725151, -0.028746165335178375, -0.011990226805210114, -0.013195894658565521, -0.009033016860485077, -0.031556226313114166, 0.014126253314316273, -0.04602424427866936, -0.041657257825136185, -0.048758357763290405, 0.026695579290390015, -0.05847964808344841, 0.028214532881975174, 0.039606671780347824, -0.007627986837178469, -0.031252436339855194, -0.0005758370389230549, 0.0003230739675927907, 0.031195474788546562, 0.038600366562604904, -0.026942409574985504, -0.007423877716064453, -0.05361900478601456, -0.033834654837846756, 0.0009671451989561319, -0.006545733660459518, 0.0004604322894010693, -0.021208366379141808, -0.031024593859910965, -0.08483346551656723, -0.027910741046071053, 0.030037274584174156, 0.04279647022485733, 4.839434404857457e-05, 0.004326639696955681, 0.015749633312225342, -0.020600786432623863, -0.0068780044093728065, -0.025651300325989723, -0.006417572032660246, -0.015635712072253227, 0.026239894330501556, -0.04629005864262581, -0.0071295807138085365, -0.003075877670198679, -0.010262418538331985, 0.02633482962846756, -0.01972738839685917, 0.02838541381061077, 0.01725909113883972, 0.03696749359369278, -0.019803335890173912, -0.0639478787779808, -0.0219868291169405, 0.018948925659060478, 0.009322567842900753, -0.037138376384973526, -0.04431542381644249, 0.048758357763290405, 0.039378829300403595, -0.035866253077983856, -0.024758916348218918, -0.010233938694000244, -0.06337826699018478, 0.002417269628494978, -0.02884110063314438, -0.0329422689974308, -0.015863554552197456, 0.003377294633537531, -0.014809781685471535, -0.0019307303009554744, -0.009213392622768879, -0.035809293389320374, -0.001960397232323885, -0.046745747327804565, 0.03191697597503662, 0.04253065586090088, -0.0013290829956531525, 0.05878343805670738, 0.04989757016301155, -0.027512017637491226, 0.044657185673713684, -0.002973823109641671, -0.012806663289666176, -0.035315632820129395, 0.00785108283162117, 0.001342136412858963, 0.01153454091399908, 0.006313143763691187, 0.027455056086182594, -0.009241873398423195, -0.014363588765263557, -0.05396076664328575, -0.004974567797034979, 0.009218139573931694, 0.03066384233534336, 0.017126182094216347, 0.07249198108911514, -0.04078385978937149, 0.025708261877298355, 0.038353536278009415, -0.023353885859251022, -0.022176697850227356, -0.05118868127465248, 0.011012401431798935, 0.026790514588356018, -0.01344272494316101, 0.0179711002856493, 0.03679661080241203, -0.015170532278716564, -0.025765221565961838, 0.005985619965940714, -0.030948646366596222, -0.054302532225847244, 0.026220908388495445, -0.04401163384318352, 0.0044809081591665745, -0.020448889583349228, -0.08096013963222504, -0.009113711304962635, -0.027208225801587105, 0.03463210538029671, 0.05749233067035675, -4.316552804084495e-05, -0.05236586928367615, 0.013964864425361156, -0.012711728923022747, 0.015578750520944595, 0.016613537445664406, -0.03525867313146591, -0.01666100323200226, -0.007352676708251238, 0.04439137130975723, -0.005245130974799395, -0.00501254154369235, 0.007651720196008682, 0.01178137119859457, -0.0344422347843647, -0.003118598135188222, -0.07997281849384308, -0.04815077781677246, 0.0491001196205616, -0.025366496294736862, 0.012170602567493916, 0.040631964802742004, 0.021170392632484436, -0.029961327090859413, -0.034328315407037735, 0.013727528043091297, 0.013195894658565521, -0.018151475116610527, 0.018350837752223015, 0.0004233485087752342, 0.04530274122953415, 0.03624599054455757, -0.06668198853731155, -0.011990226805210114, 0.045948296785354614, -0.014790794812142849, -0.02306908182799816, -0.029771458357572556, 0.06816297024488449, -0.0013314563548192382, 0.05411266162991524, 0.0219868291169405, 0.008620052598416805, -0.0425686277449131, -0.0023698024451732635, 0.0023282684851437807, 0.0027459803968667984, -0.02532852254807949, -0.026239894330501556, 0.04784698411822319, -0.010803545825183392, -0.01617683842778206, 0.0032230261713266373, 0.020657746121287346, -0.02027800865471363, -0.02508169412612915, -0.004834539256989956, 0.016528096050024033, 0.007571026217192411, 0.005980873014777899, 0.0041391439735889435, 0.019651440903544426, 0.0006277543725445867, 0.03698647767305374, 0.031765080988407135, -0.014591432176530361, 0.0029999299440532923, 0.013727528043091297, -0.012607300654053688, -0.0019983712118119, -0.0032467597629874945, -0.04127752035856247, -0.03725229576230049, -0.006892244331538677, -0.007618493400514126, -0.02610698714852333, 0.0058622052893042564, -0.005221397150307894, 0.009555157274007797, -0.007404890842735767, -0.026676593348383904, 0.0081026591360569, 0.027682898566126823, 0.01848374679684639, -0.019803335890173912, 0.027682898566126823, 0.01717364974319935, 0.012056681327521801, 0.006474532652646303, -0.004969820845872164, 0.001051399507559836, 0.008648532442748547, -0.008064685389399529, -0.0450369231402874, -0.016385693103075027, 0.05540377274155617, 0.039644643664360046, 0.00898555014282465, 0.025974078103899956, -0.037556085735559464, 0.03503083065152168, 0.013727528043091297, -0.003242013044655323, -0.006868510972708464, -0.0013314563548192382, -0.007680200506001711, -0.0029619561973959208, -0.014135746285319328, -0.02933475933969021, -0.019651440903544426, -0.007105846889317036, -0.015407868660986423, 0.022974148392677307, -0.027948714792728424, 0.020847614854574203, 0.0200501661747694, -0.05134057626128197, 0.01265476830303669, -0.0005838471697643399, 0.04515084624290466, -0.02098052389919758, -0.023733623325824738, 0.021360261365771294, -0.04002438485622406, 0.002952462760731578, 0.046707771718502045, 0.004345626570284367, 0.002426763065159321, -0.004846406169235706, 0.008093166165053844, 0.03649282082915306, 0.003994368948042393, -0.014534471556544304, 0.0329422689974308, 0.020372942090034485, -0.0013100960059091449, 0.029296785593032837, -0.0005277764867059886, 0.00727198226377368, -0.04651790112257004, -0.0049128602258861065, -0.0008223700569942594, 0.013043999671936035, -0.0008728040265850723, -0.01846475899219513, 0.03998640924692154, 0.007438117638230324, 0.011021895334124565, 0.009825720451772213, 0.006498266011476517, -0.020904576405882835, -0.02101849764585495, -0.0032989736646413803, 0.024967772886157036, 0.022461501881480217, -0.03770798072218895, -0.011211764067411423, -0.0024113361723721027, 0.0001906106626847759, -0.02155013009905815, -0.043631892651319504, -0.008904855698347092, -0.007808362133800983, 0.01772427000105381, 0.04632803425192833, -0.022081764414906502, -0.020581798627972603, -0.013623099774122238, 0.046973589807748795, -0.010794051922857761, -0.012294016778469086, -0.020429903641343117, -0.006821043323725462, -0.002115852665156126, -0.03396756201982498, -0.003892314387485385, 0.002425576327368617, 0.06877055019140244, -0.0242842435836792, 0.009070990607142448, 0.006939711514860392, -0.04947986081242561, -0.011857318691909313, -0.01468636654317379, 0.028290480375289917, -0.015379387885332108, -0.030720802024006844, 0.015550270676612854, 0.01848374679684639, -0.030189169570803642, 0.015236986801028252, -0.015607231296598911, -0.028936034068465233, -0.0121421217918396, 0.013604112900793552, -0.014743327163159847, -0.01251236628741026, -0.039606671780347824, -0.03292328491806984, -0.007428624201565981, 0.021189378574490547, -0.002700886456295848, -0.004245945252478123, -0.016281265765428543, 0.028214532881975174, -0.018179956823587418, 0.008140632882714272, -0.014847755432128906, 0.017354026436805725, 0.0070536332204937935, -0.008392209187150002, 0.03343592956662178, 0.04777103662490845, 0.021702025085687637, 0.03184102848172188, -0.011838331818580627, -0.048492539674043655, -0.014335108920931816, -0.008919095620512962, 0.011686436831951141, -0.016736950725317, 0.01720213145017624, -0.03089168481528759, 0.005249877460300922, 0.015123065561056137, 0.00987318716943264, -0.003970635123550892, 0.005919165909290314, -0.022689344361424446, -0.015873048454523087, 0.025423457846045494, 0.036606740206480026, 0.04070791229605675, 0.018910951912403107, -0.0029619561973959208, -0.059125203639268875, 0.0018951299134641886, 0.025176627561450005, 0.0023555620573461056, 0.003666844917461276, -0.038315560668706894, 0.02832845412194729, 0.0006882750894874334, 0.005444493144750595, -0.03233468905091286, 0.033853642642498016, -0.012635781429708004, 0.03856239095330238, 0.015768619254231453, -0.03258151933550835, -0.008188100531697273, -0.010556715540587902, 0.024208296090364456, -0.011657956056296825, 0.017600854858756065, 0.010082043707370758, -0.025708261877298355, 0.0032467597629874945, 0.010661143809556961, -0.01496167667210102, 0.022860227152705193, 0.022461501881480217, 0.038125693798065186, 0.0011469273595139384, -0.006023593712598085, -0.025632314383983612, -0.013471204787492752, -0.006384344771504402, 0.0018132488476112485, -0.012246550060808659, 0.002242827555164695, -0.01972738839685917, -0.05194815620779991, -0.008145379833877087, -0.022955160588026047, -0.02350578084588051, -0.003916047979146242, -0.029467666521668434, -0.022632384672760963, 0.00461856322363019, 0.055821482092142105, -0.018132489174604416, -0.04032817482948303, 0.001734927878715098, -0.05061907321214676, 0.0038804474752396345, 0.03146129101514816, -0.006664401385933161, 0.031005606055259705, -0.02684747613966465, -0.02306908182799816, 0.017914138734340668, -0.011553527787327766, 0.03292328491806984, 0.028442375361919403, -0.018578680232167244, -0.002175186527892947, 0.00010976800695061684, 0.01800907403230667, 0.0016221931437030435, 0.011202270165085793, 0.021607091650366783, 0.015085090883076191, -0.03138534352183342, 0.025480419397354126, 0.008805174380540848, 0.014971169643104076, -0.006749842781573534, 0.01039532758295536, 0.02530953660607338, -0.0014026571298018098, 0.0007683760486543179, 0.01504711713641882, 0.009540916420519352, 0.014382575638592243, 0.028195545077323914, -0.0019283569417893887, -0.01648062840104103, 0.0225184615701437, 0.017145169898867607, 0.04002438485622406, 0.0066216811537742615, -0.00550145423039794, -0.03537259250879288, -0.013452217914164066, 0.02960057556629181, -0.007191287819296122, -0.0029287291690707207, -0.003851967165246606, 0.00191649014595896, -0.0035458034835755825, 0.002651045797392726, 0.019338157027959824, 0.00782734900712967, -0.005738790147006512, -0.01672745868563652, -0.010509248822927475, 0.02635381557047367, -0.002985689789056778, -0.026733553037047386, -0.0059998598881065845, 0.015312934294342995, 0.007703934330493212, 0.02054382488131523, 0.01100290846079588, -0.021360261365771294, 0.02098052389919758, 0.022138724103569984, 0.016537589952349663, 0.04864443466067314, 0.02453107386827469, 0.006688135210424662, -0.017543895170092583, 0.03364478424191475, -0.019632453098893166, -0.03472703695297241, 0.021872907876968384, 0.008292527869343758, -0.024265257641673088, 0.020714707672595978, -0.023999439552426338, -0.02333489991724491, -0.008159619756042957, -0.004222211893647909, -0.00859157182276249, -0.013043999671936035, 0.039872489869594574, -0.0026629127096384764, 0.02785378135740757, -0.006659654900431633, 0.04044209420681, 0.017866672948002815, -0.029220838099718094, -0.012683248147368431, -0.026638619601726532, 0.004070316441357136, 0.06246689707040787, 0.02229061909019947, 0.028499335050582886, 0.00015515855920966715, 0.026448750868439674, 0.011458593420684338, -0.018853990361094475, -0.025195615366101265, -0.031499266624450684, 0.012987039051949978, -0.027948714792728424, 0.01038583368062973, -0.013774995692074299, 0.0556316152215004, -0.02177797257900238, 0.019186262041330338, -0.009526676498353481, 0.0022736811079084873, 0.024113362655043602, -0.013100960291922092, -0.02253744937479496, -0.004561602603644133, 0.05468226969242096, 0.005985619965940714, 0.035866253077983856, 0.004753844812512398, 0.012246550060808659, -0.014752821065485477, -0.0030355304479599, -0.0265816580504179, -0.006018847227096558, 0.03643586114048958, 0.0390370637178421, 0.010148497298359871, 0.02155013009905815, -0.007689693942666054, -0.01352816540747881, -0.00501254154369235, -0.010594689287245274, -0.005980873014777899, 0.03206887096166611, 0.03298024460673332, -0.02308806963264942, -0.025917116552591324, 0.024246269837021828, -0.006626427639275789, 0.0006870884099043906, 0.06755539029836655, -0.008890615776181221, -0.020581798627972603, 0.012854130938649178, -0.04659384861588478, 0.0037475391291081905, -0.03322707489132881, -0.03677762299776077, -0.01848374679684639, 0.005083742085844278, 0.029239824041724205, -0.020296994596719742, 0.024967772886157036, 0.0034247618168592453, -0.015863554552197456, 0.018104007467627525, -0.02810060977935791, 0.02046787738800049, 0.035543475300073624, 0.016585055738687515, 0.026676593348383904, -0.004568722564727068, -0.006911231204867363, -8.67018970893696e-05, -0.03877124935388565, -0.009635851718485355, -0.017619842663407326, -0.011572514660656452, 0.03360681235790253, 0.026258882135152817, 0.043669868260622025, 0.019091326743364334, -0.02308806963264942, -0.011154803447425365, 0.018122995272278786, 0.02303110808134079, -0.026201920583844185, -0.005292598158121109, -0.026144960895180702, -0.010945946909487247, 0.010689624585211277, -0.042150914669036865, -0.05855559557676315, 0.01999320462346077, 0.023410847410559654, 0.009664331562817097, 0.012322497554123402, 0.005772017408162355, 0.014942689798772335, -0.02941070683300495, -0.028746165335178375, -0.012094655074179173, 0.011173790320754051, -0.016898339614272118, -0.023600716143846512, -0.01566419191658497, 0.0120092136785388, 0.01919575408101082, 0.0039635151624679565, -0.028746165335178375, 0.002567978110164404, -0.0005221397150307894, -0.07017558068037033, 0.002508644014596939, -0.0260500255972147, -0.012854130938649178, -0.009688065387308598, -0.03525867313146591, -0.002074318705126643, 0.018787536770105362, 0.02684747613966465, 0.001267375540919602, 0.036587756127119064, 0.03643586114048958, -0.06527695804834366, 0.027132278308272362, 0.006811549887061119, 0.015075597912073135, -0.009256113320589066, 0.060644157230854034, 0.010832025669515133, -0.010034576058387756, -0.0010063056834042072, 0.01103138830512762, -0.0222526453435421, 0.00461856322363019, -0.025271562859416008, 0.008544104173779488, -0.005833724979311228, 0.006830536760389805, 0.02153114415705204, 0.0011849012225866318, 0.022727318108081818, -0.025651300325989723, 0.005942899268120527, 0.03172710910439491, 0.010338366962969303, 0.01049026194959879, 0.007618493400514126, 0.02760695107281208, -0.013613606803119183, -0.006275170017033815, -0.00335118779912591, 0.0340055376291275, -0.0034295087680220604, -0.0002557297993917018, -0.018787536770105362, 0.028803126886487007, 0.030018286779522896, 0.018891964107751846, 0.02356274239718914, -0.007998230867087841, 0.011610488407313824, 0.0019900642801076174, -0.06277068704366684, 0.025385484099388123, -0.021341275423765182, 0.05274560675024986, -0.0200501661747694, -0.003066384233534336, -0.029771458357572556, 0.01293007843196392, -0.02325895056128502, 0.011287711560726166, 0.04883430525660515, -0.003284733509644866, -0.014657885767519474, -0.019936244934797287, -0.036568768322467804, -0.023619702085852623, -0.01951853185892105, -0.013100960291922092, 0.019613467156887054, 0.032771386206150055, 0.024170322343707085, 0.02456904761493206, 0.00042127183405682445, 0.02635381557047367, 0.027531003579497337, -0.04401163384318352, -0.01052823569625616, 0.03195495158433914, 0.0003548176900949329, 0.01645214855670929, 0.003234892850741744, 0.03930288180708885, -0.03465108945965767, 0.028176559135317802, -0.02050585113465786, 0.010547222569584846, -0.00651725335046649, 0.035847265273332596, -0.005976126529276371, -0.007262488827109337, 0.011449100449681282, 0.007950764149427414, 0.021436208859086037, -0.018312864005565643, 0.042910393327474594, -0.026429763063788414, -0.013983851298689842, 0.04928999021649361, 0.01621481217443943, -0.013062986545264721, 0.014524977654218674, -0.04123954474925995, 0.02960057556629181, 0.016385693103075027, 0.0061944760382175446, -0.031992923468351364, 0.017287570983171463, 0.02075268141925335, 0.036872558295726776, 0.02331591211259365, -0.007608999963849783, -0.01228452380746603, 0.022195685654878616, -0.010566209442913532, 0.004058449529111385, -0.04739129915833473, 0.006593200843781233, -0.013357283547520638, -0.0019936244934797287, -0.006498266011476517, -0.0204868633300066, -0.030530933290719986, 0.015180026181042194, -0.0022119737695902586, -0.017344532534480095, -0.007713427767157555, -0.004509388469159603, -0.004162877798080444, 0.008349488489329815, 0.003552923444658518, 0.0029311026446521282, 0.02561332657933235, -0.04727737978100777, 0.016765432432293892, 0.03767000883817673, -0.039113011211156845, -0.033587824553251266, 0.012331990525126457, 0.005036274902522564, 0.03567638248205185, 0.011468087323009968, 0.015132558532059193, 0.028233518823981285, 0.01953751966357231, 0.028518322855234146, 0.01519901305437088, 0.021853920072317123, 0.024398164823651314, 0.0121421217918396, -0.018607161939144135, -0.008278287947177887, -0.017069222405552864, -0.02075268141925335, -0.003768899478018284, 0.027265187352895737, -0.0006781882839277387, 0.02561332657933235, 0.031081553548574448, -0.03142331913113594, -0.00011095469380961731, 0.04180915281176567, -0.00848714355379343, 0.022328592836856842, -0.012911091558635235, -0.02050585113465786, -0.005601135082542896, -0.03360681235790253, 0.026524698361754417, 0.02986639179289341, 0.006218209397047758, 0.018445773050189018, 0.00501254154369235, -0.0179711002856493, -0.01039532758295536, 0.01492370292544365, -0.006574213970452547, 0.003930287901312113, 0.023942479863762856, 0.01750592142343521, -0.01343323104083538, 0.00040228493162430823, -0.04093575477600098, 0.014069292694330215, 0.013651580549776554, 0.015901528298854828, -0.022480487823486328, 0.03839150816202164, 0.02101849764585495, -0.0047372314147651196, 0.006066314410418272, 0.01100290846079588, 0.005772017408162355, -0.02992335334420204, 0.013129441067576408, -0.04678371921181679, 0.015236986801028252, -0.008325755596160889, 0.002810060977935791, 0.00550145423039794, -0.012170602567493916, -0.01293007843196392, -0.01264527440071106, 0.0030046768952161074, -0.019651440903544426, 0.023752611130475998, -0.023126043379306793, 0.009863694198429585, 0.0037143121007829905, 0.0016221931437030435, -0.009294087067246437, -0.0034817226696759462, -0.009270353242754936, 0.01644265465438366, -0.012218069285154343, -0.04199901968240738, -0.02122735232114792, 0.0007363356999121606, -0.047733064740896225, 0.03210684657096863, 0.008691253140568733, -0.02910691685974598, -0.0225184615701437, 0.03537259250879288, -0.02046787738800049, 0.02409437485039234, -0.010983921587467194, -0.009422248229384422, 0.04541666433215141, 0.008762453682720661, 0.0013112827436998487, 0.008520371280610561, -0.01455345842987299, 0.0027222465723752975, 0.021322287619113922, 0.020657746121287346, 0.01874006912112236, -0.014562951400876045, 0.019081832841038704, -0.02760695107281208, 0.03419540449976921, 0.039113011211156845, 0.02760695107281208, -0.01872108317911625, -0.010907973162829876, 0.013793982565402985, 0.004447680898010731, 0.017325544729828835, 0.015502803027629852, -0.03218279406428337, -0.020107125863432884, 0.013262349180877209, -0.03520170971751213, -0.001308909384533763, -0.02156911790370941, -0.013993344269692898, -0.060606181621551514, -0.026942409574985504, 0.0062799169681966305, -0.01343323104083538, -0.004217464942485094, -0.0011724410578608513, -0.019879283383488655, -0.03130939602851868, 0.04287241771817207, -0.011686436831951141, -0.03514475002884865, -0.00676882965490222, 0.01644265465438366, 0.009294087067246437, 0.011468087323009968, -0.047467246651649475, -0.030037274584174156, -0.04902417212724686, -0.03706242889165878, -0.0007440490880981088, -0.012854130938649178, -0.0017812084406614304, 0.014781300909817219, 0.03136635571718216, -0.016803406178951263, 0.004298159386962652, 0.022081764414906502, -0.017382506281137466, 0.0001497443299740553, 0.019898271188139915, -0.02151215635240078, -0.03092965856194496, 0.003358307760208845, 0.04329013079404831, -0.0014465643325820565, 0.008287781849503517, 0.015531283803284168, -0.008563091047108173, -0.015303440392017365, -0.012540847063064575, 0.01051874179393053, -0.01643316075205803, -0.021967843174934387, -0.0005515100783668458, -0.00430053286254406, 0.012123134918510914, -0.012873117811977863, -0.01902487315237522, -0.006403331644833088, -0.0283474400639534, -0.0051691834814846516, -0.014752821065485477, 0.008847895078361034, 0.0052546244114637375, 0.006270423531532288, 0.014373082667589188, -0.00360276410356164, -0.0139079038053751, 0.016252785921096802, 0.0024944038596004248, 0.0013979104114696383, -0.015778113156557083, 0.0348789319396019, -0.00530683808028698, -0.020353956148028374, -0.04530274122953415, 0.022746305912733078, 0.021189378574490547, 0.020809641107916832, -0.021815946325659752, -0.025271562859416008, 0.02358172833919525, -0.023619702085852623, -0.006066314410418272, 0.016034435480833054, 0.01153454091399908, -0.028727177530527115, -0.018540706485509872, -0.044429343193769455, 0.044960975646972656, -0.008026711642742157, 0.008786187507212162, -0.012673755176365376, 0.006199222523719072, 0.008344742469489574, 0.00782734900712967, 0.0027198733296245337, 0.016812900081276894, -0.01556925754994154, -0.02046787738800049, 0.010006096214056015, -0.002492030616849661, -0.02382855862379074, 0.018578680232167244, -0.025784209370613098, 0.00029726364300586283, -0.020353956148028374, -0.00833999551832676, 0.03791683912277222, -0.025442445650696754, -0.012085161171853542, -0.003420015098527074, 0.010480768047273159, -0.014154733158648014, 0.03599916025996208, 0.00463043013587594, 0.01467687264084816, -0.01454396452754736, 0.02534751035273075, -0.015882540494203568, -0.004675523843616247, -0.010072549805045128, 0.02889806032180786, -0.006175489164888859, -0.019148288294672966, 0.023164017125964165, -0.00752355856820941, -0.0033416941296309233, 0.023619702085852623, -0.001483351457864046, -0.04560653120279312, 0.00836372934281826, 0.0017456080531701446, 0.01596798188984394, 0.03463210538029671, -0.002658165991306305, -0.06732754409313202, -0.018028059974312782, 0.00037143120425753295, 0.014857248403131962, 0.007442864589393139, 0.009303580969572067, -0.003503082785755396, -0.006887497846037149, -0.014373082667589188, -0.0019485305529087782, 0.004003862384706736, -0.011885798536241055, -0.006208715960383415, -0.010983921587467194, -0.04226483777165413, 0.005548921413719654, -0.014800287783145905, 0.0010763198370113969, 0.010082043707370758, 0.002995183225721121, 0.02986639179289341, 0.0005369732389226556, -0.028955021873116493, 0.018635641783475876, 0.014088279567658901, -0.006047327537089586, 0.02253744937479496, 0.014297135174274445, -0.03370174765586853, -0.04154333472251892, 0.020334968343377113, 0.03193596377968788, 0.0048369127325713634, -0.02990436553955078, 0.0415053628385067, -0.05779612064361572, 0.0023638689890503883, -0.025879142805933952, -0.029049955308437347, -0.0003123938222415745, -0.03692951798439026, 0.015873048454523087, 0.011933266185224056, -0.0068732574582099915, -0.0060046068392694, 0.02963854931294918, 0.0360371358692646, -0.009759265929460526, -0.010822532698512077, 0.0010899666231125593, -0.0032894802279770374, -0.0032871069852262735, 0.03892314434051514, 0.030967632308602333, -0.019594479352235794, 0.02810060977935791, 0.014610419049859047, -0.021474182605743408, -0.027929728850722313, -0.03516373783349991, 0.015142052434384823, -0.013765501789748669, -0.002133652800694108, 0.053581029176712036, 0.041201572865247726, -0.04541666433215141, 0.020581798627972603, 0.0319739393889904, -0.012588313780725002, 0.05213802680373192, -0.0009481582674197853, -0.025917116552591324, -0.03535360470414162, 0.005809991154819727, 0.031518250703811646, 0.04078385978937149, 0.04602424427866936, 0.003192172385752201, -0.001275682239793241, 0.005411266349256039, -0.022423528134822845, 0.005805244203656912, 0.02073369361460209, -0.009455475956201553, 0.007879562675952911, -0.032828349620103836, 0.003467482514679432, 0.031290408223867416, 0.015445842407643795, -0.02432221733033657, 0.026429763063788414, -0.02734113484621048, 0.034328315407037735, -0.02382855862379074, -0.03111952729523182, 0.011971239931881428, 0.0015320053789764643, -0.033037204295396805, -0.03286632150411606, 0.005249877460300922, 0.03503083065152168, -0.009047257713973522, 0.03873327374458313, -0.004775205161422491, -0.0018357958178967237, 0.009327313862740993, 0.011382645927369595, 0.010775065049529076, -0.006692882161587477, 0.05464429408311844, -0.011306698434054852, -0.010328873060643673, 0.01669897697865963, -0.004191358108073473, -0.0046114432625472546, 0.020202061161398888, -0.008202340453863144, 0.014714846387505531, 0.041125621646642685, -0.022423528134822845, -0.011695929802954197, -0.012958558276295662, 0.027208225801587105, 0.024682968854904175, 0.010803545825183392, 0.01624329201877117, 5.2473558753263205e-05, 0.027986688539385796, 0.018588174134492874, 0.022461501881480217, 0.03339795395731926, -0.009165925905108452, 0.0065314932726323605, -0.0039231679402291775, 0.027512017637491226, 0.011249737814068794, -0.029790444299578667, 0.01593000814318657, -0.006061567459255457, -0.018360331654548645, 0.02333489991724491, 0.007357423193752766, -0.01255034003406763, 0.020809641107916832, 0.007096353452652693, 0.01303450670093298, 0.025499405339360237, 0.02557535283267498, -0.013043999671936035, 0.038315560668706894, -0.018113501369953156, 0.021815946325659752, 0.0006870884099043906, -0.037366218864917755, 0.07720073312520981, 0.02479689009487629, -0.008990297093987465, 0.015312934294342995, -0.03415743261575699, -0.002361495513468981, 0.00873871985822916, -0.045682478696107864, 0.008107406087219715, 0.01431612204760313, 0.007789375260472298, -0.015616724267601967, -0.025423457846045494, -0.009806733578443527, -0.00690173776820302, -0.008705493062734604, 0.017040742561221123, -0.03626497834920883, 0.02333489991724491, -0.006033087149262428, 0.0240184273570776, -0.00033701746724545956, 0.006094794720411301, 0.0455685593187809, -0.0011493007186800241, -0.018369825556874275, -0.041429415345191956, -0.015626218169927597, 0.021075457334518433, -0.0034152683801949024, 0.013737021945416927, -0.038885168731212616, -0.010575702413916588, -0.0030521440785378218, 0.022119738161563873, 0.017040742561221123, 0.006564720533788204, -0.06212513521313667, 0.017562881112098694, -0.014942689798772335, -0.0120092136785388, -0.006721362471580505, -0.022423528134822845, 0.03899909183382988, -0.0053305719047784805, 0.012835144065320492, -0.025233589112758636, 0.012863623909652233, 0.025005746632814407, 0.01252186018973589, -0.02432221733033657, 0.030492959544062614, -0.04473313316702843, 0.0298474058508873, 0.008828908205032349, 0.023638689890503883, 0.004207971505820751, 0.010784558951854706, -0.0006372478092089295, 0.022157711908221245]\n"
     ]
    }
   ],
   "source": [
    "embedded_query = embeddings_model.embed_query(\"인공지능이란 무엇인가요?\")\n",
    "\n",
    "# 쿼리 임베딩 결과 출력\n",
    "print(f\"쿼리 임베딩 벡터의 차원: {len(embedded_query)}\")\n",
    "print(embedded_query)"
   ]
  },
  {
   "cell_type": "markdown",
   "id": "8d6a23e3",
   "metadata": {},
   "source": [
    "`(4) 유사도 기반 검색`"
   ]
  },
  {
   "cell_type": "code",
   "execution_count": 12,
   "id": "a5c3435d",
   "metadata": {},
   "outputs": [
    {
     "name": "stdout",
     "output_type": "stream",
     "text": [
      "쿼리: 인공지능이란 무엇인가요?\n",
      "가장 유사한 문서: 머신러닝은 인공지능의 하위 분야입니다.\n",
      "유사도: 0.8573\n",
      "\n",
      "쿼리: 딥러닝과 머신러닝의 관계는 어떻게 되나요?\n",
      "가장 유사한 문서: 딥러닝은 머신러닝의 한 종류입니다.\n",
      "유사도: 0.9274\n",
      "\n",
      "쿼리: 컴퓨터가 이미지를 이해하는 방법은?\n",
      "가장 유사한 문서: 컴퓨터 비전은 컴퓨터가 디지털 이미지나 비디오를 이해하는 방법을 연구합니다.\n",
      "유사도: 0.9309\n",
      "\n"
     ]
    }
   ],
   "source": [
    "from langchain_community.utils.math import cosine_similarity\n",
    "import numpy as np\n",
    "\n",
    "# 쿼리와 가장 유사한 문서 찾기 함수\n",
    "def find_most_similar(query, doc_embeddings):\n",
    "    query_embedding = embeddings_model.embed_query(query)\n",
    "    # similarities = [cosine_similarity(query_embedding, doc_emb) for doc_emb in doc_embeddings]\n",
    "    similarities = cosine_similarity([query_embedding], doc_embeddings)[0]\n",
    "    most_similar_idx = np.argmax(similarities)\n",
    "    return documents[most_similar_idx], similarities[most_similar_idx]\n",
    "\n",
    "# 예제 쿼리\n",
    "queries = [\n",
    "    \"인공지능이란 무엇인가요?\",\n",
    "    \"딥러닝과 머신러닝의 관계는 어떻게 되나요?\",\n",
    "    \"컴퓨터가 이미지를 이해하는 방법은?\"\n",
    "]\n",
    "\n",
    "# 각 쿼리에 대해 가장 유사한 문서 찾기\n",
    "for query in queries:\n",
    "    most_similar_doc, similarity = find_most_similar(query, document_embeddings)\n",
    "    print(f\"쿼리: {query}\")\n",
    "    print(f\"가장 유사한 문서: {most_similar_doc}\")\n",
    "    print(f\"유사도: {similarity:.4f}\")\n",
    "    print()"
   ]
  },
  {
   "cell_type": "markdown",
   "id": "e4fcfdce",
   "metadata": {},
   "source": [
    "### 4-2 Huggingface - 오픈소스 LLM\n"
   ]
  },
  {
   "cell_type": "markdown",
   "id": "a1572d97",
   "metadata": {},
   "source": [
    "`(1) embedding 모델`"
   ]
  },
  {
   "cell_type": "code",
   "execution_count": 39,
   "id": "dd7af1f5",
   "metadata": {},
   "outputs": [
    {
     "name": "stderr",
     "output_type": "stream",
     "text": [
      "c:\\Users\\User\\AppData\\Local\\pypoetry\\Cache\\virtualenvs\\langchain-env-piYnTqFT-py3.11\\Lib\\site-packages\\huggingface_hub\\file_download.py:139: UserWarning: `huggingface_hub` cache-system uses symlinks by default to efficiently store duplicated files but your machine does not support them in C:\\Users\\User\\.cache\\huggingface\\hub\\models--BAAI--bge-m3. Caching files will still work but in a degraded version that might require more space on your disk. This warning can be disabled by setting the `HF_HUB_DISABLE_SYMLINKS_WARNING` environment variable. For more details, see https://huggingface.co/docs/huggingface_hub/how-to-cache#limitations.\n",
      "To support symlinks on Windows, you either need to activate Developer Mode or to run Python as an administrator. In order to activate developer mode, see this article: https://docs.microsoft.com/en-us/windows/apps/get-started/enable-your-device-for-development\n",
      "  warnings.warn(message)\n"
     ]
    },
    {
     "data": {
      "text/plain": [
       "HuggingFaceEmbeddings(client=SentenceTransformer(\n",
       "  (0): Transformer({'max_seq_length': 8192, 'do_lower_case': False}) with Transformer model: XLMRobertaModel \n",
       "  (1): Pooling({'word_embedding_dimension': 1024, 'pooling_mode_cls_token': True, 'pooling_mode_mean_tokens': False, 'pooling_mode_max_tokens': False, 'pooling_mode_mean_sqrt_len_tokens': False, 'pooling_mode_weightedmean_tokens': False, 'pooling_mode_lasttoken': False, 'include_prompt': True})\n",
       "  (2): Normalize()\n",
       "), model_name='BAAI/bge-m3', cache_folder=None, model_kwargs={}, encode_kwargs={}, multi_process=False, show_progress=False)"
      ]
     },
     "execution_count": 39,
     "metadata": {},
     "output_type": "execute_result"
    }
   ],
   "source": [
    "from langchain_huggingface.embeddings import HuggingFaceEmbeddings\n",
    "\n",
    "# Hugging Face의 임베딩 모델 생성\n",
    "embeddings_model = HuggingFaceEmbeddings(model_name=\"BAAI/bge-m3\")\n",
    "\n",
    "# 임베딩 객체 출력\n",
    "embeddings_model"
   ]
  },
  {
   "cell_type": "markdown",
   "id": "06cbe740",
   "metadata": {},
   "source": [
    "`(2) embed_documents 사용`"
   ]
  },
  {
   "cell_type": "code",
   "execution_count": 40,
   "id": "094a8891",
   "metadata": {},
   "outputs": [
    {
     "name": "stdout",
     "output_type": "stream",
     "text": [
      "임베딩 벡터의 개수: 5\n",
      "임베딩 벡터의 차원: 1024\n",
      "[-0.03941446915268898, 0.008764877915382385, -0.012681574560701847, 0.002453191438689828, -0.008944772183895111, -0.007383634336292744, -0.005377346649765968, -0.009055876173079014, 0.03291521966457367, 0.006045479327440262, -0.027012914419174194, -0.02774086967110634, 0.00044411560520529747, 0.03013654425740242, 0.01724281534552574, 0.017090314999222755, 0.02552488073706627, -0.021856050938367844, -0.011341264471411705, -0.05702263116836548, -0.00030169563251547515, 0.013543083332479, -0.007450110744684935, 0.01857438124716282, 0.0028946895617991686, 0.008630611933767796, -0.0007444878574460745, -0.02890406921505928, 0.020727824419736862, -0.020500583574175835, 0.008069934323430061, -0.026754174381494522, 0.003963051829487085, -0.016303887590765953, -0.07406217604875565, -0.033650364726781845, -0.02387147583067417, -0.03455008566379547, -0.03478596359491348, 0.00548296794295311, -0.0500335767865181, -0.002803538693115115, -0.023146891966462135, -0.0749114453792572, -0.011434388346970081, -0.028992656618356705, -0.03418297693133354, -0.025524679571390152, -0.061569131910800934, 0.013557914644479752, 0.024401193484663963, -0.03127628564834595, 0.05056965351104736, 0.012972619384527206, -0.06420668214559555, 0.027194857597351074, 0.006821549963206053, 0.010405530221760273, -0.06427165865898132, -0.016028212383389473, -0.020655423402786255, 0.030117645859718323, -0.006331706885248423, -0.013117465190589428, -0.0005491815390996635, 0.046959489583969116, 0.0077654533088207245, 0.029756596311926842, -0.03474409878253937, -0.036357298493385315, 0.02141391858458519, 0.017580483108758926, -0.03352216258645058, 0.013690421357750893, -0.052323490381240845, 0.04847841337323189, -0.013382794335484505, -0.01721264235675335, -0.03435641527175903, 0.02108699642121792, -0.022802522405982018, -0.006211872212588787, -0.012333839200437069, -0.04589994624257088, -0.0436253622174263, -0.03322099149227142, -0.030902864411473274, 0.06267785280942917, -0.013041108846664429, 0.003060566261410713, -0.03402102738618851, -0.011811485514044762, 0.06983617693185806, -0.06787192821502686, -0.0412171445786953, -0.045425187796354294, -0.059547509998083115, 0.02657216601073742, 0.021793344989418983, 0.01664939522743225, -0.004795463290065527, 0.05578603222966194, 0.0058421543799340725, -0.004925721324980259, 0.0052034007385373116, 0.012360362336039543, 0.01587354764342308, 0.01367834210395813, -0.004320629872381687, -0.016777485609054565, 0.024673422798514366, 0.0788276344537735, -0.0033149663358926773, 0.02773303911089897, -0.01484988909214735, -0.0362965427339077, -0.007080174516886473, -0.005244830623269081, 0.031237957999110222, 0.028104566037654877, 0.02144520729780197, 0.02693241462111473, -0.018261361867189407, -0.035456929355859756, 0.02549433708190918, -0.014402559027075768, 0.04316094145178795, -0.006512617226690054, -0.002386915497481823, -0.02542489394545555, 0.007254250347614288, 0.0016669827746227384, -0.06067400425672531, 0.002136928029358387, -0.07933434098958969, -0.03168248012661934, -0.026456251740455627, -0.0345732718706131, 0.0011898425873368979, -0.026784762740135193, 0.03188098594546318, 0.008707386441528797, -0.034499384462833405, -0.02601381205022335, 0.02824806235730648, 0.0288490429520607, 0.011804278939962387, 0.006611377466470003, -0.04028214514255524, 0.006594959646463394, -0.04195797070860863, 0.0018759205704554915, -0.01684918999671936, -0.0003243568353354931, 0.008593752980232239, 0.05727250128984451, 0.034512728452682495, 0.01829131506383419, -0.03627156838774681, 0.01924334280192852, -0.01102645043283701, -0.05107652768492699, -0.011925897561013699, 0.03441401943564415, 0.025015469640493393, 0.005875390488654375, 0.0022539265919476748, 0.056633058935403824, -0.025044510141015053, -0.05167197436094284, -0.04070145636796951, -0.003823752049356699, -0.08939453214406967, 0.01349114254117012, 0.03287689387798309, 0.02079862356185913, 0.04125240445137024, 0.031183984130620956, 0.010359560139477253, -0.032930515706539154, -0.02438643015921116, -0.0156359001994133, -0.017844393849372864, 0.016319548711180687, -0.0033740184735506773, -0.008289584890007973, 0.007997668348252773, 0.01757994294166565, 0.005814956035465002, -0.001509607071056962, 0.03361961245536804, -0.02357891947031021, 0.018168527632951736, -0.013307596556842327, -0.010974663309752941, -0.060735464096069336, 0.03531360998749733, 0.03325324505567551, 0.0035983987618237734, -0.009528769180178642, -0.033462416380643845, 0.026455922052264214, 0.00484520522877574, -0.005232781171798706, -0.028605123981833458, 0.035237595438957214, -0.0023234498221427202, -0.033424679189920425, 0.02069602720439434, -0.016646696254611015, 0.05031394213438034, 0.005382899660617113, 0.006805273704230785, -0.042241476476192474, -0.0504368357360363, -0.02366652712225914, -0.00038125025457702577, 0.01748696155846119, -0.021624522283673286, -0.05115286260843277, -0.005384478718042374, -0.007931961677968502, 0.012596608139574528, 0.04038447141647339, 0.02364308014512062, 0.011450358666479588, -0.01260422170162201, -0.0240175798535347, 0.059375133365392685, 0.022747106850147247, -0.014662849716842175, 0.02844354510307312, 0.0028611146844923496, -0.027433859184384346, 0.002659762278199196, -0.012619083747267723, -0.01932607591152191, 0.001293035689741373, 0.024065818637609482, 0.005560113582760096, 0.00046929632662795484, -0.012332871556282043, 0.008361558429896832, 0.007104411721229553, -0.014163915067911148, -0.02578965574502945, -0.00906703807413578, 0.011334902606904507, -0.038673292845487595, 0.01245869044214487, -0.014846667647361755, -0.05338013917207718, 0.0007010990520939231, -0.037628188729286194, 0.02440432272851467, -0.022411514073610306, -0.003127599135041237, 0.005926211830228567, 0.029243435710668564, 0.012872296385467052, -0.025251485407352448, -0.017893921583890915, -0.03265887871384621, 0.015788793563842773, 0.03683759644627571, -0.019260236993432045, 0.0041534448973834515, -0.008615191094577312, 0.025600189343094826, 0.03141624107956886, 0.013882125727832317, 0.016615968197584152, 0.026485947892069817, 0.016514752060174942, 0.03710552677512169, 0.017170414328575134, 0.0163216944783926, -0.022120604291558266, 0.02762201614677906, 0.02409963868558407, -0.024875931441783905, -0.03490519896149635, 0.010859484784305096, 0.03753616660833359, 0.032445091754198074, -0.002951035276055336, -0.021300727501511574, -0.0008492471533827484, -0.04943307116627693, -0.05027168244123459, -0.055717583745718, -0.035786308348178864, 0.051653895527124405, -0.02650037780404091, -0.02994462288916111, 0.04084893688559532, -0.002776492852717638, -0.15416252613067627, 0.05287329852581024, -0.04403998330235481, 0.024527791887521744, 0.00077176617924124, -0.023125825449824333, 0.02821776270866394, 0.020606109872460365, -0.06491448730230331, 0.05870118364691734, -0.01525961421430111, -0.05291957035660744, -0.026743721216917038, -0.01604016125202179, 0.035134587436914444, 0.03692733123898506, 0.018241019919514656, -0.0001441849599359557, -0.02538209967315197, -0.0042935931123793125, -0.04096037149429321, -0.050586022436618805, 0.015014292672276497, -0.035815514624118805, 0.02978992648422718, -0.04509026184678078, -0.020970860496163368, -0.023698948323726654, -0.029049718752503395, -0.0343937948346138, -0.018698520958423615, -0.009413991123437881, -0.021368462592363358, 0.04190988093614578, 0.022590285167098045, 0.008137812837958336, 0.0034019427839666605, -0.034972917288541794, 0.053523413836956024, 0.006330669857561588, -0.009400784969329834, 0.03403531387448311, 0.013987426646053791, 0.00509561225771904, -0.00040182616794481874, -0.022481223568320274, 0.03870442509651184, 0.0006443592719733715, -0.01381597388535738, 0.009313317947089672, -0.02437046729028225, -0.05039580166339874, 0.04627164080739021, -0.02121729776263237, -0.033464591950178146, 0.006026182323694229, 0.010226252488791943, 0.0693257749080658, 0.022632256150245667, 0.012568928301334381, -0.040256764739751816, -0.03471677377820015, 0.019841719418764114, 0.014833958819508553, 0.013841438107192516, -0.04672091454267502, 0.05547323450446129, 0.011165833100676537, 0.021457118913531303, -0.022262301295995712, 0.0364818349480629, -0.0014091437915340066, 0.05106928572058678, -0.016896812245249748, -0.0002581081062089652, 0.04926152527332306, 0.007794057484716177, -0.07784522324800491, -0.05160044878721237, -0.08172135055065155, 0.00018158313469029963, -0.0027509096544235945, -0.009116092696785927, -0.004651380702853203, -0.042098190635442734, -0.002210958395153284, -0.010076195001602173, -0.02788078412413597, 0.05060306191444397, 0.20528988540172577, 0.02644435688853264, -0.0002254476275993511, -0.026649270206689835, 0.03717314451932907, -0.008842219598591328, -0.014338307082653046, -0.019308773800730705, 0.017481021583080292, -0.01015718188136816, 0.009985284879803658, -0.022104492411017418, -0.0012158098397776484, 0.006270213518291712, 0.013725257478654385, 0.025201886892318726, -0.033859267830848694, -0.0011371687287464738, 0.08596239238977432, 0.021859345957636833, -0.0076448931358754635, -0.0030850348994135857, 0.044531479477882385, -0.001303782337345183, -0.028895681723952293, -0.02633533999323845, 0.002809337107464671, 0.0107972901314497, -0.01945137232542038, -0.03645366430282593, 0.0050881956703960896, 0.029914122074842453, -0.01068191509693861, 0.006684951949864626, 0.02388140745460987, 0.017712924629449844, 0.001470388611778617, -0.01895175315439701, 0.009166180156171322, 0.0076647475361824036, -0.020509932190179825, -0.01571495272219181, -0.0014613198582082987, 0.007429530378431082, 0.00956692360341549, 0.010711191222071648, 0.006898308638483286, -0.009391148574650288, -0.019545506685972214, -0.03545309603214264, -0.061767205595970154, -0.022272864356637, -0.043118417263031006, 0.018352791666984558, -0.0023402334190905094, -0.004222705028951168, -0.043274905532598495, 0.025858130306005478, 0.017618434503674507, 0.008789441548287868, 0.03943895548582077, 0.008824624121189117, 0.03327036276459694, 0.025980599224567413, -0.00933138094842434, -0.005429001059383154, -0.037403129041194916, -0.058240797370672226, 0.05887580290436745, -0.00374287529848516, 0.013187023811042309, 0.014792957343161106, -0.04668261483311653, -0.02210737206041813, 0.006471674423664808, 0.003505829256027937, 0.03154465928673744, 0.02669123001396656, 0.028576424345374107, 0.028033766895532608, -0.029319925233721733, 0.010856621898710728, -0.027783162891864777, 0.03786863759160042, 0.007742185611277819, -0.051455266773700714, -0.014120887033641338, 0.05561647191643715, 0.017498547211289406, -0.024795707315206528, 0.01381831243634224, 0.008258553221821785, -0.009095116518437862, 0.044248372316360474, -0.013298426754772663, 0.022851180285215378, 0.007554658688604832, -0.005556205753237009, -0.02685144543647766, 0.04283798858523369, -0.03062460944056511, -0.043705523014068604, -0.0096804304048419, -0.006718796212226152, 0.016627706587314606, 0.020827854052186012, 0.02059094049036503, 0.055483728647232056, 0.009113762527704239, 0.04802141711115837, 0.002895132638514042, 0.026987817138433456, -0.05199027061462402, -0.04606884717941284, 0.014079557731747627, -0.010256743058562279, 0.02094566635787487, 0.020687106996774673, 0.00696861557662487, 0.014875826425850391, -0.031363923102617264, 0.001248713699169457, 0.01880241185426712, 0.03199203312397003, 0.00028782052686437964, -0.027227673679590225, 0.04708471521735191, 0.03383401408791542, -0.015768973156809807, 0.01964706927537918, 0.060615796595811844, 0.0018482004525139928, 0.004004721995443106, 0.04876021668314934, 0.0228267852216959, 0.01428444404155016, -0.014066165313124657, 0.021967381238937378, 0.05986214056611061, 0.0002834687184076756, 0.014908620156347752, 0.007023287005722523, 0.024416407570242882, 0.00801573321223259, 0.010872585698962212, 0.0016236106166616082, -0.013646859675645828, 0.04847601056098938, -0.023516226559877396, -0.006223457865417004, 0.0007701709982939065, -0.022264255210757256, 0.05826375633478165, -0.042533259838819504, -0.008776918984949589, -0.02951105497777462, -0.021039318293333054, -0.005618665833026171, 0.03724322095513344, -0.022321175783872604, 0.029593192040920258, 0.02222094126045704, 0.06000769883394241, 0.05433724820613861, -0.01310891006141901, 0.046754200011491776, -0.004019571468234062, -0.02003682777285576, -0.009979188442230225, -0.052365098148584366, 0.012971524149179459, -0.02396404929459095, -0.04701245203614235, 0.017680242657661438, -0.06316709518432617, -0.012216207571327686, -0.05153873190283775, 0.016716135665774345, 0.00289647514000535, 0.002354320604354143, 0.046984296292066574, 0.005236114375293255, 0.028605883941054344, 0.018033556640148163, 0.0026883657556027174, 0.012599200010299683, 0.043125808238983154, -0.012468742206692696, 0.01619081385433674, -0.03503524884581566, -0.013990458101034164, 0.08501618355512619, -0.0006753953639417887, -0.03510753810405731, 0.018908226862549782, -0.04388411343097687, 0.018178388476371765, -0.01459521520882845, 0.05074280872941017, -0.014598769135773182, -0.01224843505769968, -0.05382170155644417, 0.009177299216389656, -0.013290979899466038, -0.026121482253074646, 0.019020939245820045, -0.009157819673418999, 0.01595844328403473, -0.012059297412633896, 0.023945920169353485, 0.010822094045579433, 0.001278198673389852, -0.047413796186447144, 0.028183525428175926, -0.030282076448202133, 0.034502532333135605, -0.03545205295085907, 0.01061070803552866, 0.02175799384713173, -0.07106903940439224, -0.011429160833358765, -0.0007577496580779552, 0.0009730372694320977, -0.06687965989112854, 0.0017512697959318757, 0.03083803690969944, -0.01364520750939846, -0.020122958347201347, -0.019696660339832306, 0.04643264412879944, -0.004844092298299074, -0.08160027116537094, 0.040443092584609985, 0.004950431641191244, 0.031064771115779877, 0.005250930320471525, -0.006103131454437971, 0.014033698476850986, -0.0211818628013134, -0.019575394690036774, 0.025881575420498848, -0.02679465338587761, 0.06484145671129227, 0.017436452209949493, 0.02530401572585106, 0.012567227706313133, 0.006157855037599802, -0.01525913830846548, -0.0029800639022141695, 0.004574268124997616, -0.011685394681990147, -0.04778233915567398, 0.04852066934108734, 0.027301914989948273, 0.019908646121621132, -0.04611232504248619, 0.04947088286280632, -0.015534107573330402, -0.022958900779485703, 0.007057518232613802, 0.011417131870985031, 0.028111224994063377, -0.0009655208559706807, 0.005214732140302658, 0.005879644304513931, 0.0409088172018528, 0.046704258769750595, 0.013859475031495094, -0.04856495559215546, -0.036418650299310684, 0.03055664151906967, -0.003317089518532157, -0.03998243808746338, -0.03232387825846672, 0.03208169713616371, -0.002212321851402521, -0.03743823245167732, 0.04703686758875847, 0.04756614565849304, -0.003721148706972599, -0.004849919583648443, 0.05456383898854256, 0.008762202225625515, 0.014281697571277618, 0.013041442260146141, -0.005775482393801212, 0.011362386867403984, 0.0057272277772426605, 0.028392285108566284, -0.03743184730410576, 0.017423391342163086, 0.009146063588559628, -0.04311313107609749, 0.010060429573059082, -0.013028762303292751, 0.026313547044992447, -0.008787055499851704, 0.04881318658590317, -0.023941803723573685, -0.008417535573244095, -0.030199917033314705, -0.011565573513507843, -0.00822755228728056, -0.0007780133164487779, 0.03608615696430206, 0.019429659470915794, 0.01580190099775791, -0.0647558718919754, 0.03227157145738602, -0.019714798778295517, 0.012444713152945042, 0.0005196693819016218, 0.03724117577075958, 0.048615820705890656, -0.030769050121307373, -0.011096948757767677, 0.030283793807029724, -0.04953474923968315, 0.05492837727069855, -0.002062827115878463, 0.04958372190594673, 0.0007331231026910245, -0.006119844038039446, -0.023130184039473534, 0.009980822913348675, 0.023883359506726265, -0.01945856213569641, -0.03200143948197365, 0.029113788157701492, -0.05370790883898735, -0.012846655212342739, 0.03300858661532402, -0.0024578117299824953, 0.025622403249144554, 0.002896980382502079, -0.016086364164948463, -0.0198927354067564, -0.03626827150583267, 0.05153733491897583, 0.02597833424806595, -0.02375463768839836, -0.0021327363792806864, 0.056630589067935944, -0.021224917843937874, 0.0261578019708395, -0.03065485507249832, -0.009088549762964249, -0.0013655178481712937, 0.007371788378804922, 0.014015529304742813, -0.038815710693597794, -0.005175877828150988, -0.020652413368225098, -0.08542819321155548, 0.032869815826416016, -0.021121667698025703, -0.0017046919092535973, -0.023852845653891563, 0.010193401016294956, 0.00315287197008729, -0.046267639845609665, 0.004378526471555233, 0.012766271829605103, 0.0318891778588295, -0.006445457227528095, 0.061730481684207916, 0.027293309569358826, -0.040185295045375824, 0.01274731382727623, -0.043413903564214706, -0.034342266619205475, 0.024029001593589783, 0.045110784471035004, -0.0642278790473938, -0.0026708522345870733, 0.015765849500894547, -0.04633605107665062, 0.015471912920475006, -0.012263921089470387, 0.004063944332301617, 0.0028700034599751234, -0.05909789726138115, -0.049778759479522705, -0.03188011795282364, 0.004282418172806501, -0.04063797369599342, -0.010036937892436981, -0.020495109260082245, 0.04349435120820999, 0.00918309111148119, -0.02145696058869362, -0.036665599793195724, 0.038714151829481125, -0.02857704646885395, -0.12108996510505676, 0.011257986538112164, -0.021855931729078293, 0.03847647085785866, -0.02077888883650303, 0.026198456063866615, -0.005205515306442976, 0.007620593067258596, 0.023885350674390793, -0.06817091256380081, -0.010705300606787205, 0.038387276232242584, 0.02087838388979435, -0.013643725775182247, -0.0012990492396056652, 0.018895799294114113, -0.010627211071550846, 0.019094299525022507, 0.007303029298782349, 0.025121115148067474, -0.003089897334575653, 0.019350523129105568, 0.04545747861266136, -0.006982710212469101, 0.01658436469733715, -0.004083534236997366, 0.006178649142384529, 0.01003359630703926, -0.06160510703921318, 0.008099185302853584, 0.05615951120853424, -0.057078372687101364, 0.00585964135825634, 0.0026495561469346285, -0.05222038924694061, -0.029950173571705818, -0.04529866948723793, 0.0040386272594332695, -0.027648016810417175, 0.03871120512485504, -0.032724447548389435, 0.027157513424754143, 0.03960351273417473, -0.011242403648793697, 0.015820512548089027, 0.08895587176084518, -0.03150157257914543, -0.016731737181544304, -0.014683905988931656, -0.020741144195199013, 0.029698319733142853, -0.026172656565904617, -0.012390916235744953, 0.05219876393675804, -0.0127800852060318, 0.016312692314386368, -0.05087518319487572, 0.00912152323871851, -0.003136364044621587, 0.07734204083681107, -0.04193480312824249, 0.0007514406461268663, -0.030584542080760002, 0.01300635002553463, -0.007410429883748293, 0.03098607249557972, -0.05732092261314392, -0.010988307185471058, -0.015135095454752445, 0.00688883475959301, 0.008642548695206642, 0.06573333591222763, 0.03371095284819603, -0.03401578962802887, 0.02934543415904045, 0.01167397852987051, 0.05105680599808693, 0.007065124344080687, 0.01981096900999546, -0.03461388871073723, 0.016095591709017754, 0.012484737671911716, -0.04676219820976257, -0.027515847235918045, 0.01037660799920559, -0.02294728346168995, -0.034122534096241, -0.0032300404272973537, -0.00817720964550972, -0.02337176911532879, -0.04848461598157883, -0.01111381221562624, -0.019519340246915817, -0.003848909866064787, -0.047343477606773376, 0.013848795555531979, 0.002097094664350152, 0.012429012916982174, -0.016072385013103485, -0.012233704328536987, -0.007150455843657255, -0.0052272058092057705, 0.009924759157001972, -0.0023524004500359297, -0.02041591890156269, 0.03459925204515457, 0.06643096357584, -0.010721622966229916, 0.05480986461043358, -0.03403061628341675, 0.009117638692259789, -0.01421953085809946, -0.051660120487213135, 0.03949767351150513, -0.002909449627622962, -0.012116211466491222, 0.016222789883613586, 0.06202354654669762, 0.015340447425842285, 0.03206438571214676, 0.046687908470630646, -0.026615340262651443, 0.002264581620693207, -0.018055355176329613, 0.061481352895498276, 0.003460136242210865, 0.0007895302260294557, 0.0458180196583271, 0.049780022352933884, 4.504522053139226e-07, 0.015820655971765518, -0.028666431084275246, 0.05133131518959999, -0.019402487203478813, 0.05014572665095329, 0.001263044192455709, 0.06666203588247299, 0.03221098706126213, -0.07578133046627045, -0.026775680482387543, -0.02279253676533699, -0.013899154961109161, -0.002747284946963191, -0.017225345596671104, -0.05203039199113846, -0.006385985761880875, 0.028290880843997, -0.05922165513038635, -0.006042574532330036, -0.01032983884215355, -0.020534317940473557, -0.025234203785657883, 0.006484982091933489, 0.059877462685108185, -0.06461498886346817, 0.03917226195335388, -0.03935927525162697, 0.011597123928368092, -0.005001296754926443, -0.021776588633656502, 0.02479618974030018, -0.021055851131677628, -0.014341404661536217, 0.005037357565015554, -0.026903128251433372, -0.015666255727410316, -0.020005524158477783, -0.017518429085612297, -0.0021191034466028214, 0.03180163726210594, 0.03315678611397743, 0.06110072135925293, -0.021780211478471756, -0.007200473919510841, 0.02345701865851879, 0.0045004114508628845, -0.03394908085465431, 0.03062775731086731, 0.050583403557538986, 0.019436325877904892, 0.030365243554115295, -0.008498174138367176, 0.038616158068180084, 0.02410677820444107, -0.029866768047213554, -0.02248375676572323, -0.029365157708525658, 0.05913858488202095, 0.023994214832782745, -0.05173458158969879, -0.021445631980895996, -0.008028732612729073, -0.04587537795305252, 0.018533948808908463, -0.01298089325428009, 0.062045563012361526, 0.025514403358101845, 0.030436033383011818, -0.013861721381545067, 0.011499163694679737, -0.0768979862332344, -0.01568571850657463, 0.031369224190711975, -0.010092443786561489, -0.004928594920784235, 0.0058395895175635815, -0.053610578179359436, -0.0019884733483195305, -0.02330583520233631, -0.012968518771231174, 0.008794059976935387, 0.018897265195846558, 0.0008403715910390019, -0.0075892554596066475, 0.048878900706768036, -0.05043145641684532, 0.012651980854570866, -0.00504954531788826, -0.015551933087408543, 0.0036742158699780703, 0.0029689609073102474, 0.007681530434638262, -0.026818862184882164, -0.010751376859843731, 0.013961035758256912, -0.031508367508649826, 0.01026756502687931, 0.05015925318002701, -0.0351119190454483, -0.0008258056477643549, -0.028183424845337868, -0.024121249094605446, 0.0028528941329568624, 0.02042170986533165, -0.013471681624650955, -0.014262378215789795, 0.022602228447794914, 0.038974639028310776, -0.00824045855551958, -0.015732187777757645, 0.05449071153998375, 0.00834172498434782, 0.034941382706165314, -0.017748070880770683]\n"
     ]
    }
   ],
   "source": [
    "# 문서 임베딩\n",
    "document_embeddings = embeddings_model.embed_documents(documents)\n",
    "\n",
    "# 임베딩 결과 출력\n",
    "print(f\"임베딩 벡터의 개수: {len(document_embeddings)}\")\n",
    "print(f\"임베딩 벡터의 차원: {len(document_embeddings[0])}\")\n",
    "print(document_embeddings[0])"
   ]
  },
  {
   "cell_type": "markdown",
   "id": "17ba092f",
   "metadata": {},
   "source": [
    "`(3) embed_query 사용`"
   ]
  },
  {
   "cell_type": "code",
   "execution_count": 41,
   "id": "6d3832ff",
   "metadata": {},
   "outputs": [
    {
     "name": "stdout",
     "output_type": "stream",
     "text": [
      "쿼리 임베딩 벡터의 차원: 1024\n",
      "[-0.03703910857439041, -0.004837977234274149, 0.002937301993370056, -0.0155146149918437, -0.0009442040463909507, -0.041501618921756744, -0.0065744430758059025, 0.011289611458778381, 0.021614037454128265, 0.004928721580654383, -0.020340586081147194, 0.016905207186937332, -0.01287413015961647, 0.005518912337720394, 0.014988313429057598, 0.024228766560554504, 0.0073691424913704395, -0.028049904853105545, -0.014938993379473686, -0.051851898431777954, -0.006705078296363354, -0.00925152376294136, -0.01698082871735096, 0.006491475272923708, 0.0529317781329155, 0.04813732951879501, -0.008069519884884357, -0.023171762004494667, 0.018143033608794212, -0.01132812350988388, -0.004240384325385094, -0.00635472172871232, -0.0022717099636793137, 0.014329420402646065, -0.03563680127263069, -0.008155823685228825, -0.011798215098679066, -0.04542406648397446, -0.040732864290475845, 0.002213909989222884, -0.012132315896451473, 0.01789611019194126, -0.01914467103779316, -0.041924431920051575, 0.0009190690470859408, -0.03915587440133095, -0.02435961924493313, -0.024489065632224083, -0.0221891850233078, -0.004594800993800163, 0.03145499899983406, -0.04872862994670868, 0.01798146218061447, 0.024992061778903008, 0.002237493870779872, 0.0484931543469429, -0.00827550608664751, 0.028034614399075508, -0.07396603375673294, -0.020461732521653175, -0.02633664943277836, -0.007573049049824476, -0.03894695267081261, -0.017513737082481384, 0.01922086998820305, 0.0637216717004776, 0.020348941907286644, -0.011644093319773674, -0.018541254103183746, -0.040831174701452255, 0.0024215863086283207, 0.04151124507188797, -0.05780715122818947, 0.05268526077270508, -0.04598036780953407, 0.01136146392673254, 0.020732011646032333, 0.006215624511241913, -0.034680865705013275, 0.017564894631505013, 0.04858102649450302, -0.011552084237337112, -0.029530895873904228, -0.013280296698212624, -0.006100402679294348, -0.0019025321817025542, -0.01976139098405838, 0.06854034215211868, -0.010715038515627384, 0.002307082060724497, -0.04258962348103523, -0.0015900882426649332, 0.051189228892326355, -0.1059906929731369, -0.018659505993127823, -0.08233021944761276, -0.03328856825828552, 0.010936746373772621, 0.014399300329387188, 0.032037153840065, -0.005423139315098524, 0.04439564421772957, 0.01600418984889984, -0.026697076857089996, 0.029552817344665527, 0.005722407251596451, 0.000792717793956399, 0.00944548100233078, -0.03795604780316353, -0.0065591055899858475, 0.03813176974654198, 0.03867703303694725, 0.019001876935362816, 0.032001249492168427, -0.04679051414132118, -0.05345744639635086, 0.008922774344682693, 0.0013820783933624625, 0.023152250796556473, 0.04090913012623787, -0.00774686923250556, 0.020619865506887436, -0.036084674298763275, -0.042336605489254, -0.008937300182878971, -0.01676204614341259, 0.03305098041892052, 0.03457774221897125, -0.00610669981688261, -0.014311729930341244, 0.026956042274832726, -0.01739504560828209, -0.07625304162502289, -0.006047247909009457, -0.05990391969680786, -0.020366089418530464, 0.006905903574079275, -0.031208118423819542, 0.02491195686161518, -0.033270444720983505, 0.034372515976428986, 0.006274032406508923, -0.03359514847397804, -0.02889174222946167, 0.018341289833188057, 0.00662935571745038, 0.004403310362249613, -0.00789885688573122, -0.010449218563735485, 0.0244990773499012, -0.01784856989979744, -0.023140765726566315, -0.026498056948184967, -0.009703992865979671, 0.008640225045382977, 0.046334803104400635, 0.010182344354689121, 0.023935405537486076, -0.05202912166714668, 0.034543391317129135, 0.04255595803260803, -0.0006984250503592193, 0.006904157344251871, 0.024554777890443802, -0.009249915368855, 0.0037500071339309216, 0.0019923136569559574, 0.022435232996940613, -0.007651494815945625, -0.026824641972780228, -0.03718419745564461, 0.010140026919543743, -0.03330319747328758, 0.03516095504164696, 0.014153017662465572, 0.0015179556794464588, 0.06473011523485184, 0.0334167443215847, -0.009922763332724571, -0.0082174027338624, -0.05553996562957764, -0.01752467080950737, -0.011371000669896603, 0.0038229895289987326, -0.003737520659342408, 0.011147863231599331, 0.015892645344138145, 0.011535942554473877, 0.019301921129226685, 6.596662569791079e-05, -0.016626128926873207, -0.02188459038734436, 0.013342275284230709, -0.004614612553268671, -0.0013086441904306412, -0.029976196587085724, 0.03368758037686348, 0.04602937027812004, -0.004229736514389515, -0.040023427456617355, -0.027000149711966515, 0.02847193367779255, 0.016615090891718864, 0.007433953694999218, -0.04309447109699249, 0.013872218318283558, 0.004785234574228525, -0.04215671122074127, 0.011164250783622265, -0.03745197504758835, 0.018990477547049522, 0.0484260618686676, 0.049872223287820816, -0.023933259770274162, -0.0551706999540329, -0.008649086579680443, -0.019167348742485046, 0.04419618844985962, -0.007545462343841791, -0.012426633387804031, -0.013597331941127777, 0.019231384620070457, 0.0015144867356866598, 0.025551628321409225, 0.035613253712654114, -0.0017695671413093805, 0.037005629390478134, -0.019344229251146317, 0.021112507209181786, 0.010621157474815845, 0.0018154603894799948, 0.05887378007173538, 0.016217155382037163, -0.03262634202837944, 0.0010106354020535946, -0.014767294749617577, -0.03783585876226425, -0.021514059975743294, 0.00684021133929491, 0.019496021792292595, -0.024711284786462784, 0.0021765169221907854, -0.03264019265770912, 0.026917017996311188, -0.011721826158463955, -0.013111687265336514, -0.016775289550423622, -0.02588149718940258, -0.012007081881165504, 0.025429394096136093, -0.001238988246768713, -0.03878544270992279, 0.005284710321575403, -0.012242447584867477, 0.05315488204360008, 0.014017323963344097, -0.010207867249846458, 0.0057085719890892506, 0.007218088023364544, 0.03655286505818367, 0.010486872866749763, -0.02365611307322979, 0.0005250502144917846, 0.0328153520822525, 0.05395575612783432, 0.010052726604044437, 0.0018817675299942493, -0.032363105565309525, 0.019335687160491943, 0.03375539183616638, -0.014729125425219536, -0.02018938586115837, -0.020224418491125107, 0.003361447947099805, 0.03844417631626129, -0.014588440768420696, -0.008461104705929756, -0.015727421268820763, 0.0253230482339859, 0.009637256152927876, -0.02126597799360752, -0.05622906982898712, -0.014719407074153423, 0.04648502916097641, 0.02474283240735531, -0.02521609701216221, -0.031498704105615616, 0.0021102996543049812, -0.0018524669576436281, -0.03766106441617012, -0.010685309767723083, -0.021195489913225174, 0.05994449928402901, -0.017540929839015007, -0.02929447405040264, -0.016515005379915237, -0.03334273025393486, -0.13450641930103302, 0.014861896634101868, -0.030510183423757553, 0.023870954290032387, -0.008990776725113392, -0.030506974086165428, 0.019909892231225967, -0.012342003174126148, 0.0009846341563388705, 0.02932538278400898, 0.008167671039700508, -0.046512071043252945, -0.04996279254555702, -0.032370492815971375, 0.031549837440252304, 0.0058265989646315575, 0.01724795438349247, -0.012478486634790897, -0.03253532573580742, -0.048687055706977844, -0.01688823476433754, -0.06612596660852432, 0.008022112771868706, -0.051493532955646515, 0.05662037059664726, -0.011946975253522396, 0.014184609055519104, -0.0032262708991765976, -0.047148387879133224, -0.0571012981235981, -0.013619956560432911, -0.04022351652383804, -0.00909147597849369, 0.05346470698714256, 0.051880255341529846, 0.005872086621820927, -0.003309068037196994, -0.024142449721693993, 0.04166966676712036, -0.006590451113879681, 0.0012395718367770314, 0.0040785097517073154, 0.027110610157251358, 0.04170549660921097, 0.0046242112293839455, 0.017327461391687393, 0.03122677281498909, -0.0188044011592865, 0.022112887352705002, -0.0014157312689349055, -0.031641408801078796, -0.003841669298708439, 0.04987513646483421, -0.04317937791347504, 0.019453616812825203, -0.004618063569068909, 0.03876299783587456, 0.0749245211482048, 0.046732209622859955, -0.012821913696825504, -0.04926648736000061, 0.03639502450823784, -0.016499239951372147, 0.02383751980960369, -0.014056315645575523, -0.008350440301001072, 0.0763549953699112, 0.021610692143440247, -0.0064717186614871025, -0.029888402670621872, 0.042987555265426636, -0.00631959130987525, 0.0034829399082809687, -0.011994454078376293, 0.018967216834425926, 0.036653585731983185, 0.011891364119946957, -0.055312544107437134, -0.043616119772195816, -0.07883046567440033, 0.026639524847269058, -0.016894187778234482, -0.0008407088462263346, -0.0007741173030808568, -0.02035100758075714, -0.019341684877872467, -0.0019193739863112569, 0.0029372405260801315, 0.01631166599690914, 0.2409517914056778, -0.020462974905967712, 0.016002878546714783, -0.02317243255674839, -0.009749184362590313, -0.005551529582589865, -0.022992251440882683, -0.021734096109867096, 0.010987715795636177, -0.022734830155968666, 0.005074290558695793, -0.016034021973609924, 0.0074820187874138355, 0.0038968510925769806, 0.024994494393467903, 0.06091343238949776, -0.034541621804237366, 0.00802217610180378, 0.06798815727233887, 0.011886147782206535, 0.0013998700305819511, 0.012133032083511353, 0.03347232937812805, 0.012255777604877949, -0.023566631600260735, -0.006584780290722847, 0.016387877985835075, 0.0323101207613945, -0.012116330675780773, -0.020721763372421265, -0.0006229066057130694, 0.006029612850397825, 0.015111194923520088, -0.005422507878392935, 0.002463556593284011, 0.008051221258938313, -0.012814352288842201, -0.02607821300625801, 0.016747526824474335, -0.0022051676642149687, -0.029849648475646973, -0.021296121180057526, 0.03523918241262436, -0.006630314514040947, 0.00959184393286705, 0.01828225888311863, 0.017618749290704727, 0.018735332414507866, -0.06494811177253723, -0.019879985600709915, -0.033681098371744156, -0.0021163381170481443, -0.05129685252904892, 0.002210034988820553, -0.011080113239586353, -0.020890509709715843, -0.015042426064610481, 0.03895008936524391, 0.01661725528538227, -0.017477532848715782, 0.06690279394388199, -0.0045629264786839485, 0.02343878708779812, -0.027877936139702797, 0.008510131388902664, -0.01647283136844635, -0.032951485365629196, -0.08128272742033005, -0.011990692466497421, 0.005866073537617922, 5.373989915824495e-05, -0.0034926149528473616, -0.035064514726400375, -0.005048494786024094, 0.02377402037382126, 0.029240328818559647, 0.030662521719932556, 0.03821937367320061, 0.007099430542439222, 0.010195662267506123, 0.01586768962442875, 0.0036338961217552423, -0.042615365236997604, 0.014660697430372238, 0.009449613280594349, -0.03942973539233208, -0.02807420678436756, 0.04945933073759079, 0.028142306953668594, -0.044728104025125504, 0.04677306115627289, -0.01853320375084877, -0.040078386664390564, 0.031544532626867294, 0.01186833344399929, -0.012655248865485191, 0.06579034775495529, 0.013060910627245903, 0.010287106968462467, 0.04188522696495056, -0.03937184065580368, -0.02285061404109001, 0.00016458418394904584, 0.05560564249753952, 0.04951546713709831, -0.008175370283424854, 0.010815388523042202, 0.06870771944522858, 0.007081430405378342, 0.09678666293621063, -0.017001140862703323, -0.005990356206893921, -0.03747912496328354, -0.0028822310268878937, 0.024536537006497383, 0.00673513300716877, 0.028513982892036438, -0.02395446226000786, 0.008569241501390934, 0.014626252464950085, -0.047746919095516205, 0.02744402177631855, -0.0009996879380196333, -0.023877520114183426, 0.024636924266815186, -0.03217218443751335, 0.03437192738056183, -0.010820289142429829, -0.013791021890938282, 0.01567731611430645, 0.03971211239695549, 0.0070311641320586205, 0.03324786573648453, 0.0676274523139, 0.04346627742052078, 0.010069793090224266, -0.006054588593542576, 0.03341538831591606, 0.023479772731661797, 0.022209590300917625, -0.010580615140497684, -0.006418732460588217, -0.0009642837685532868, 0.020537374541163445, 0.004917812533676624, 0.006863136310130358, 0.02614469639956951, 0.03087620995938778, -0.035683419555425644, -0.03693292289972305, -0.03490952029824257, -0.016222765669226646, -0.007834149524569511, -0.08086274564266205, -0.0026362640783190727, -0.026474623009562492, -0.0013029559049755335, -0.03466775640845299, -0.0015013203956186771, -0.03400755301117897, 0.029870472848415375, -0.023574404418468475, 0.05143370479345322, 0.10243327170610428, 0.016947420313954353, 0.07389853149652481, 0.04954985901713371, 0.011109059676527977, 0.008857875131070614, -0.06901870667934418, 0.04607084020972252, -0.031760718673467636, -0.0435081422328949, 0.00694748992100358, -0.028536885976791382, -0.02870975248515606, -0.02836226113140583, 0.0007430750411003828, 0.009753096848726273, -0.05102904140949249, 0.016081800684332848, 0.019987232983112335, 0.02581094577908516, 0.05375566706061363, -0.0053192987106740475, 0.003931467887014151, 0.05399198830127716, -0.005129014141857624, 0.014109095558524132, -0.015200208872556686, -0.0002676274161785841, 0.07187123596668243, 0.01199684850871563, -0.006195000372827053, 0.020591942593455315, -0.039722684770822525, 0.007841473445296288, -0.020624708384275436, 0.046031106263399124, 0.02848253957927227, 0.03369215875864029, -0.051017455756664276, -0.0006113676936365664, -0.0005767529946751893, 0.02063206024467945, 0.009316285140812397, -0.02317875064909458, -0.0013654694193974137, -0.01855292357504368, 0.044818975031375885, 0.026425611227750778, -0.005445383954793215, -0.030831264331936836, -0.007227353285998106, -0.0332685187458992, 0.0180924441665411, -0.04253166913986206, 0.033409442752599716, 0.022858314216136932, -0.0566527284681797, -0.03302739933133125, 0.030000600963830948, 0.012428211979568005, -0.07073477655649185, 0.00037813358358107507, 0.0529303140938282, -0.028434911742806435, -0.021334771066904068, 0.025617264211177826, 0.03773924708366394, 0.008760221302509308, -0.06261825561523438, 0.02034134604036808, 0.03599686920642853, 0.0127682751044631, -0.0152438934892416, -0.021516699343919754, -0.016208602115511894, -0.014530643820762634, -0.030245466157794, 0.034258753061294556, -0.013401299715042114, 0.06385199725627899, 0.02114606834948063, 0.01792151853442192, -0.0193473007529974, 0.011336950585246086, -0.008723476901650429, -0.015219813212752342, 0.028517642989754677, -0.03264106810092926, -0.010743842460215092, 0.041790079325437546, 0.0026681963354349136, 0.00961543433368206, -0.012813898734748363, 0.03967619314789772, 0.0013596791541203856, -0.011945155449211597, -0.002205192344263196, 0.0029573398642241955, 0.02780296839773655, -0.030607184395194054, 0.0018586432561278343, -0.0024497087579220533, 0.021612195298075676, 0.007533807307481766, 0.0033528006169945, -0.05431551858782768, -0.04692956432700157, 0.03315075859427452, 0.019050760194659233, -0.02316315844655037, -0.044608645141124725, -0.028425147756934166, 0.025952907279133797, -0.04476160928606987, 0.018117744475603104, 0.006036276929080486, 0.04835161194205284, -0.018086079508066177, 0.07059591263532639, -0.012845794670283794, 0.03550199046730995, -0.02840566076338291, -0.00429058400914073, 0.009981376118957996, -0.025032423436641693, 0.00034159107599407434, -0.07229295372962952, -0.007575966417789459, -0.01706044003367424, -0.053740907460451126, 0.017092838883399963, -0.006584623362869024, 0.0584757961332798, -0.019886884838342667, 0.03939032182097435, -0.02440888248383999, -0.022697584703564644, -0.03535720705986023, 0.001493095769546926, -0.014277797192335129, 0.019025186076760292, -0.001035403343848884, 0.024349763989448547, 0.012797086499631405, -0.03189678490161896, 0.02428225800395012, -0.0005900897667743266, -0.01870226487517357, 0.006278887391090393, 0.028228409588336945, 0.029838599264621735, -0.045945361256599426, -0.016823938116431236, 0.04754149541258812, -0.07021923363208771, 0.025104248896241188, 0.023485660552978516, 0.057677507400512695, 0.02342895045876503, 0.0015275656478479505, -0.045842912048101425, 0.030835416167974472, 0.000490450591314584, -0.02095084823668003, -0.030310699716210365, 0.026045264676213264, -0.07034263014793396, -0.015839887782931328, 0.04656244069337845, -0.007092789281159639, -0.003866113256663084, -0.008796448819339275, 0.0005151097429916263, -0.03027923032641411, -0.024433648213744164, 0.03805068880319595, -0.01650296337902546, 0.04245004430413246, 0.005689399782568216, 0.04680785909295082, -0.01727033592760563, -0.016238803043961525, -0.05630577728152275, 0.008184343576431274, 0.020044399425387383, -0.0024435354862362146, 0.03499756380915642, 0.00968275684863329, 0.04170863330364227, -0.04717320576310158, -0.057114508002996445, 0.03945715352892876, 0.016719825565814972, -0.03055381029844284, -0.025327634066343307, 0.02032640017569065, 0.010175067000091076, -0.040363602340221405, 0.03164279833436012, 0.014100948348641396, 0.03561710566282272, 0.013648394495248795, 0.013169459067285061, 0.0028140428476035595, -0.024342941120266914, 0.013845599256455898, -0.014623359777033329, -0.010815776884555817, 0.014875141903758049, 0.05588502064347267, -0.03753667697310448, -0.024807624518871307, 0.01653847098350525, -0.016592448577284813, -0.019737496972084045, -0.010183039121329784, -0.023496873676776886, -0.011645304039120674, -0.062323879450559616, -0.03916674479842186, -0.03645595535635948, -0.01106002926826477, -0.023356176912784576, 2.1593439669231884e-05, -0.04460373893380165, 0.040201395750045776, -0.05502589792013168, -0.03401712328195572, -0.03588032349944115, -0.012097464874386787, -0.00696257408708334, -0.12520672380924225, 0.02568047307431698, -0.0006912040989845991, -0.005511785391718149, -0.04034445807337761, 0.012482887133955956, -0.023088689893484116, -0.0004981646779924631, 0.01412761677056551, -0.023778708651661873, -0.022780047729611397, 0.050184525549411774, -0.04474738612771034, -0.01480012759566307, -0.004711489658802748, 0.02802039496600628, -0.016769614070653915, 0.016406241804361343, -0.016325613483786583, -0.021781690418720245, -0.04240022599697113, -0.012077446095645428, 0.028010835871100426, -0.02755483239889145, 0.05169368535280228, 0.02230638451874256, 0.02518993243575096, 0.04332414269447327, -0.038832128047943115, -0.014297817833721638, 0.01759355328977108, -0.069396011531353, 0.041472721844911575, -0.0013704551383852959, -0.05102717876434326, -0.027104703709483147, -0.025515060871839523, -0.01919970102608204, -0.004185955971479416, 0.000927886925637722, -0.004753044340759516, 0.017131242901086807, 0.00520741892978549, -0.02561447024345398, -0.035888273268938065, 0.045889027416706085, -0.02758384495973587, -0.027078984305262566, -0.024635158479213715, 0.004591120406985283, 0.026804644614458084, -0.019332097843289375, 0.001126508112065494, 0.01927037164568901, -0.0068404111079871655, 0.024125071242451668, -0.0545220747590065, 0.025098688900470734, -0.002562602050602436, 0.09898555278778076, -0.002052217721939087, -0.0008181518060155213, -0.027206964790821075, 0.028830399736762047, -0.023654181510210037, 0.01934931054711342, -0.035168688744306564, 0.005421272944658995, 0.024397531524300575, 0.006299026310443878, -0.011892029084265232, 0.005306425970047712, 0.011678384616971016, -0.017512744292616844, 0.03408222645521164, 0.01178277563303709, 0.03477010875940323, 0.015950998291373253, -0.01795613020658493, -0.028450580313801765, 0.0356270894408226, 0.0067557985894382, -0.04474259167909622, -0.012436754070222378, -0.01788584515452385, 0.00677082734182477, -0.030114205554127693, 0.014468451030552387, 0.012383914552628994, -0.010364186018705368, -0.0745256096124649, -0.013963388279080391, 0.004212424159049988, 0.010386229492723942, -0.050680238753557205, 0.0054351892322301865, -0.021549994125962257, 0.004790780134499073, -0.03258195146918297, -0.01671919971704483, -0.017220938578248024, -0.0008278289460577071, 0.017261909320950508, 0.026830047369003296, -0.015174456872045994, 0.008098145946860313, 0.0670638456940651, -0.018373597413301468, 0.006587144453078508, -0.004388123285025358, 0.015563716180622578, -0.007881883531808853, 0.0040450324304401875, 0.03504034876823425, 0.0011946010636165738, -0.01016332022845745, 0.02928173914551735, 0.03393736854195595, 0.0009082824108190835, 0.026278499513864517, -0.010453011840581894, -0.009190752170979977, -0.021630320698022842, -0.012689596973359585, 0.041912633925676346, 0.05326979607343674, 0.004059993661940098, 0.01584012061357498, 0.09813225269317627, -0.0013113933382555842, 0.026166267693042755, -0.06436094641685486, 0.015403516590595245, -0.009460696950554848, 0.02918069064617157, -0.03512231260538101, 0.030463190749287605, 0.04443252459168434, -0.038153667002916336, -0.06943000108003616, -0.012108893133699894, 0.023328503593802452, -0.022528203204274178, -0.0024424733128398657, -0.0498543344438076, -0.030899671837687492, 0.017584804445505142, -0.01000173483043909, -0.050213608890771866, -0.05402825027704239, -0.0072016604244709015, -0.01813683472573757, 0.0014227799838408828, 0.0258195661008358, -0.0021001638378947973, 0.03713342547416687, -0.023976365104317665, 0.008912111632525921, -0.027604233473539352, 0.02880190685391426, 0.010518441908061504, -0.01337383221834898, -0.029343457892537117, -0.004075908102095127, -0.03959450498223305, -0.024744534865021706, -0.00998631864786148, -0.012933130376040936, -0.01710483245551586, 0.021259376779198647, 0.00532779423519969, 0.06360169500112534, -0.0350000225007534, 0.04053357616066933, 0.03943650424480438, -0.011726203374564648, -0.0027182288467884064, 0.06286504119634628, 0.012967726215720177, -0.018978148698806763, 0.02584891952574253, -0.029939107596874237, 0.014617039822041988, 0.02057117410004139, -0.029358789324760437, -0.040003687143325806, -0.012205011211335659, 0.06588025391101837, 0.03213939443230629, -0.004850604571402073, -0.006376998499035835, 0.00693507818505168, 0.012511452659964561, -0.00910195428878069, 0.03476705029606819, 0.038523610681295395, 0.03456319868564606, 0.03191705793142319, -0.02738853543996811, 0.02758033387362957, -0.055879052728414536, -0.014389981515705585, 0.04932107403874397, -0.015086084604263306, -0.012660960666835308, -0.0031209071166813374, -0.04098908230662346, -0.010736663825809956, -0.01865495927631855, 0.0017576979007571936, -0.015417609363794327, -0.02493094839155674, 0.01627216301858425, 0.008303995244204998, 0.012492227368056774, -0.026104366406798363, 0.028651615604758263, -0.006774331443011761, -0.021069392561912537, -0.012413207441568375, -0.004087885841727257, -0.0118772704154253, -0.010481772944331169, -0.022585267201066017, 0.013596571981906891, -0.058351997286081314, 0.0075412024743855, 0.04869065433740616, -0.024091770872473717, 0.006596357561647892, 0.02685137279331684, -0.05219598487019539, -0.04545801877975464, 0.045182209461927414, 0.015354703180491924, -0.016589941456913948, 0.05032368376851082, 0.012740373611450195, -0.00861627422273159, -0.037519313395023346, 0.05184703320264816, -0.018242692574858665, 0.0012517484137788415, -0.025500047951936722]\n"
     ]
    }
   ],
   "source": [
    "embedded_query = embeddings_model.embed_query(\"인공지능이란 무엇인가요?\")\n",
    "\n",
    "# 쿼리 임베딩 결과 출력\n",
    "print(f\"쿼리 임베딩 벡터의 차원: {len(embedded_query)}\")\n",
    "print(embedded_query)"
   ]
  },
  {
   "cell_type": "markdown",
   "id": "4e87fd17",
   "metadata": {},
   "source": [
    "`(4) 유사도 기반 검색`"
   ]
  },
  {
   "cell_type": "code",
   "execution_count": 42,
   "id": "76435ced",
   "metadata": {},
   "outputs": [
    {
     "name": "stdout",
     "output_type": "stream",
     "text": [
      "쿼리: 인공지능이란 무엇인가요?\n",
      "가장 유사한 문서: 인공지능은 컴퓨터 과학의 한 분야입니다.\n",
      "유사도: 0.7269\n",
      "\n",
      "쿼리: 딥러닝과 머신러닝의 관계는 어떻게 되나요?\n",
      "가장 유사한 문서: 딥러닝은 머신러닝의 한 종류입니다.\n",
      "유사도: 0.7057\n",
      "\n",
      "쿼리: 컴퓨터가 이미지를 이해하는 방법은?\n",
      "가장 유사한 문서: 컴퓨터 비전은 컴퓨터가 디지털 이미지나 비디오를 이해하는 방법을 연구합니다.\n",
      "유사도: 0.6843\n",
      "\n"
     ]
    }
   ],
   "source": [
    "# 예제 쿼리\n",
    "queries = [\n",
    "    \"인공지능이란 무엇인가요?\",\n",
    "    \"딥러닝과 머신러닝의 관계는 어떻게 되나요?\",\n",
    "    \"컴퓨터가 이미지를 이해하는 방법은?\"\n",
    "]\n",
    "\n",
    "# 각 쿼리에 대해 가장 유사한 문서 찾기\n",
    "for query in queries:\n",
    "    most_similar_doc, similarity = find_most_similar(query, document_embeddings)\n",
    "    print(f\"쿼리: {query}\")\n",
    "    print(f\"가장 유사한 문서: {most_similar_doc}\")\n",
    "    print(f\"유사도: {similarity:.4f}\")\n",
    "    print()"
   ]
  },
  {
   "cell_type": "markdown",
   "id": "6d063911",
   "metadata": {},
   "source": [
    "### 4-3 Ollama - 오픈소스 LLM"
   ]
  },
  {
   "cell_type": "markdown",
   "id": "ba69a0f5",
   "metadata": {},
   "source": [
    "`(1) embedding 모델`"
   ]
  },
  {
   "cell_type": "code",
   "execution_count": 14,
   "id": "795906a7",
   "metadata": {},
   "outputs": [
    {
     "data": {
      "text/plain": [
       "OllamaEmbeddings(model='bge-m3', base_url=None, client_kwargs={}, _client=<ollama._client.Client object at 0x000001B15B0E1A10>, _async_client=<ollama._client.AsyncClient object at 0x000001B1714CB590>)"
      ]
     },
     "execution_count": 14,
     "metadata": {},
     "output_type": "execute_result"
    }
   ],
   "source": [
    "from langchain_ollama import OllamaEmbeddings\n",
    "\n",
    "# OllamaEmbeddings 모델 생성\n",
    "# embeddings_model = OllamaEmbeddings(model=\"nomic-embed-text\")\n",
    "embeddings_model = OllamaEmbeddings(model=\"bge-m3\")\n",
    "\n",
    "# 임베딩 객체 출력\n",
    "embeddings_model"
   ]
  },
  {
   "cell_type": "markdown",
   "id": "0673debb",
   "metadata": {},
   "source": [
    "`(2) embed_documents 사용`"
   ]
  },
  {
   "cell_type": "code",
   "execution_count": 15,
   "id": "2fde851f",
   "metadata": {},
   "outputs": [
    {
     "name": "stdout",
     "output_type": "stream",
     "text": [
      "임베딩 벡터의 개수: 5\n",
      "임베딩 벡터의 차원: 1024\n",
      "[-0.0394156, 0.008760262, -0.012937458, 0.0025295895, -0.009001032, -0.0074408506, -0.0056739813, -0.009030753, 0.032922354, 0.0060671186, -0.027178679, -0.028080663, 0.00016644243, 0.030113658, 0.017254401, 0.017342823, 0.025371453, -0.021802949, -0.011473072, -0.057008505, -0.0001868506, 0.013479843, -0.0073965807, 0.01858956, 0.0028784398, 0.008695294, -0.0009260455, -0.029067807, 0.020693583, -0.020719545, 0.0081420075, -0.02666654, 0.003775385, -0.01606269, -0.07364675, -0.03373643, -0.023964066, -0.034332488, -0.034577936, 0.0054375636, -0.050156027, -0.0029491927, -0.023105938, -0.07486151, -0.01149583, -0.029032996, -0.034192845, -0.025470003, -0.06142664, 0.013653879, 0.024534035, -0.031476613, 0.050459545, 0.012982845, -0.0640567, 0.027495068, 0.007246118, 0.010461136, -0.06414113, -0.016094107, -0.020646226, 0.030298121, -0.0062544327, -0.013298272, -0.00066900026, 0.047072783, 0.007759769, 0.029751357, -0.034801304, -0.036430705, 0.02153044, 0.017856715, -0.033380628, 0.0140983835, -0.05225413, 0.04882538, -0.01344573, -0.017170606, -0.034314845, 0.021054436, -0.022894563, -0.006173709, -0.012247416, -0.045891397, -0.043445155, -0.03330751, -0.03106571, 0.06255522, -0.012873429, 0.003143969, -0.033979524, -0.011771775, 0.07018735, -0.06796206, -0.041350044, -0.04536825, -0.05984997, 0.026468907, 0.021856466, 0.01675357, -0.0047065145, 0.055747647, 0.005727308, -0.004789206, 0.0052381298, 0.0124305785, 0.016008476, 0.013744859, -0.004462446, -0.017025834, 0.024604572, 0.078435704, -0.0033617902, 0.027722217, -0.014848435, -0.036225118, -0.0069053085, -0.0053145043, 0.03140219, 0.028178964, 0.021332659, 0.02721975, -0.018365571, -0.035512455, 0.025520064, -0.014572054, 0.043259915, -0.0064129424, -0.0025681695, -0.02549623, 0.007325167, 0.0015033793, -0.060846154, 0.0019028853, -0.07952989, -0.031531148, -0.026172725, -0.03441623, 0.0010666463, -0.026861636, 0.031952146, 0.008469807, -0.03421994, -0.026144149, 0.028196352, 0.028811768, 0.011771222, 0.006983047, -0.040318187, 0.006483802, -0.04198444, 0.0018952978, -0.017067378, -0.00034660642, 0.008260842, 0.057117965, 0.034199428, 0.018458905, -0.036283433, 0.019259166, -0.01119091, -0.050849926, -0.011592141, 0.034654886, 0.025173366, 0.0056502316, 0.0020207232, 0.056799743, -0.025134312, -0.05149249, -0.04059911, -0.003610629, -0.08985034, 0.013631926, 0.032764778, 0.02105719, 0.04120013, 0.031201957, 0.01062934, -0.032917038, -0.024580516, -0.015884092, -0.017907152, 0.01629235, -0.003328688, -0.00844629, 0.007883932, 0.017728101, 0.005824596, -0.0017645363, 0.0336531, -0.02362079, 0.018087793, -0.01313989, -0.0112033775, -0.061020408, 0.035417933, 0.033591155, 0.0035828566, -0.009609849, -0.033284232, 0.026379932, 0.004992283, -0.005030857, -0.028320193, 0.035125546, -0.0019372299, -0.033406552, 0.020533489, -0.0169, 0.050482247, 0.005432307, 0.006733698, -0.04241494, -0.05035992, -0.023784997, -0.00025998204, 0.017799418, -0.021655086, -0.051019933, -0.005327452, -0.008014102, 0.012411041, 0.040171627, 0.023445286, 0.011281691, -0.012248957, -0.024161516, 0.059315927, 0.022775998, -0.014873865, 0.02847059, 0.0030528496, -0.027360316, 0.0025092063, -0.012741895, -0.01918318, 0.0010374098, 0.023903247, 0.0055392534, 0.00048433268, -0.012150934, 0.008403336, 0.006982047, -0.013827336, -0.026020192, -0.008949139, 0.011128202, -0.038679346, 0.012375648, -0.014802981, -0.053621024, 0.0007489602, -0.037793014, 0.024359796, -0.022375025, -0.00300516, 0.005985351, 0.028918302, 0.01294371, -0.025334395, -0.018132731, -0.032658346, 0.015626183, 0.037016682, -0.019051872, 0.0038552377, -0.008740065, 0.025586663, 0.03138991, 0.013789028, 0.016613867, 0.026576215, 0.016554732, 0.03733104, 0.017412322, 0.01603398, -0.022124307, 0.027424244, 0.024057215, -0.024996959, -0.034891717, 0.010915024, 0.03743283, 0.03235107, -0.003148185, -0.021287235, -0.0011942746, -0.0494861, -0.050326165, -0.055709153, -0.035811502, 0.051489253, -0.026540384, -0.029854424, 0.04088593, -0.0025793563, -0.15424009, 0.05303043, -0.043981455, 0.024775442, 0.00076468446, -0.022982344, 0.028254513, 0.020544598, -0.064858116, 0.058776923, -0.015519218, -0.052907497, -0.026713325, -0.016121073, 0.035224102, 0.036902916, 0.018399728, 3.0365711e-06, -0.025183244, -0.004161475, -0.041088082, -0.050605413, 0.01503238, -0.035908807, 0.029733738, -0.044891793, -0.021145489, -0.02384004, -0.029045885, -0.034450196, -0.018504944, -0.00956609, -0.02134214, 0.04191661, 0.022630058, 0.0081413835, 0.003530696, -0.034929942, 0.053614732, 0.006370646, -0.009585124, 0.03402529, 0.014096925, 0.005106183, -0.00037762566, -0.022303319, 0.038930234, 0.00051783805, -0.013727484, 0.008933872, -0.024400925, -0.050401628, 0.046487156, -0.021093816, -0.033516742, 0.006090872, 0.010235607, 0.06909217, 0.022902638, 0.012716533, -0.04018817, -0.03464919, 0.019936522, 0.014656147, 0.013873818, -0.04658438, 0.05523368, 0.01139365, 0.021286089, -0.022049274, 0.036582883, -0.001333366, 0.05089378, -0.016671084, -0.00024368336, 0.049342003, 0.007804023, -0.07772121, -0.05160079, -0.08167146, 0.0001998545, -0.0025728648, -0.009131539, -0.0046582767, -0.041884027, -0.002311539, -0.010007399, -0.028032426, 0.0506492, 0.20467715, 0.02628066, -0.0001888061, -0.026761524, 0.037028924, -0.008936247, -0.0141243385, -0.019144356, 0.017493283, -0.010026752, 0.009919021, -0.022215934, -0.0011804509, 0.006355786, 0.013811527, 0.025123721, -0.03409691, -0.0010369112, 0.08590967, 0.021729212, -0.0075416355, -0.0031027927, 0.044528928, -0.0012558465, -0.028682878, -0.026423272, 0.0027443545, 0.010883259, -0.019357946, -0.036430854, 0.004952387, 0.030108808, -0.010634399, 0.006615241, 0.02370187, 0.017637148, 0.0014594827, -0.018893717, 0.009355194, 0.007741656, -0.020458061, -0.015684662, -0.0012933639, 0.0071274834, 0.009503126, 0.01073624, 0.0071482356, -0.009039497, -0.019813573, -0.03540212, -0.062128402, -0.022034345, -0.043049153, 0.018173937, -0.0025811791, -0.004170786, -0.04300081, 0.025997462, 0.017695826, 0.008648866, 0.039171208, 0.008674997, 0.033233594, 0.025997598, -0.009326738, -0.005567023, -0.037505295, -0.05836637, 0.059147302, -0.003684775, 0.013218733, 0.0148275485, -0.046742946, -0.021927198, 0.006371636, 0.0033795908, 0.031709056, 0.026506, 0.028393848, 0.027919648, -0.029511847, 0.011027004, -0.027605621, 0.038080744, 0.0076468457, -0.051495854, -0.014331314, 0.055515952, 0.017382251, -0.02495264, 0.013964605, 0.008309002, -0.009056311, 0.044138946, -0.013150306, 0.022598527, 0.007670806, -0.005739663, -0.026660254, 0.04311483, -0.030539317, -0.043611255, -0.009914123, -0.006733038, 0.016588293, 0.02065246, 0.020447956, 0.055670854, 0.008969334, 0.048293684, 0.0027033808, 0.027108058, -0.05194077, -0.045805477, 0.013939751, -0.010541805, 0.021038534, 0.020736463, 0.0069233854, 0.014986, -0.031167848, 0.0016418674, 0.018659608, 0.032363795, 0.0004294904, -0.026938722, 0.047283947, 0.03395113, -0.015708966, 0.019672599, 0.060696047, 0.0020534792, 0.003964406, 0.048722725, 0.02269904, 0.014303167, -0.014123575, 0.02183575, 0.059883744, 6.884152e-05, 0.01467394, 0.007019132, 0.0242434, 0.008269919, 0.010843266, 0.001733298, -0.013471007, 0.04848552, -0.023706, -0.006207414, 0.0008051731, -0.022366151, 0.05851957, -0.04242632, -0.008820738, -0.029623909, -0.021166608, -0.0057244617, 0.03721522, -0.02244198, 0.029674238, 0.021963183, 0.06009102, 0.05435066, -0.0129727535, 0.046409257, -0.0038791816, -0.019970234, -0.010133402, -0.052120965, 0.012943789, -0.024429584, -0.04694469, 0.017458903, -0.063363016, -0.012252619, -0.051592924, 0.016413577, 0.0028268725, 0.0024106551, 0.046938002, 0.005247712, 0.028239198, 0.018167468, 0.0026357276, 0.012583074, 0.043136172, -0.0125206895, 0.015948977, -0.034935053, -0.013857475, 0.084902935, -0.00042073318, -0.03504297, 0.018858524, -0.043776654, 0.018223543, -0.014837356, 0.05105629, -0.014377299, -0.012102896, -0.053785685, 0.009156867, -0.01337511, -0.026072787, 0.019128809, -0.009158107, 0.01595721, -0.011778006, 0.023933431, 0.010991296, 0.0012339886, -0.047549643, 0.028183807, -0.030302212, 0.034353234, -0.035593368, 0.010596306, 0.021833885, -0.07099509, -0.011716624, -0.00075207674, 0.0010146071, -0.066755295, 0.0019249443, 0.031003356, -0.013738752, -0.02016461, -0.019700471, 0.046693627, -0.004925153, -0.081616975, 0.04045167, 0.005037455, 0.030993888, 0.0049981005, -0.005870722, 0.013911865, -0.02108804, -0.019720785, 0.02581343, -0.026733983, 0.064958796, 0.017210871, 0.025173543, 0.012521908, 0.0063238996, -0.015501885, -0.0031294585, 0.004663424, -0.011816805, -0.047868744, 0.04860935, 0.02742398, 0.020170502, -0.04627427, 0.049780738, -0.015423629, -0.022832299, 0.0071129045, 0.011381314, 0.028068552, -0.0010613739, 0.0053015454, 0.0057195397, 0.041081186, 0.046501342, 0.013641078, -0.04879504, -0.036305882, 0.03054323, -0.0030673165, -0.039915334, -0.032444745, 0.032033827, -0.0022793426, -0.03728024, 0.046819814, 0.04734194, -0.0039441246, -0.0048036287, 0.05463015, 0.008907885, 0.014343963, 0.013118218, -0.0060160505, 0.011394378, 0.0058195917, 0.02862336, -0.037513547, 0.017356621, 0.009331223, -0.04317328, 0.009897326, -0.013073194, 0.02618175, -0.008912116, 0.048662215, -0.023852406, -0.008392785, -0.030293973, -0.011783305, -0.008052072, -0.00071381463, 0.03621887, 0.019453794, 0.015756486, -0.06497522, 0.032242417, -0.019475034, 0.012519282, 0.0007874907, 0.03749078, 0.04903752, -0.030532949, -0.0109542655, 0.03036765, -0.049561374, 0.055056736, -0.0018187239, 0.049906373, 0.00073478505, -0.005996879, -0.022952193, 0.010123143, 0.02396162, -0.019398255, -0.031993728, 0.029304817, -0.053644925, -0.012915992, 0.03316222, -0.002278157, 0.02550987, 0.0027485339, -0.016170215, -0.019890059, -0.03622755, 0.051818818, 0.025982233, -0.023753364, -0.002167775, 0.05653055, -0.0213381, 0.026051503, -0.030779358, -0.009031742, -0.0014803873, 0.00715802, 0.013960104, -0.038816243, -0.005112361, -0.020547474, -0.08526955, 0.03294942, -0.021187397, -0.001698688, -0.024080247, 0.010181732, 0.0032591117, -0.04597322, 0.0043897303, 0.013009103, 0.031972606, -0.0064291814, 0.061852355, 0.027513813, -0.040184725, 0.012917572, -0.043516792, -0.034352135, 0.023951892, 0.04528368, -0.06435586, -0.002548536, 0.015789766, -0.046334766, 0.015461809, -0.01244318, 0.004004549, 0.002685, -0.059122305, -0.049790945, -0.031902187, 0.00395539, -0.040544637, -0.010023024, -0.02067525, 0.043383587, 0.009033849, -0.021600598, -0.036863253, 0.03871785, -0.028364526, -0.12082384, 0.01101685, -0.021606406, 0.038785115, -0.020594537, 0.026205719, -0.005280821, 0.0077931797, 0.023956867, -0.06805247, -0.010703225, 0.038657233, 0.020723278, -0.01359765, -0.0014446198, 0.018834502, -0.010621136, 0.019146767, 0.0074681025, 0.025060413, -0.002971267, 0.01928493, 0.04545972, -0.0068593286, 0.016501905, -0.0038853672, 0.006203638, 0.010065858, -0.061442323, 0.008318603, 0.05621225, -0.056641188, 0.0058845864, 0.0024047077, -0.05233568, -0.030095037, -0.0453617, 0.004413971, -0.027809093, 0.038727988, -0.032723144, 0.027088106, 0.039697453, -0.0111026615, 0.015577431, 0.08881611, -0.031461596, -0.016612582, -0.014588011, -0.020892812, 0.02973664, -0.026089456, -0.012442269, 0.052069806, -0.0128847705, 0.016231425, -0.05080886, 0.009544346, -0.0029464213, 0.07756839, -0.041802872, 0.00077361584, -0.030736826, 0.012989033, -0.0074693095, 0.031016177, -0.057452712, -0.010927039, -0.01495596, 0.0069480906, 0.008535679, 0.06573767, 0.033566102, -0.033912744, 0.029594492, 0.011613409, 0.050896198, 0.006938849, 0.01964986, -0.034644425, 0.01605634, 0.012852008, -0.0467671, -0.027560094, 0.010243872, -0.023104493, -0.03428091, -0.0030378678, -0.008091499, -0.023321435, -0.048786484, -0.0111066885, -0.019452933, -0.0037289378, -0.04723938, 0.013814912, 0.0020950173, 0.012457656, -0.016048722, -0.012172985, -0.0071789436, -0.005085908, 0.009959529, -0.0023720665, -0.020431543, 0.03457832, 0.06634866, -0.010929268, 0.054862957, -0.033952054, 0.009488999, -0.014434784, -0.051764335, 0.039682634, -0.0029084124, -0.01216206, 0.016419219, 0.061770357, 0.015138855, 0.03204689, 0.04654471, -0.026987024, 0.001914044, -0.017795548, 0.061502624, 0.0037924661, 0.0006044836, 0.045736212, 0.049948726, -9.8406905e-05, 0.016016345, -0.029199542, 0.05138966, -0.019377401, 0.050034553, 0.0013608229, 0.06655998, 0.032217342, -0.07602785, -0.026539154, -0.022678377, -0.013751047, -0.002675566, -0.017141419, -0.051981192, -0.006905641, 0.028157216, -0.05914374, -0.006076728, -0.0104973335, -0.020704376, -0.025485381, 0.006230956, 0.059682183, -0.06464908, 0.039084036, -0.039404914, 0.011614746, -0.0048870873, -0.021857565, 0.024645153, -0.020850476, -0.014323108, 0.0050690337, -0.027005102, -0.015793076, -0.020078331, -0.017524425, -0.0021846874, 0.031533625, 0.033133816, 0.061022416, -0.021902917, -0.007635241, 0.023450958, 0.0044713253, -0.03415911, 0.03063017, 0.050329667, 0.01935607, 0.030431196, -0.0083633885, 0.038349107, 0.024195805, -0.029969882, -0.022767775, -0.029585958, 0.05928004, 0.023743464, -0.051907852, -0.021448696, -0.008082562, -0.04569015, 0.01841622, -0.013185316, 0.061786097, 0.025585016, 0.03036714, -0.013723461, 0.01173759, -0.076626755, -0.01551255, 0.03119495, -0.01014422, -0.004805745, 0.0057959924, -0.053729672, -0.0017455909, -0.023404894, -0.012813812, 0.008883596, 0.018846273, 0.0009630543, -0.0075525492, 0.048968174, -0.05031372, 0.012952234, -0.005054687, -0.015389527, 0.0035553353, 0.0030882915, 0.007323917, -0.026851287, -0.010828387, 0.013719155, -0.03152647, 0.010561124, 0.04980442, -0.035282377, -0.0006549499, -0.02809961, -0.024441238, 0.0028238029, 0.020495253, -0.0132463025, -0.014184017, 0.022403842, 0.038956285, -0.0083766095, -0.015721695, 0.054373957, 0.0084699085, 0.0351306, -0.01785335]\n"
     ]
    }
   ],
   "source": [
    "# 문서 컬렉션\n",
    "documents = [\n",
    "    \"인공지능은 컴퓨터 과학의 한 분야입니다.\",\n",
    "    \"머신러닝은 인공지능의 하위 분야입니다.\",\n",
    "    \"딥러닝은 머신러닝의 한 종류입니다.\",\n",
    "    \"자연어 처리는 컴퓨터가 인간의 언어를 이해하고 생성하는 기술입니다.\",\n",
    "    \"컴퓨터 비전은 컴퓨터가 디지털 이미지나 비디오를 이해하는 방법을 연구합니다.\"\n",
    "]\n",
    "\n",
    "# 문서 임베딩\n",
    "document_embeddings = embeddings_model.embed_documents(documents)\n",
    "\n",
    "# 임베딩 결과 출력\n",
    "print(f\"임베딩 벡터의 개수: {len(document_embeddings)}\")\n",
    "print(f\"임베딩 벡터의 차원: {len(document_embeddings[0])}\")\n",
    "print(document_embeddings[0])"
   ]
  },
  {
   "cell_type": "markdown",
   "id": "668cb852",
   "metadata": {},
   "source": [
    "`(3) embed_query 사용`"
   ]
  },
  {
   "cell_type": "code",
   "execution_count": 16,
   "id": "0bd5a102",
   "metadata": {},
   "outputs": [
    {
     "name": "stdout",
     "output_type": "stream",
     "text": [
      "쿼리 임베딩 벡터의 차원: 1024\n",
      "[-0.036898147, -0.0049459566, 0.0030235485, -0.015571233, -0.00081471447, -0.04149334, -0.0066253026, 0.011225724, 0.021619283, 0.004907494, -0.020506877, 0.01680324, -0.012925087, 0.0055735805, 0.014931997, 0.024272425, 0.0075668674, -0.027916223, -0.015200805, -0.051810957, -0.006531362, -0.009083344, -0.017073995, 0.0065515228, 0.05294572, 0.048069138, -0.008053299, -0.02310294, 0.018053759, -0.011561619, -0.004307299, -0.006305585, -0.0023718413, 0.014380888, -0.035417374, -0.008195405, -0.011841068, -0.04517347, -0.040560845, 0.0020704148, -0.012199908, 0.017656382, -0.018990224, -0.041991763, 0.00107852, -0.038907256, -0.02453346, -0.024593614, -0.022170452, -0.004493148, 0.03153939, -0.048709545, 0.018109918, 0.025287243, 0.0024192214, 0.04873745, -0.0080237845, 0.02826823, -0.07373373, -0.020650579, -0.02634284, -0.0076168803, -0.038652565, -0.017355574, 0.019155389, 0.06363348, 0.02037439, -0.011785905, -0.018470835, -0.040770132, 0.0024891598, 0.041703925, -0.05786541, 0.052772302, -0.046015475, 0.011362991, 0.02052045, 0.0063051526, -0.034584645, 0.017777039, 0.04866459, -0.011597126, -0.029676558, -0.013369657, -0.0061872047, -0.0019364071, -0.019596579, 0.06835612, -0.0109102875, 0.0024172533, -0.042629518, -0.0014944688, 0.051126774, -0.10599791, -0.018797776, -0.08260617, -0.033449814, 0.010777425, 0.014402587, 0.032067887, -0.00547786, 0.0444213, 0.015883537, -0.02670266, 0.029363327, 0.005804147, 0.00055606995, 0.009156996, -0.03802731, -0.0065435846, 0.038180016, 0.03854322, 0.019017374, 0.03189097, -0.046962228, -0.053513784, 0.008946587, 0.0011730983, 0.023127493, 0.040933605, -0.007879105, 0.020768667, -0.03601602, -0.042320512, -0.008915262, -0.016807815, 0.033163626, 0.03479137, -0.006209756, -0.014062827, 0.026823737, -0.017687777, -0.07637374, -0.0058905277, -0.06007207, -0.020191977, 0.0068789385, -0.031189172, 0.025045754, -0.03315705, 0.034208268, 0.006265446, -0.033682432, -0.028850002, 0.018205106, 0.0068480205, 0.0040751477, -0.007925484, -0.010483476, 0.024622496, -0.017922092, -0.023171863, -0.026540626, -0.00975649, 0.008748469, 0.046376232, 0.009897534, 0.023990478, -0.05227095, 0.03448241, 0.042559087, -0.0005014588, 0.0070578973, 0.024574691, -0.0093876105, 0.0037138828, 0.0017450528, 0.022592632, -0.00799931, -0.026615752, -0.03717669, 0.010175841, -0.033370294, 0.035064537, 0.013910427, 0.0017750127, 0.064513884, 0.033454638, -0.0097412225, -0.007890732, -0.055761453, -0.017488664, -0.01163717, 0.0039413674, -0.0037094066, 0.0111861285, 0.015880337, 0.011487629, 0.019455805, -6.650687e-05, -0.01636098, -0.021670112, 0.013269921, -0.004374419, -0.0015246691, -0.030281171, 0.033659156, 0.046148475, -0.004385407, -0.03995208, -0.02692155, 0.028297378, 0.016569754, 0.0073869703, -0.04316568, 0.013813679, 0.0049223583, -0.041952055, 0.010922174, -0.03745682, 0.018918263, 0.048475824, 0.04987753, -0.023798194, -0.05514849, -0.008733931, -0.019054547, 0.044280693, -0.007692448, -0.012219246, -0.013491538, 0.019280322, 0.0012803116, 0.025464274, 0.035525393, -0.001993004, 0.03687416, -0.019256432, 0.021021716, 0.010557961, 0.0020030595, 0.05879103, 0.0163631, -0.032609683, 0.0009488878, -0.014715405, -0.037336573, -0.021534378, 0.0067602405, 0.01943498, -0.02482214, 0.0022098478, -0.03253729, 0.026941255, -0.011283416, -0.01320075, -0.016550612, -0.025899202, -0.0118383095, 0.025459843, -0.0012511828, -0.038946535, 0.0052351146, -0.0123493895, 0.05301759, 0.014108377, -0.010115931, 0.005796149, 0.007179005, 0.036697052, 0.010190251, -0.023424344, 0.0006635039, 0.032790538, 0.053858243, 0.01011412, 0.0016451554, -0.032324836, 0.019326549, 0.033564094, -0.014766754, -0.020300169, -0.020119209, 0.0034905616, 0.038563367, -0.01452159, -0.008549313, -0.015748411, 0.025367592, 0.009554594, -0.021190152, -0.056248043, -0.014691383, 0.04637973, 0.024723262, -0.025377003, -0.031243123, 0.0018539261, -0.0020591628, -0.037593484, -0.010780329, -0.021340903, 0.059989884, -0.01779782, -0.028945358, -0.016557816, -0.03338332, -0.1346909, 0.0148380045, -0.030578509, 0.02406651, -0.008948864, -0.03044606, 0.02003827, -0.012323259, 0.0007171709, 0.029024214, 0.008169966, -0.04643187, -0.049951747, -0.03238396, 0.03138093, 0.005922583, 0.017332284, -0.012412929, -0.032479953, -0.0485798, -0.016692428, -0.06618768, 0.0077699097, -0.05153845, 0.056757957, -0.011727414, 0.0140422825, -0.0032332498, -0.047053948, -0.057214525, -0.013486693, -0.04009382, -0.009088895, 0.05351559, 0.05196301, 0.0058101537, -0.0034107782, -0.024314774, 0.041751828, -0.006562805, 0.0012499915, 0.0040359967, 0.027170263, 0.04186139, 0.004589259, 0.017337713, 0.031433128, -0.018835908, 0.022167945, -0.001515935, -0.03193307, -0.0038342394, 0.04990056, -0.04283497, 0.019381, -0.0046897316, 0.03874252, 0.07497545, 0.047017362, -0.012892064, -0.04930203, 0.036310054, -0.016540188, 0.02374017, -0.013999065, -0.008368897, 0.07635097, 0.021726916, -0.006665182, -0.029808542, 0.04288899, -0.006160536, 0.0032597487, -0.0118565075, 0.018860918, 0.036557667, 0.011733992, -0.055321123, -0.043689325, -0.078527875, 0.026874315, -0.016785111, -0.00077180896, -0.0009120603, -0.020330794, -0.019355953, -0.0020308988, 0.0029531012, 0.016356463, 0.24091479, -0.020616986, 0.016012968, -0.023217972, -0.009882722, -0.0055167256, -0.022885827, -0.021726353, 0.010914427, -0.022556717, 0.0047551906, -0.016286932, 0.007550526, 0.0040167663, 0.024981987, 0.060775016, -0.034568425, 0.0078884605, 0.067758545, 0.011960772, 0.0013634502, 0.012118513, 0.033290427, 0.012115369, -0.023179293, -0.006728473, 0.016456382, 0.032297198, -0.012030766, -0.020691698, -0.0005609566, 0.005927804, 0.0150587605, -0.005592165, 0.0026232114, 0.0077811265, -0.01274222, -0.026068995, 0.016980551, -0.0022711544, -0.029810887, -0.021321474, 0.03547053, -0.0067153196, 0.009322229, 0.018308442, 0.017800607, 0.018812211, -0.06515238, -0.019827668, -0.03378865, -0.0019050125, -0.051235456, 0.0019434664, -0.011105649, -0.020540595, -0.014965534, 0.03891484, 0.016402593, -0.017504487, 0.06696205, -0.004682576, 0.023617234, -0.027971087, 0.008363343, -0.016663639, -0.033075187, -0.08126872, -0.011969269, 0.0058532143, 4.7018348e-05, -0.003445188, -0.035068255, -0.0050026886, 0.023912432, 0.02897837, 0.03099759, 0.03799569, 0.0072153327, 0.010046597, 0.015810857, 0.0036247838, -0.04251401, 0.014639911, 0.009311918, -0.039684094, -0.028051982, 0.04929142, 0.028127115, -0.04463309, 0.046832893, -0.01848503, -0.040011868, 0.031453837, 0.011782171, -0.012793314, 0.06598931, 0.013049557, 0.010406816, 0.04189224, -0.03922873, -0.022883328, 6.146859e-06, 0.055652607, 0.04937799, -0.0083546555, 0.010601121, 0.068765536, 0.007092413, 0.09670374, -0.017037837, -0.006049911, -0.03747095, -0.0025138238, 0.024475815, 0.0064673186, 0.028415408, -0.023946712, 0.008395183, 0.014614706, -0.04758549, 0.027417973, -0.001102591, -0.024207614, 0.024556791, -0.031943467, 0.03437161, -0.010838217, -0.013620941, 0.01572297, 0.03949328, 0.0071273115, 0.033181384, 0.06771347, 0.04353056, 0.010174761, -0.0063335854, 0.033408534, 0.023650385, 0.022139512, -0.010655575, -0.0063455226, -0.000810092, 0.020579915, 0.0048535326, 0.007017691, 0.026090153, 0.030954786, -0.035630103, -0.036862228, -0.0349063, -0.016253768, -0.007677859, -0.08060254, -0.0024988602, -0.02639685, -0.0013218371, -0.034645878, -0.0015226528, -0.033911508, 0.029906131, -0.023723124, 0.05147712, 0.1025471, 0.017092347, 0.07371595, 0.049453575, 0.011114011, 0.0088920565, -0.06880393, 0.0459991, -0.03171725, -0.04342994, 0.006683625, -0.028657185, -0.02837389, -0.028460411, 0.00081748184, 0.009727786, -0.050957896, 0.015978245, 0.019991329, 0.025673816, 0.053872924, -0.005378467, 0.003927414, 0.054214373, -0.0052476884, 0.013789242, -0.015168212, 3.1527852e-05, 0.07194635, 0.0120996, -0.0062266956, 0.02037113, -0.03959464, 0.0078110704, -0.020823514, 0.04626901, 0.02851799, 0.0335075, -0.051126998, -0.00058069464, -0.0006276602, 0.020580204, 0.009178663, -0.023060504, -0.0015018865, -0.01838335, 0.0447916, 0.026464209, -0.005499203, -0.03095503, -0.0071154092, -0.033362433, 0.017984018, -0.042706996, 0.03334373, 0.023078794, -0.05682064, -0.032941286, 0.029807065, 0.01244563, -0.07071653, 0.0006533389, 0.05283259, -0.028747052, -0.021174744, 0.02557329, 0.037856165, 0.008802566, -0.06281132, 0.02014024, 0.035943713, 0.01275523, -0.015241976, -0.021474153, -0.016324867, -0.014499543, -0.0300272, 0.03399399, -0.013300905, 0.06395307, 0.021028204, 0.018113893, -0.019494845, 0.011412541, -0.008753, -0.01532501, 0.028685046, -0.032734126, -0.010773536, 0.04164814, 0.002787222, 0.009553944, -0.012820817, 0.039875124, 0.001522293, -0.011908553, -0.0020847158, 0.0029381874, 0.02754792, -0.030616358, 0.0018251659, -0.0026986725, 0.021683486, 0.0074652797, 0.0032590025, -0.054460302, -0.04684924, 0.03325124, 0.019143114, -0.023145143, -0.044362053, -0.028494418, 0.026043843, -0.044778828, 0.018223345, 0.005909614, 0.04808013, -0.017835744, 0.07051018, -0.0126221515, 0.035381284, -0.028173748, -0.0042379466, 0.010012416, -0.02481853, 0.00035200737, -0.07221545, -0.007470499, -0.016974647, -0.053658415, 0.016891308, -0.0065880185, 0.05857411, -0.019764647, 0.039413262, -0.024204455, -0.022776043, -0.03543485, 0.0015025187, -0.014310391, 0.019044183, -0.000945451, 0.024342408, 0.0127723375, -0.03191863, 0.024144864, -0.0005233325, -0.018587539, 0.0065485556, 0.028564505, 0.02997913, -0.04573447, -0.016665261, 0.047509722, -0.07035807, 0.024969663, 0.023725111, 0.05790292, 0.02344277, 0.0015494449, -0.045955647, 0.030973835, 0.000726969, -0.0207868, -0.030369235, 0.026169313, -0.07031157, -0.015803598, 0.04655254, -0.0071184426, -0.0037786416, -0.0088884225, 0.00046399966, -0.030418197, -0.024434904, 0.0380289, -0.01652895, 0.0427153, 0.005823205, 0.047170527, -0.017375732, -0.016180087, -0.056578908, 0.008047334, 0.019849962, -0.002455584, 0.035076253, 0.009846977, 0.04170239, -0.047400653, -0.05709551, 0.039550275, 0.016479315, -0.030481933, -0.025544178, 0.020205822, 0.010181525, -0.040198833, 0.03138213, 0.014264906, 0.035470102, 0.013764764, 0.013240666, 0.002873777, -0.024422439, 0.013681969, -0.014679195, -0.010850998, 0.01481233, 0.055978134, -0.037839018, -0.02466393, 0.016447833, -0.016413555, -0.01957607, -0.010510437, -0.023603164, -0.011622033, -0.0626549, -0.0394037, -0.036480032, -0.011072256, -0.023365464, 0.00012854137, -0.04459547, 0.040143102, -0.055251196, -0.03374398, -0.035950955, -0.012081316, -0.00696759, -0.12508638, 0.025613047, -0.00045587544, -0.0052528763, -0.040268295, 0.01242485, -0.023150228, -0.00060757785, 0.014097926, -0.023826122, -0.022524614, 0.050386816, -0.04475985, -0.01477798, -0.004878181, 0.028226785, -0.017035343, 0.016645603, -0.01634236, -0.021607805, -0.042360973, -0.012057114, 0.028122636, -0.02773547, 0.051517192, 0.02228397, 0.025017917, 0.04337785, -0.03874531, -0.014324165, 0.017581545, -0.06925104, 0.04152095, -0.0016462657, -0.0511561, -0.026967438, -0.025612094, -0.019050177, -0.004206935, 0.0007248791, -0.004737732, 0.0172731, 0.005348952, -0.025844838, -0.036088586, 0.04586416, -0.027651552, -0.027034832, -0.024575518, 0.0046153637, 0.026863396, -0.019458888, 0.00097492454, 0.01934271, -0.0070128352, 0.024140013, -0.054448497, 0.025559083, -0.0027156775, 0.09898664, -0.0018273903, -0.0009286564, -0.027206486, 0.028778322, -0.023407161, 0.019496033, -0.035355676, 0.005320491, 0.024341157, 0.0061356574, -0.011768396, 0.0052179424, 0.011730144, -0.01740459, 0.034090724, 0.011882698, 0.03483577, 0.015926013, -0.01779994, -0.028424911, 0.035624627, 0.0071604457, -0.044766977, -0.012268026, -0.018012736, 0.006656337, -0.030429384, 0.014538643, 0.012284846, -0.010248971, -0.074584275, -0.013967498, 0.0042691627, 0.010311079, -0.05056917, 0.005551641, -0.021423114, 0.0048343726, -0.032641876, -0.016545312, -0.017303264, -0.0006642855, 0.017349608, 0.027001806, -0.01528235, 0.008174458, 0.06675586, -0.018513476, 0.0066293697, -0.004537948, 0.015748322, -0.008038793, 0.0040578996, 0.03497861, 0.0013598502, -0.0101443725, 0.02936858, 0.033891473, 0.00081083993, 0.02641835, -0.010478615, -0.009212461, -0.021818403, -0.012497708, 0.041694693, 0.053682216, 0.004112763, 0.015837971, 0.09844108, -0.0011581058, 0.02613719, -0.064408585, 0.015456929, -0.009746184, 0.029040143, -0.035151888, 0.030551257, 0.044404615, -0.038271595, -0.06946103, -0.012163406, 0.023515813, -0.022450333, -0.0022829801, -0.049770854, -0.031141127, 0.017653856, -0.010064584, -0.05015703, -0.05394798, -0.0069235507, -0.018300591, 0.0013010862, 0.025878085, -0.0022680247, 0.036993954, -0.024080357, 0.00872905, -0.027476344, 0.028804509, 0.010591139, -0.013599653, -0.029232884, -0.003823516, -0.03969429, -0.02469752, -0.009807011, -0.012827972, -0.017228795, 0.021124082, 0.0054504112, 0.063444346, -0.03496723, 0.040200997, 0.03942881, -0.0117216455, -0.0029187163, 0.063002296, 0.01279339, -0.01911902, 0.025873039, -0.029575666, 0.014674992, 0.020356735, -0.029320352, -0.040244553, -0.012339507, 0.06603995, 0.032031927, -0.005215775, -0.006396303, 0.0069959355, 0.012393573, -0.009005074, 0.03471755, 0.038631853, 0.034793906, 0.03184252, -0.02757329, 0.02742727, -0.0556989, -0.014408923, 0.049323004, -0.015069194, -0.012629679, -0.003213395, -0.04082363, -0.010814199, -0.018654464, 0.0016970069, -0.015474559, -0.024938213, 0.01638046, 0.0084230695, 0.012734212, -0.02612779, 0.02872661, -0.006809882, -0.021059144, -0.012314388, -0.004126401, -0.0117676295, -0.010476593, -0.022829672, 0.013844758, -0.05842594, 0.007471944, 0.048533354, -0.023940356, 0.0066916803, 0.026692696, -0.052397057, -0.045166265, 0.045163643, 0.015258454, -0.01659428, 0.050134324, 0.01252292, -0.008525146, -0.03732737, 0.052073445, -0.018314868, 0.0015651421, -0.025456263]\n"
     ]
    }
   ],
   "source": [
    "embedded_query = embeddings_model.embed_query(\"인공지능이란 무엇인가요?\")\n",
    "\n",
    "# 쿼리 임베딩 결과 출력\n",
    "print(f\"쿼리 임베딩 벡터의 차원: {len(embedded_query)}\")\n",
    "print(embedded_query)"
   ]
  },
  {
   "cell_type": "markdown",
   "id": "13f5f115",
   "metadata": {},
   "source": [
    "`(4) 유사도 기반 검색`"
   ]
  },
  {
   "cell_type": "code",
   "execution_count": 17,
   "id": "c678c6b5",
   "metadata": {},
   "outputs": [
    {
     "name": "stdout",
     "output_type": "stream",
     "text": [
      "쿼리: 인공지능이란 무엇인가요?\n",
      "가장 유사한 문서: 인공지능은 컴퓨터 과학의 한 분야입니다.\n",
      "유사도: 0.7273\n",
      "\n",
      "쿼리: 딥러닝과 머신러닝의 관계는 어떻게 되나요?\n",
      "가장 유사한 문서: 딥러닝은 머신러닝의 한 종류입니다.\n",
      "유사도: 0.7047\n",
      "\n",
      "쿼리: 컴퓨터가 이미지를 이해하는 방법은?\n",
      "가장 유사한 문서: 컴퓨터 비전은 컴퓨터가 디지털 이미지나 비디오를 이해하는 방법을 연구합니다.\n",
      "유사도: 0.6836\n",
      "\n"
     ]
    }
   ],
   "source": [
    "# 예제 쿼리\n",
    "queries = [\n",
    "    \"인공지능이란 무엇인가요?\",\n",
    "    \"딥러닝과 머신러닝의 관계는 어떻게 되나요?\",\n",
    "    \"컴퓨터가 이미지를 이해하는 방법은?\"\n",
    "]\n",
    "\n",
    "# 각 쿼리에 대해 가장 유사한 문서 찾기\n",
    "for query in queries:\n",
    "    most_similar_doc, similarity = find_most_similar(query, document_embeddings)\n",
    "    print(f\"쿼리: {query}\")\n",
    "    print(f\"가장 유사한 문서: {most_similar_doc}\")\n",
    "    print(f\"유사도: {similarity:.4f}\")\n",
    "    print()"
   ]
  },
  {
   "cell_type": "markdown",
   "id": "95d7177b",
   "metadata": {},
   "source": [
    "## 5. 다국어 RAG 시스템 구축 실습"
   ]
  },
  {
   "cell_type": "markdown",
   "id": "0693d5b9",
   "metadata": {},
   "source": [
    "### 5-1 언어 교차(cross-lingual) 검색"
   ]
  },
  {
   "cell_type": "markdown",
   "id": "e51c6bcf",
   "metadata": {},
   "source": [
    "`(1) 다국어 문서 로드 및 전처리` "
   ]
  },
  {
   "cell_type": "code",
   "execution_count": 58,
   "id": "26541439",
   "metadata": {},
   "outputs": [
    {
     "name": "stdout",
     "output_type": "stream",
     "text": [
      "한국어 텍스트 파일: ['data/리비안_KR.txt', 'data/테슬라_KR.txt']\n",
      "영어 텍스트 파일: ['data/Tesla_EN.txt', 'data/Rivian_EN.txt']\n"
     ]
    }
   ],
   "source": [
    "korean_txt_files = glob(os.path.join('data', '*_KR.txt')) \n",
    "english_txt_files = glob(os.path.join('data', '*_EN.txt'))\n",
    "\n",
    "print(\"한국어 텍스트 파일:\", korean_txt_files)\n",
    "print(\"영어 텍스트 파일:\", english_txt_files)"
   ]
  },
  {
   "cell_type": "code",
   "execution_count": 59,
   "id": "4b74f19d",
   "metadata": {},
   "outputs": [
    {
     "name": "stdout",
     "output_type": "stream",
     "text": [
      "한국어 데이터 수: 2\n",
      "영어 데이터 수: 2\n"
     ]
    }
   ],
   "source": [
    "from langchain_community.document_loaders import TextLoader\n",
    "\n",
    "def load_text_files(txt_files):\n",
    "    data = []\n",
    "\n",
    "    for text_file in txt_files:\n",
    "        loader = TextLoader(text_file, encoding='utf-8')\n",
    "        data += loader.load()\n",
    "\n",
    "    return data\n",
    "\n",
    "\n",
    "korean_data = load_text_files(korean_txt_files)\n",
    "english_data = load_text_files(english_txt_files)\n",
    "\n",
    "print(\"한국어 데이터 수:\", len(korean_data))\n",
    "print(\"영어 데이터 수:\", len(english_data))"
   ]
  },
  {
   "cell_type": "code",
   "execution_count": 60,
   "id": "e8bb6bf1",
   "metadata": {},
   "outputs": [
    {
     "name": "stdout",
     "output_type": "stream",
     "text": [
      "한국어 문서 수: 13\n",
      "영어 문서 수: 6\n"
     ]
    }
   ],
   "source": [
    "# 문장을 구분하여 분할 (마침표, 느낌표, 물음표 다음에 공백이 오는 경우 문장의 끝으로 판단)\n",
    "from langchain_text_splitters import CharacterTextSplitter\n",
    "\n",
    "text_splitter = CharacterTextSplitter.from_tiktoken_encoder(\n",
    "    model_name=\"text-embedding-3-small\",\n",
    "    separator=r\"[.!?]\\s+\",\n",
    "    chunk_size=100,\n",
    "    chunk_overlap=0,\n",
    "    is_separator_regex=True,\n",
    "    keep_separator=False,\n",
    ")\n",
    "\n",
    "korean_docs = text_splitter.split_documents(korean_data)\n",
    "english_docs = text_splitter.split_documents(english_data)\n",
    "\n",
    "print(\"한국어 문서 수:\", len(korean_docs))\n",
    "print(\"영어 문서 수:\", len(english_docs))"
   ]
  },
  {
   "cell_type": "code",
   "execution_count": 61,
   "id": "5d55f1b7",
   "metadata": {},
   "outputs": [
    {
     "name": "stdout",
     "output_type": "stream",
     "text": [
      "리비안은 MIT 박사 출신 RJ 스카린지가 2009년에 설립한 혁신적인 미국 전기차 제조업\n",
      "--------------------------------------------------\n",
      " MIT 박사 출신 RJ 스카린지가 2009년에 설립한 혁신적인 미국 전기차 제조업체입니다\n",
      "==================================================\n",
      "\n",
      "2011년부터 자율 전기차에 집중한 리비안은 2015년 대규모 투자를 통해 크게 성장하며 \n",
      "--------------------------------------------------\n",
      "은 2015년 대규모 투자를 통해 크게 성장하며 미시간과 베이 지역에 연구소를 설립했습니다\n",
      "==================================================\n",
      "\n"
     ]
    }
   ],
   "source": [
    "# 각 청크의 시작 부분과 끝 부분 확인\n",
    "for doc in korean_docs[:2]:\n",
    "    print(doc.page_content[:50])\n",
    "    print(\"-\" * 50)\n",
    "    print(doc.page_content[-50:])\n",
    "    print(\"=\" * 50)\n",
    "    print()"
   ]
  },
  {
   "cell_type": "code",
   "execution_count": 62,
   "id": "9124c455",
   "metadata": {},
   "outputs": [
    {
     "name": "stdout",
     "output_type": "stream",
     "text": [
      "Tesla, Inc., headquartered in Austin, Texas, is a \n",
      "--------------------------------------------------\n",
      ", steering the company towards its current success\n",
      "==================================================\n",
      "\n",
      "The company is named after the renowned physicist \n",
      "--------------------------------------------------\n",
      "umulative global sales exceeded 4,962,975 vehicles\n",
      "==================================================\n",
      "\n"
     ]
    }
   ],
   "source": [
    "# 각 청크의 시작 부분과 끝 부분 확인\n",
    "for doc in english_docs[:2]:\n",
    "    print(doc.page_content[:50])\n",
    "    print(\"-\" * 50)\n",
    "    print(doc.page_content[-50:])\n",
    "    print(\"=\" * 50)\n",
    "    print()"
   ]
  },
  {
   "cell_type": "markdown",
   "id": "aa5b01db",
   "metadata": {},
   "source": [
    "`(2) 문서 임베딩 및 벡터저장소에 저장 `  "
   ]
  },
  {
   "cell_type": "code",
   "execution_count": 63,
   "id": "abe717fa",
   "metadata": {},
   "outputs": [],
   "source": [
    "# OpenAI 임베딩 모델 생성\n",
    "embeddings_openai = OpenAIEmbeddings(model=\"text-embedding-3-small\")\n",
    "\n",
    "# Hugoing Face 임베딩 모델 생성\n",
    "embeddings_huggingface = HuggingFaceEmbeddings(model_name=\"BAAI/bge-m3\")\n",
    "\n",
    "# Ollama 임베딩 모델 생성\n",
    "embeddings_ollama = OllamaEmbeddings(model=\"nomic-embed-text\")"
   ]
  },
  {
   "cell_type": "code",
   "execution_count": 64,
   "id": "b7c2f9bd",
   "metadata": {},
   "outputs": [
    {
     "name": "stdout",
     "output_type": "stream",
     "text": [
      "OpenAI: 19\n",
      "Hugging Face: 19\n",
      "Ollama: 19\n"
     ]
    }
   ],
   "source": [
    "# 다국어 벡터 저장소 구축\n",
    "from langchain_chroma import Chroma\n",
    "\n",
    "db_openai = Chroma.from_documents(\n",
    "    documents=korean_docs+english_docs, \n",
    "    embedding=embeddings_openai,\n",
    "    collection_name=\"db_openai\",\n",
    "    persist_directory=\"./chroma_db\",\n",
    "    )\n",
    "\n",
    "db_huggingface = Chroma.from_documents(\n",
    "    documents=korean_docs+english_docs, \n",
    "    embedding=embeddings_huggingface,\n",
    "    collection_name=\"db_huggingface\",\n",
    "    persist_directory=\"./chroma_db\",\n",
    "    )\n",
    "\n",
    "db_ollama = Chroma.from_documents(\n",
    "    documents=korean_docs+english_docs, \n",
    "    embedding=embeddings_ollama,\n",
    "    collection_name=\"db_ollama\",\n",
    "    persist_directory=\"./chroma_db\",\n",
    "    )\n",
    "\n",
    "# 벡터 저장소에 저장된 문서 수\n",
    "print(f\"OpenAI: {db_openai._collection.count()}\")\n",
    "print(f\"Hugging Face: {db_huggingface._collection.count()}\")\n",
    "print(f\"Ollama: {db_ollama._collection.count()}\")"
   ]
  },
  {
   "cell_type": "markdown",
   "id": "1e791c6a",
   "metadata": {},
   "source": [
    "`(3) RAG 성능 비교 `  "
   ]
  },
  {
   "cell_type": "code",
   "execution_count": 65,
   "id": "fa08dbe9",
   "metadata": {},
   "outputs": [],
   "source": [
    "# RAG 체인 생성\n",
    "from langchain.prompts import ChatPromptTemplate\n",
    "from langchain_core.output_parsers import StrOutputParser\n",
    "from langchain_openai import ChatOpenAI\n",
    "from langchain_core.runnables import RunnablePassthrough\n",
    "\n",
    "template = \"\"\"Answer the question based only on the following context.\n",
    "Do not use any external information or knowledge. \n",
    "If the answer is not in the context, answer \"잘 모르겠습니다.\".\n",
    "\n",
    "[Context]\n",
    "{context}\n",
    "\n",
    "[Question] \n",
    "{question}\n",
    "\n",
    "[Answer]\n",
    "\"\"\"\n",
    "\n",
    "prompt = ChatPromptTemplate.from_template(template)\n",
    "\n",
    "\n",
    "# 문서 포맷터 함수\n",
    "def format_docs(docs):\n",
    "    return \"\\n\\n\".join([d.page_content for d in docs])\n",
    "\n",
    "\n",
    "# LLM 모델 생성\n",
    "llm = ChatOpenAI(model=\"gpt-4o-mini\", temperature=0)\n",
    "\n",
    "# 체인 생성\n",
    "def create_rag_chain(vectorstore):\n",
    "\n",
    "    retriever = vectorstore.as_retriever(search_kwargs={'k': 2})\n",
    "\n",
    "    return (\n",
    "        {\"context\": retriever | format_docs , \"question\": RunnablePassthrough()}\n",
    "        | prompt\n",
    "        | llm\n",
    "        | StrOutputParser()\n",
    "    )"
   ]
  },
  {
   "cell_type": "code",
   "execution_count": 66,
   "id": "50d52cf3",
   "metadata": {},
   "outputs": [],
   "source": [
    "# 체인 생성\n",
    "rag_chain_openai = create_rag_chain(db_openai)\n",
    "rag_chain_huggingface = create_rag_chain(db_huggingface)\n",
    "rag_chain_ollama = create_rag_chain(db_ollama)"
   ]
  },
  {
   "cell_type": "code",
   "execution_count": 67,
   "id": "52bc778f",
   "metadata": {},
   "outputs": [
    {
     "name": "stdout",
     "output_type": "stream",
     "text": [
      "OpenAI: 마틴 에버하드와 마크 타페닝입니다.\n",
      "Hugging Face: 마틴 에버하드와 마크 타페닝입니다.\n",
      "Ollama: 잘 모르겠습니다.\n"
     ]
    }
   ],
   "source": [
    "# 한국어 쿼리에 대한 성능 평가\n",
    "query_ko = \"테슬라 창업자는 누구인가요?\"\n",
    "\n",
    "# OpenAI\n",
    "output_openai = rag_chain_openai.invoke(query_ko)\n",
    "print(\"OpenAI:\", output_openai)\n",
    "\n",
    "# Hugging Face\n",
    "output_huggingface = rag_chain_huggingface.invoke(query_ko)\n",
    "print(\"Hugging Face:\", output_huggingface)\n",
    "\n",
    "# Ollama\n",
    "output_ollama = rag_chain_ollama.invoke(query_ko)\n",
    "print(\"Ollama:\", output_ollama)"
   ]
  },
  {
   "cell_type": "code",
   "execution_count": 68,
   "id": "dc23ea46",
   "metadata": {},
   "outputs": [
    {
     "name": "stdout",
     "output_type": "stream",
     "text": [
      "OpenAI: Tesla was founded by Martin Eberhard and Marc Tarpenning.\n",
      "Hugging Face: Tesla was founded by Martin Eberhard and Marc Tarpenning.\n",
      "Ollama: Martin Eberhard and Marc Tarpenning are the founders of Tesla.\n"
     ]
    }
   ],
   "source": [
    "# 영어 쿼리에 대한 성능 평가\n",
    "query_en = \"Who is the founder of Tesla?\"\n",
    "\n",
    "# OpenAI\n",
    "output_openai = rag_chain_openai.invoke(query_en)\n",
    "print(\"OpenAI:\", output_openai)\n",
    "\n",
    "# Hugging Face\n",
    "output_huggingface = rag_chain_huggingface.invoke(query_en)\n",
    "print(\"Hugging Face:\", output_huggingface)\n",
    "\n",
    "# Ollama\n",
    "output_ollama = rag_chain_ollama.invoke(query_en)\n",
    "print(\"Ollama:\", output_ollama)"
   ]
  },
  {
   "cell_type": "markdown",
   "id": "f70818e6",
   "metadata": {},
   "source": [
    "### 5-2 언어 감지 및 자동번역 통합 "
   ]
  },
  {
   "cell_type": "markdown",
   "id": "a19b80a6",
   "metadata": {},
   "source": [
    "`(1) 한국어 문서 벡터저장소 로드 `  "
   ]
  },
  {
   "cell_type": "code",
   "execution_count": 71,
   "id": "012a1ef5",
   "metadata": {},
   "outputs": [
    {
     "name": "stdout",
     "output_type": "stream",
     "text": [
      "벡터 저장소에 저장된 문서 수: 5\n"
     ]
    }
   ],
   "source": [
    "# 한국어 문서로 저장되어 있는 벡터 저장소 로드\n",
    "from langchain_chroma import Chroma\n",
    "from langchain_openai import OpenAIEmbeddings\n",
    "\n",
    "embeddings = OpenAIEmbeddings(\n",
    "    model=\"text-embedding-3-small\", \n",
    ")\n",
    "\n",
    "vectorstore = Chroma(\n",
    "    embedding_function=embeddings,\n",
    "    collection_name=\"chroma_test\",\n",
    "    persist_directory=\"./chroma_db\",\n",
    "    )\n",
    "\n",
    "print(f\"벡터 저장소에 저장된 문서 수: {vectorstore._collection.count()}\")"
   ]
  },
  {
   "cell_type": "code",
   "execution_count": 74,
   "id": "21796bf9",
   "metadata": {},
   "outputs": [
    {
     "name": "stdout",
     "output_type": "stream",
     "text": [
      "Detected language: en\n",
      "Translated text: 안녕하세요. 안녕하세요?\n"
     ]
    }
   ],
   "source": [
    "import deepl\n",
    "from langdetect import detect\n",
    "\n",
    "translator = deepl.Translator(os.getenv('DEEPL_API_KEY'))\n",
    "\n",
    "def detect_and_translate(text, target_lang='KO'):\n",
    "    detected_lang = detect(text)\n",
    "    if detected_lang.upper() != target_lang:\n",
    "        result = translator.translate_text(text, target_lang=target_lang)\n",
    "        return str(result), detected_lang\n",
    "    return text, detected_lang\n",
    "\n",
    "# 문서 번역 테스트\n",
    "text = \"Hello. How are you?\"\n",
    "translated_text, detected_lang = detect_and_translate(text, target_lang='KO')\n",
    "print(f\"Detected language: {detected_lang}\")\n",
    "print(f\"Translated text: {translated_text}\")"
   ]
  },
  {
   "cell_type": "markdown",
   "id": "d44368c9",
   "metadata": {},
   "source": [
    "`(2) RAG 체인 성능 평가 `  "
   ]
  },
  {
   "cell_type": "code",
   "execution_count": 75,
   "id": "bd44fdc2",
   "metadata": {},
   "outputs": [],
   "source": [
    "retriever = vectorstore.as_retriever(search_kwargs={'k': 2})\n",
    "\n",
    "lang_rag_chain = (\n",
    "        {\"context\": retriever | format_docs , \"question\": RunnablePassthrough()}\n",
    "        | prompt\n",
    "        | llm\n",
    "        | StrOutputParser()\n",
    "    )\n",
    "\n",
    "# 체인 실행 함수\n",
    "def run_lang_rag_chain(query):\n",
    "    original_lang = detect(query)\n",
    "    \n",
    "    if original_lang.upper() != 'KO':\n",
    "        translated_query, _ = detect_and_translate(query, target_lang='KO')\n",
    "    else:\n",
    "        translated_query = query\n",
    "    \n",
    "    output = lang_rag_chain.invoke(translated_query)\n",
    "    \n",
    "    if original_lang.upper() != 'KO':\n",
    "        target_lang = 'EN-US' if original_lang.upper() == 'EN' else original_lang\n",
    "        output, _ = detect_and_translate(output, target_lang=target_lang)\n",
    "    \n",
    "    return output\n",
    "    "
   ]
  },
  {
   "cell_type": "code",
   "execution_count": 76,
   "id": "5dea660b",
   "metadata": {},
   "outputs": [
    {
     "name": "stdout",
     "output_type": "stream",
     "text": [
      "마틴 에버하드와 마크 타페닝입니다.\n",
      "Martin Everhard and Mark Tappening.\n"
     ]
    }
   ],
   "source": [
    "# 한국어 쿼리에 대한 성능 평가\n",
    "query_ko = \"테슬라 창업자는 누구인가요?\"\n",
    "\n",
    "output = run_lang_rag_chain(query_ko)\n",
    "print(output)\n",
    "\n",
    "# 영어 쿼리에 대한 성능 평가\n",
    "query_en = \"Who is the founder of Tesla?\"\n",
    "\n",
    "output = run_lang_rag_chain(query_en)\n",
    "print(output)"
   ]
  },
  {
   "cell_type": "markdown",
   "id": "031d5de6",
   "metadata": {},
   "source": [
    "### 5-3 언어 감지 및 벡터저장소 라우팅"
   ]
  },
  {
   "cell_type": "markdown",
   "id": "0ea5168a",
   "metadata": {},
   "source": [
    "`(1) 언어별 벡터저장소 생성 `  "
   ]
  },
  {
   "cell_type": "code",
   "execution_count": 77,
   "id": "4fdd2bd6",
   "metadata": {},
   "outputs": [
    {
     "name": "stdout",
     "output_type": "stream",
     "text": [
      "한국어: 13\n",
      "영어: 6\n"
     ]
    }
   ],
   "source": [
    "# 한국어 문서, 영어 문서를 각각 다른 벡터 저장소에 저장\n",
    "db_korean = Chroma.from_documents(\n",
    "    documents=korean_docs, \n",
    "    embedding=embeddings_huggingface,    # huggingface 임베딩 사용\n",
    "    collection_name=\"db_korean\",\n",
    "    persist_directory=\"./chroma_db\",\n",
    "    )\n",
    "\n",
    "db_english = Chroma.from_documents(\n",
    "    documents=english_docs, \n",
    "    embedding=embeddings_ollama,        # ollama 임베딩 사용\n",
    "    collection_name=\"db_english\",\n",
    "    persist_directory=\"./chroma_db\",\n",
    "    )\n",
    "\n",
    "# 벡터 저장소에 저장된 문서 수\n",
    "print(f\"한국어: {db_korean._collection.count()}\")\n",
    "print(f\"영어: {db_english._collection.count()}\")"
   ]
  },
  {
   "cell_type": "markdown",
   "id": "66434a3c",
   "metadata": {},
   "source": [
    "`(2) RAG 체인 성능 평가 `  "
   ]
  },
  {
   "cell_type": "code",
   "execution_count": 78,
   "id": "002d911c",
   "metadata": {},
   "outputs": [
    {
     "name": "stdout",
     "output_type": "stream",
     "text": [
      "마틴 에버하드와 마크 타페닝입니다.\n",
      "Tesla was founded by Martin Eberhard and Marc Tarpenning.\n"
     ]
    }
   ],
   "source": [
    "# 체인 실행 함수\n",
    "from langdetect import detect\n",
    "\n",
    "rag_chain_korean = create_rag_chain(db_korean)\n",
    "rag_chain_english = create_rag_chain(db_english)\n",
    "\n",
    "\n",
    "def run_route_rag_chain(query):\n",
    "    original_lang = detect(query)\n",
    "    \n",
    "    if original_lang.upper() == 'KO':\n",
    "        return rag_chain_korean.invoke(query)\n",
    "        \n",
    "    elif original_lang.upper() == 'EN' :\n",
    "        return rag_chain_english.invoke(query)\n",
    "    \n",
    "    else:\n",
    "        return \"잘 모르겠습니다.\"\n",
    "    \n",
    "# 한국어 쿼리에 대한 성능 평가\n",
    "query_ko = \"테슬라 창업자는 누구인가요?\"\n",
    "\n",
    "output = run_route_rag_chain(query_ko)\n",
    "print(output)\n",
    "\n",
    "# 영어 쿼리에 대한 성능 평가\n",
    "query_en = \"Who is the founder of Tesla?\"\n",
    "\n",
    "output = run_route_rag_chain(query_en)\n",
    "print(output)"
   ]
  },
  {
   "cell_type": "markdown",
   "id": "fceb9f42",
   "metadata": {},
   "source": [
    "## 6. Gradio 챗봇"
   ]
  },
  {
   "cell_type": "markdown",
   "id": "c57035b9",
   "metadata": {},
   "source": [
    "`(1) invoke 실행` \n",
    "\n",
    "- chat history 기능을 추가"
   ]
  },
  {
   "cell_type": "code",
   "execution_count": 79,
   "id": "8b207180",
   "metadata": {},
   "outputs": [
    {
     "name": "stdout",
     "output_type": "stream",
     "text": [
      "Running on local URL:  http://127.0.0.1:7860\n",
      "\n",
      "To create a public link, set `share=True` in `launch()`.\n"
     ]
    },
    {
     "data": {
      "text/html": [
       "<div><iframe src=\"http://127.0.0.1:7860/\" width=\"100%\" height=\"500\" allow=\"autoplay; camera; microphone; clipboard-read; clipboard-write;\" frameborder=\"0\" allowfullscreen></iframe></div>"
      ],
      "text/plain": [
       "<IPython.core.display.HTML object>"
      ]
     },
     "metadata": {},
     "output_type": "display_data"
    },
    {
     "data": {
      "text/plain": []
     },
     "execution_count": 79,
     "metadata": {},
     "output_type": "execute_result"
    }
   ],
   "source": [
    "import gradio as gr\n",
    "from langchain_core.messages import HumanMessage, AIMessage\n",
    "\n",
    "# 답변 생성 모델을 별도로 사용\n",
    "answer_llm = ChatOpenAI(model=\"gpt-4o-mini\", temperature=0)\n",
    "\n",
    "\n",
    "def answer_invoke(message, history):\n",
    "    history_langchain_format = []\n",
    "    for human, ai in history:\n",
    "        history_langchain_format.append(HumanMessage(content=human))\n",
    "        history_langchain_format.append(AIMessage(content=ai))\n",
    "    history_langchain_format.append(HumanMessage(content=message))\n",
    "\n",
    "    # 현재 메시지에 대해 RAG 체인 실행\n",
    "    rag_response = run_route_rag_chain(message)\n",
    "\n",
    "    # 답변 생성 모델에게 현재 메시지에 대한 답변 요청\n",
    "    final_answer = answer_llm.invoke(\n",
    "        history_langchain_format[:-1] + [AIMessage(content=rag_response)] + [HumanMessage(content=message)]\n",
    "    )\n",
    "    \n",
    "    return final_answer.content\n",
    "\n",
    "\n",
    "# Graiio 인터페이스 생성 \n",
    "demo = gr.ChatInterface(fn=answer_invoke, title=\"QA Bot\")\n",
    "\n",
    "# Graiio 실행  \n",
    "demo.launch()"
   ]
  },
  {
   "cell_type": "code",
   "execution_count": 80,
   "id": "82f7a6d2",
   "metadata": {},
   "outputs": [
    {
     "name": "stdout",
     "output_type": "stream",
     "text": [
      "Closing server running on port: 7860\n"
     ]
    }
   ],
   "source": [
    "# Graiio 종료\n",
    "demo.close()"
   ]
  },
  {
   "cell_type": "code",
   "execution_count": null,
   "id": "5b16b8d4",
   "metadata": {},
   "outputs": [],
   "source": []
  }
 ],
 "metadata": {
  "kernelspec": {
   "display_name": "langchain-env-piYnTqFT-py3.11",
   "language": "python",
   "name": "python3"
  },
  "language_info": {
   "codemirror_mode": {
    "name": "ipython",
    "version": 3
   },
   "file_extension": ".py",
   "mimetype": "text/x-python",
   "name": "python",
   "nbconvert_exporter": "python",
   "pygments_lexer": "ipython3",
   "version": "3.11.10"
  }
 },
 "nbformat": 4,
 "nbformat_minor": 5
}
